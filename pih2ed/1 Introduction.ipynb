{
 "cells": [
  {
   "cell_type": "markdown",
   "metadata": {},
   "source": [
    "# 1 Introduction"
   ]
  },
  {
   "cell_type": "markdown",
   "metadata": {},
   "source": [
    "This IHaskell notebook outlines a chapter from the 2nd edition of *Programming in Haskell* by Prof. Graham Hutton,\n",
    "demonstrating examples and summarising some of the sections."
   ]
  },
  {
   "cell_type": "markdown",
   "metadata": {},
   "source": [
    "## 1.1 Functions"
   ]
  },
  {
   "cell_type": "code",
   "execution_count": 1,
   "metadata": {},
   "outputs": [],
   "source": [
    "double x = x + x"
   ]
  },
  {
   "cell_type": "code",
   "execution_count": 2,
   "metadata": {},
   "outputs": [
    {
     "data": {
      "text/plain": [
       "6"
      ]
     },
     "metadata": {},
     "output_type": "display_data"
    }
   ],
   "source": [
    "double 3"
   ]
  },
  {
   "cell_type": "code",
   "execution_count": 3,
   "metadata": {},
   "outputs": [
    {
     "data": {
      "text/plain": [
       "True"
      ]
     },
     "metadata": {},
     "output_type": "display_data"
    },
    {
     "data": {
      "text/plain": [
       "True"
      ]
     },
     "metadata": {},
     "output_type": "display_data"
    }
   ],
   "source": [
    "double 3\n",
    "  == {- applying double -}    6\n",
    "3 + 3\n",
    "  == {- applying + -}\n",
    "  6"
   ]
  },
  {
   "cell_type": "code",
   "execution_count": 4,
   "metadata": {},
   "outputs": [
    {
     "data": {
      "text/plain": [
       "True"
      ]
     },
     "metadata": {},
     "output_type": "display_data"
    },
    {
     "data": {
      "text/plain": [
       "True"
      ]
     },
     "metadata": {},
     "output_type": "display_data"
    },
    {
     "data": {
      "text/plain": [
       "True"
      ]
     },
     "metadata": {},
     "output_type": "display_data"
    },
    {
     "data": {
      "text/plain": [
       "True"
      ]
     },
     "metadata": {},
     "output_type": "display_data"
    }
   ],
   "source": [
    "double (double 2)\n",
    "  == {- applying the inner double -}   8\n",
    "double (2 + 2)\n",
    "  == {- applying + -}                  8\n",
    "double 4\n",
    "  == {- applying double -}             8\n",
    "4 + 4\n",
    "  == {- applying + -}\n",
    "  8"
   ]
  },
  {
   "cell_type": "code",
   "execution_count": 5,
   "metadata": {},
   "outputs": [
    {
     "data": {
      "text/plain": [
       "True"
      ]
     },
     "metadata": {},
     "output_type": "display_data"
    },
    {
     "data": {
      "text/plain": [
       "True"
      ]
     },
     "metadata": {},
     "output_type": "display_data"
    },
    {
     "data": {
      "text/plain": [
       "True"
      ]
     },
     "metadata": {},
     "output_type": "display_data"
    },
    {
     "data": {
      "text/plain": [
       "True"
      ]
     },
     "metadata": {},
     "output_type": "display_data"
    },
    {
     "data": {
      "text/plain": [
       "True"
      ]
     },
     "metadata": {},
     "output_type": "display_data"
    },
    {
     "data": {
      "text/plain": [
       "True"
      ]
     },
     "metadata": {},
     "output_type": "display_data"
    }
   ],
   "source": [
    "double (double 2)\n",
    "  == {- applying the outer double -}   8\n",
    "double 2 + double 2\n",
    "  == {- applying the first double -}    8\n",
    "(2 + 2) + double 2\n",
    "  == {- applying the first + -}        8\n",
    "4 + double 2\n",
    "  == {- applying double -}             8\n",
    "4 + (2 + 2)\n",
    "  == {- applying the second + -}       8\n",
    "4 + 4\n",
    "  == {- applying + -}\n",
    "  8"
   ]
  },
  {
   "cell_type": "markdown",
   "metadata": {},
   "source": [
    "## 1.2 Functional Programming"
   ]
  },
  {
   "cell_type": "markdown",
   "metadata": {},
   "source": [
    "*imperative* languages\n",
    "```java\n",
    "int total = 0;\n",
    "for (int count = 1; count <= n; count++)\n",
    "  total = total + count;\n",
    "```\n",
    "\n",
    "basic method of computation = *chainging stored values*\n",
    "\n",
    "e.g., `n = 5`\n",
    "```java\n",
    "total = 0;\n",
    "count = 1;\n",
    "total = 1;\n",
    "count = 2;\n",
    "total = 3;\n",
    "count = 3;\n",
    "total = 6;\n",
    "count = 4;\n",
    "total = 10;\n",
    "count = 5;\n",
    "total = 15;\n",
    "```"
   ]
  },
  {
   "cell_type": "markdown",
   "metadata": {},
   "source": [
    "*functional* languages\n",
    "```haskell\n",
    "sum [1..5]\n",
    "```\n",
    "\n",
    "basic method of computation = *applying functions to arguments*\n",
    "\n",
    "e.g.,"
   ]
  },
  {
   "cell_type": "code",
   "execution_count": 6,
   "metadata": {},
   "outputs": [
    {
     "data": {
      "text/plain": [
       "True"
      ]
     },
     "metadata": {},
     "output_type": "display_data"
    },
    {
     "data": {
      "text/plain": [
       "True"
      ]
     },
     "metadata": {},
     "output_type": "display_data"
    },
    {
     "data": {
      "text/plain": [
       "True"
      ]
     },
     "metadata": {},
     "output_type": "display_data"
    }
   ],
   "source": [
    "sum [1..5]\n",
    "  == {- applying [..] -}    15\n",
    "sum [1,2,3,4,5]\n",
    "  == {- applying sum -}     15\n",
    "1 + 2 + 3 + 4 + 5\n",
    "  == {- applying + -}\n",
    "  15"
   ]
  },
  {
   "cell_type": "markdown",
   "metadata": {},
   "source": [
    "## 1.3 Features of Haskell\n",
    "* Consice programs (chapters 2 and 4)\n",
    "* Powerful type system (chapters 3 and 8)\n",
    "* List comprehensions (chapters 5)\n",
    "* Recursive functions (chapter 6)\n",
    "* Higher-order functions (chapter 7)\n",
    "* Effectful functions (chapters 10 and 12)\n",
    "* Generic functions (chapters 12 and 14)\n",
    "* Lazy evaluation (chapter 15)"
   ]
  },
  {
   "cell_type": "markdown",
   "metadata": {},
   "source": [
    "## 1.4 Historical background\n",
    "* 1930s, Alonzo Church developed $\\lambda$-calculus\n",
    "* 1950s, John McCarthy devloped Lisp (\"LISt Processor\"), the first functional programming language\n",
    "* 1960s, Peter Landin developed ISWIM (\"If you See What I Mean\"), the first pure functional programming language\n",
    "* 1970s, John Backus developed FP (\"Functional Programming\"), particularly emphasised higher-order functions and reasoning about programs\n",
    "* 1987, an international committee of PL researchers initiated the development of Haskell (named after the logician Haskell Curry), a standard lazy functional programming language\n",
    "* 1990s, Philip Wadler and others developed the concept of type classes and the use of monads, two of the innovative features of Haskell\n",
    "* 2003, the Haskell committee published the Haskell Report (Haskell 98)\n",
    "* 2010, a revised and updated version of the Haskell Report (Haskell 2010)\n",
    "\n",
    "Note, 3 of above individuals -- McCarthy, Backus, and Milner -- has each recieved the ACM Turing Award."
   ]
  },
  {
   "cell_type": "markdown",
   "metadata": {},
   "source": [
    "## 1.5 A taste of Haskell"
   ]
  },
  {
   "cell_type": "markdown",
   "metadata": {},
   "source": [
    "### Summing numbers"
   ]
  },
  {
   "cell_type": "markdown",
   "metadata": {},
   "source": [
    "In Haskell, `sum` can be defined using two equations:"
   ]
  },
  {
   "cell_type": "code",
   "execution_count": 7,
   "metadata": {},
   "outputs": [
    {
     "data": {
      "text/html": [
       "<style>/* Styles used for the Hoogle display in the pager */\n",
       ".hoogle-doc {\n",
       "display: block;\n",
       "padding-bottom: 1.3em;\n",
       "padding-left: 0.4em;\n",
       "}\n",
       ".hoogle-code {\n",
       "display: block;\n",
       "font-family: monospace;\n",
       "white-space: pre;\n",
       "}\n",
       ".hoogle-text {\n",
       "display: block;\n",
       "}\n",
       ".hoogle-name {\n",
       "color: green;\n",
       "font-weight: bold;\n",
       "}\n",
       ".hoogle-head {\n",
       "font-weight: bold;\n",
       "}\n",
       ".hoogle-sub {\n",
       "display: block;\n",
       "margin-left: 0.4em;\n",
       "}\n",
       ".hoogle-package {\n",
       "font-weight: bold;\n",
       "font-style: italic;\n",
       "}\n",
       ".hoogle-module {\n",
       "font-weight: bold;\n",
       "}\n",
       ".hoogle-class {\n",
       "font-weight: bold;\n",
       "}\n",
       ".get-type {\n",
       "color: green;\n",
       "font-weight: bold;\n",
       "font-family: monospace;\n",
       "display: block;\n",
       "white-space: pre-wrap;\n",
       "}\n",
       ".show-type {\n",
       "color: green;\n",
       "font-weight: bold;\n",
       "font-family: monospace;\n",
       "margin-left: 1em;\n",
       "}\n",
       ".mono {\n",
       "font-family: monospace;\n",
       "display: block;\n",
       "}\n",
       ".err-msg {\n",
       "color: red;\n",
       "font-style: italic;\n",
       "font-family: monospace;\n",
       "white-space: pre;\n",
       "display: block;\n",
       "}\n",
       "#unshowable {\n",
       "color: red;\n",
       "font-weight: bold;\n",
       "}\n",
       ".err-msg.in.collapse {\n",
       "padding-top: 0.7em;\n",
       "}\n",
       ".highlight-code {\n",
       "white-space: pre;\n",
       "font-family: monospace;\n",
       "}\n",
       ".suggestion-warning { \n",
       "font-weight: bold;\n",
       "color: rgb(200, 130, 0);\n",
       "}\n",
       ".suggestion-error { \n",
       "font-weight: bold;\n",
       "color: red;\n",
       "}\n",
       ".suggestion-name {\n",
       "font-weight: bold;\n",
       "}\n",
       "</style><div class=\"suggestion-name\" style=\"clear:both;\">Use foldr</div><div class=\"suggestion-row\" style=\"float: left;\"><div class=\"suggestion-warning\">Found:</div><div class=\"highlight-code\" id=\"haskell\">sum [] = 0\n",
       "sum (n : ns) = n + sum ns</div></div><div class=\"suggestion-row\" style=\"float: left;\"><div class=\"suggestion-warning\">Why Not:</div><div class=\"highlight-code\" id=\"haskell\">sum ns = foldr (+) 0 ns</div></div>"
      ],
      "text/plain": [
       "Line 1: Use foldr\n",
       "Found:\n",
       "sum [] = 0\n",
       "sum (n : ns) = n + sum ns\n",
       "Why not:\n",
       "sum ns = foldr (+) 0 ns"
      ]
     },
     "metadata": {},
     "output_type": "display_data"
    }
   ],
   "source": [
    "sum []     = 0\n",
    "sum (n:ns) = n + sum ns"
   ]
  },
  {
   "cell_type": "markdown",
   "metadata": {},
   "source": [
    "$0$ is the *identity* for addition. That is, $0 + x = x$ and  $x = x + 0$ for any number $x$."
   ]
  },
  {
   "cell_type": "markdown",
   "metadata": {},
   "source": [
    "In Haskell, every function has a `type` that specifies the nature of its arguments and results."
   ]
  },
  {
   "cell_type": "code",
   "execution_count": 8,
   "metadata": {},
   "outputs": [
    {
     "data": {
      "text/html": [
       "<style>/* Styles used for the Hoogle display in the pager */\n",
       ".hoogle-doc {\n",
       "display: block;\n",
       "padding-bottom: 1.3em;\n",
       "padding-left: 0.4em;\n",
       "}\n",
       ".hoogle-code {\n",
       "display: block;\n",
       "font-family: monospace;\n",
       "white-space: pre;\n",
       "}\n",
       ".hoogle-text {\n",
       "display: block;\n",
       "}\n",
       ".hoogle-name {\n",
       "color: green;\n",
       "font-weight: bold;\n",
       "}\n",
       ".hoogle-head {\n",
       "font-weight: bold;\n",
       "}\n",
       ".hoogle-sub {\n",
       "display: block;\n",
       "margin-left: 0.4em;\n",
       "}\n",
       ".hoogle-package {\n",
       "font-weight: bold;\n",
       "font-style: italic;\n",
       "}\n",
       ".hoogle-module {\n",
       "font-weight: bold;\n",
       "}\n",
       ".hoogle-class {\n",
       "font-weight: bold;\n",
       "}\n",
       ".get-type {\n",
       "color: green;\n",
       "font-weight: bold;\n",
       "font-family: monospace;\n",
       "display: block;\n",
       "white-space: pre-wrap;\n",
       "}\n",
       ".show-type {\n",
       "color: green;\n",
       "font-weight: bold;\n",
       "font-family: monospace;\n",
       "margin-left: 1em;\n",
       "}\n",
       ".mono {\n",
       "font-family: monospace;\n",
       "display: block;\n",
       "}\n",
       ".err-msg {\n",
       "color: red;\n",
       "font-style: italic;\n",
       "font-family: monospace;\n",
       "white-space: pre;\n",
       "display: block;\n",
       "}\n",
       "#unshowable {\n",
       "color: red;\n",
       "font-weight: bold;\n",
       "}\n",
       ".err-msg.in.collapse {\n",
       "padding-top: 0.7em;\n",
       "}\n",
       ".highlight-code {\n",
       "white-space: pre;\n",
       "font-family: monospace;\n",
       "}\n",
       ".suggestion-warning { \n",
       "font-weight: bold;\n",
       "color: rgb(200, 130, 0);\n",
       "}\n",
       ".suggestion-error { \n",
       "font-weight: bold;\n",
       "color: red;\n",
       "}\n",
       ".suggestion-name {\n",
       "font-weight: bold;\n",
       "}\n",
       "</style><span class='get-type'>sum :: forall p. Num p => [p] -> p</span>"
      ],
      "text/plain": [
       "sum :: forall p. Num p => [p] -> p"
      ]
     },
     "metadata": {},
     "output_type": "display_data"
    }
   ],
   "source": [
    ":type sum"
   ]
  },
  {
   "cell_type": "markdown",
   "metadata": {},
   "source": [
    "* Types can be automatically inferred from the defintion of functions.\n",
    "* Types provide useful information about the nature of functions.\n",
    "* Use of types allows many errors to be automatically detected prior to program execution."
   ]
  },
  {
   "cell_type": "markdown",
   "metadata": {},
   "source": [
    "### Sorting values"
   ]
  },
  {
   "cell_type": "code",
   "execution_count": 9,
   "metadata": {},
   "outputs": [],
   "source": [
    "qsort []     = []\n",
    "qsort (x:xs) = qsort smaller ++ [x] ++ qsort larger\n",
    "               where\n",
    "                 smaller = [a | a<-xs, a <= x]\n",
    "                 larger  = [b | b<-xs, b > x]"
   ]
  },
  {
   "cell_type": "code",
   "execution_count": 10,
   "metadata": {},
   "outputs": [],
   "source": [
    "qsort []     = []\n",
    "qsort (x:xs) = qsort smaller ++ [x] ++ qsort larger\n",
    "               where\n",
    "                 smaller = [a | a<-xs, a <= x]\n",
    "                 larger  = [b | b<-xs, b > x]"
   ]
  },
  {
   "cell_type": "code",
   "execution_count": 11,
   "metadata": {},
   "outputs": [
    {
     "data": {
      "text/plain": [
       "[1,2]"
      ]
     },
     "metadata": {},
     "output_type": "display_data"
    },
    {
     "data": {
      "text/plain": [
       "[5,4]"
      ]
     },
     "metadata": {},
     "output_type": "display_data"
    }
   ],
   "source": [
    "xs = [5,4,1,2]\n",
    "x = 3\n",
    "[a | a<-xs, a <= x] -- smaller\n",
    "[b | b<-xs, b > x]  -- larger"
   ]
  },
  {
   "cell_type": "code",
   "execution_count": 12,
   "metadata": {},
   "outputs": [
    {
     "data": {
      "text/plain": [
       "True"
      ]
     },
     "metadata": {},
     "output_type": "display_data"
    },
    {
     "data": {
      "text/plain": [
       "True"
      ]
     },
     "metadata": {},
     "output_type": "display_data"
    },
    {
     "data": {
      "text/plain": [
       "True"
      ]
     },
     "metadata": {},
     "output_type": "display_data"
    }
   ],
   "source": [
    "x = 91048211 -- try any value\n",
    "\n",
    "qsort [x]\n",
    "  == {- applying qsort -}         [x]\n",
    "qsort [] ++ [x] ++ qsort []\n",
    "  == {- applying qsort -}         [x]\n",
    "[] ++ [x] ++ []\n",
    "  == {- applying ++ -}\n",
    "  [x]"
   ]
  },
  {
   "cell_type": "code",
   "execution_count": 13,
   "metadata": {},
   "outputs": [
    {
     "data": {
      "text/plain": [
       "True"
      ]
     },
     "metadata": {},
     "output_type": "display_data"
    },
    {
     "data": {
      "text/plain": [
       "True"
      ]
     },
     "metadata": {},
     "output_type": "display_data"
    },
    {
     "data": {
      "text/plain": [
       "True"
      ]
     },
     "metadata": {},
     "output_type": "display_data"
    },
    {
     "data": {
      "text/plain": [
       "True"
      ]
     },
     "metadata": {},
     "output_type": "display_data"
    },
    {
     "data": {
      "text/plain": [
       "True"
      ]
     },
     "metadata": {},
     "output_type": "display_data"
    }
   ],
   "source": [
    "qsort [3,5,1,4,2]\n",
    "  == {- applying qsort -}                         [1..5]\n",
    "qsort [1,2] ++ [3] ++ qsort [5,4]\n",
    "  == {- applying qsort -}                         [1..5]\n",
    "(qsort [] ++ [1] ++ qsort [2]) ++ [3]\n",
    "  ++ (qsort [4] ++ [5] ++ qsort [])\n",
    "  == {- applying qsort, above property -}         [1..5]\n",
    "([] ++ [1] ++ [2]) ++ [3] ++ ([4] ++ [5] ++ [])\n",
    "  == {-  applying ++ -}                           [1..5]\n",
    "[1,2] ++ [3] ++ [4,5]\n",
    "  == {- applying ++ -}\n",
    "  [1,2,3,4,5]"
   ]
  },
  {
   "cell_type": "code",
   "execution_count": 14,
   "metadata": {},
   "outputs": [
    {
     "data": {
      "text/html": [
       "<style>/* Styles used for the Hoogle display in the pager */\n",
       ".hoogle-doc {\n",
       "display: block;\n",
       "padding-bottom: 1.3em;\n",
       "padding-left: 0.4em;\n",
       "}\n",
       ".hoogle-code {\n",
       "display: block;\n",
       "font-family: monospace;\n",
       "white-space: pre;\n",
       "}\n",
       ".hoogle-text {\n",
       "display: block;\n",
       "}\n",
       ".hoogle-name {\n",
       "color: green;\n",
       "font-weight: bold;\n",
       "}\n",
       ".hoogle-head {\n",
       "font-weight: bold;\n",
       "}\n",
       ".hoogle-sub {\n",
       "display: block;\n",
       "margin-left: 0.4em;\n",
       "}\n",
       ".hoogle-package {\n",
       "font-weight: bold;\n",
       "font-style: italic;\n",
       "}\n",
       ".hoogle-module {\n",
       "font-weight: bold;\n",
       "}\n",
       ".hoogle-class {\n",
       "font-weight: bold;\n",
       "}\n",
       ".get-type {\n",
       "color: green;\n",
       "font-weight: bold;\n",
       "font-family: monospace;\n",
       "display: block;\n",
       "white-space: pre-wrap;\n",
       "}\n",
       ".show-type {\n",
       "color: green;\n",
       "font-weight: bold;\n",
       "font-family: monospace;\n",
       "margin-left: 1em;\n",
       "}\n",
       ".mono {\n",
       "font-family: monospace;\n",
       "display: block;\n",
       "}\n",
       ".err-msg {\n",
       "color: red;\n",
       "font-style: italic;\n",
       "font-family: monospace;\n",
       "white-space: pre;\n",
       "display: block;\n",
       "}\n",
       "#unshowable {\n",
       "color: red;\n",
       "font-weight: bold;\n",
       "}\n",
       ".err-msg.in.collapse {\n",
       "padding-top: 0.7em;\n",
       "}\n",
       ".highlight-code {\n",
       "white-space: pre;\n",
       "font-family: monospace;\n",
       "}\n",
       ".suggestion-warning { \n",
       "font-weight: bold;\n",
       "color: rgb(200, 130, 0);\n",
       "}\n",
       ".suggestion-error { \n",
       "font-weight: bold;\n",
       "color: red;\n",
       "}\n",
       ".suggestion-name {\n",
       "font-weight: bold;\n",
       "}\n",
       "</style><span class='get-type'>qsort :: forall a. Ord a => [a] -> [a]</span>"
      ],
      "text/plain": [
       "qsort :: forall a. Ord a => [a] -> [a]"
      ]
     },
     "metadata": {},
     "output_type": "display_data"
    }
   ],
   "source": [
    ":type qsort"
   ]
  },
  {
   "cell_type": "markdown",
   "metadata": {},
   "source": [
    "### Sequencing actions"
   ]
  },
  {
   "cell_type": "code",
   "execution_count": 15,
   "metadata": {},
   "outputs": [],
   "source": [
    "-- seqn :: [IO a] -> IO [a]\n",
    "seqn []         = return []\n",
    "seqn (act:acts) = do x <- act\n",
    "                     xs <- seqn acts\n",
    "                     return (x:xs)"
   ]
  },
  {
   "cell_type": "code",
   "execution_count": 16,
   "metadata": {},
   "outputs": [
    {
     "data": {
      "text/html": [
       "<style>/* Styles used for the Hoogle display in the pager */\n",
       ".hoogle-doc {\n",
       "display: block;\n",
       "padding-bottom: 1.3em;\n",
       "padding-left: 0.4em;\n",
       "}\n",
       ".hoogle-code {\n",
       "display: block;\n",
       "font-family: monospace;\n",
       "white-space: pre;\n",
       "}\n",
       ".hoogle-text {\n",
       "display: block;\n",
       "}\n",
       ".hoogle-name {\n",
       "color: green;\n",
       "font-weight: bold;\n",
       "}\n",
       ".hoogle-head {\n",
       "font-weight: bold;\n",
       "}\n",
       ".hoogle-sub {\n",
       "display: block;\n",
       "margin-left: 0.4em;\n",
       "}\n",
       ".hoogle-package {\n",
       "font-weight: bold;\n",
       "font-style: italic;\n",
       "}\n",
       ".hoogle-module {\n",
       "font-weight: bold;\n",
       "}\n",
       ".hoogle-class {\n",
       "font-weight: bold;\n",
       "}\n",
       ".get-type {\n",
       "color: green;\n",
       "font-weight: bold;\n",
       "font-family: monospace;\n",
       "display: block;\n",
       "white-space: pre-wrap;\n",
       "}\n",
       ".show-type {\n",
       "color: green;\n",
       "font-weight: bold;\n",
       "font-family: monospace;\n",
       "margin-left: 1em;\n",
       "}\n",
       ".mono {\n",
       "font-family: monospace;\n",
       "display: block;\n",
       "}\n",
       ".err-msg {\n",
       "color: red;\n",
       "font-style: italic;\n",
       "font-family: monospace;\n",
       "white-space: pre;\n",
       "display: block;\n",
       "}\n",
       "#unshowable {\n",
       "color: red;\n",
       "font-weight: bold;\n",
       "}\n",
       ".err-msg.in.collapse {\n",
       "padding-top: 0.7em;\n",
       "}\n",
       ".highlight-code {\n",
       "white-space: pre;\n",
       "font-family: monospace;\n",
       "}\n",
       ".suggestion-warning { \n",
       "font-weight: bold;\n",
       "color: rgb(200, 130, 0);\n",
       "}\n",
       ".suggestion-error { \n",
       "font-weight: bold;\n",
       "color: red;\n",
       "}\n",
       ".suggestion-name {\n",
       "font-weight: bold;\n",
       "}\n",
       "</style><span class='get-type'>seqn :: forall (m :: * -> *) a. Monad m => [m a] -> m [a]</span>"
      ],
      "text/plain": [
       "seqn :: forall (m :: * -> *) a. Monad m => [m a] -> m [a]"
      ]
     },
     "metadata": {},
     "output_type": "display_data"
    }
   ],
   "source": [
    ":type seqn"
   ]
  },
  {
   "cell_type": "markdown",
   "metadata": {},
   "source": [
    "----"
   ]
  },
  {
   "cell_type": "code",
   "execution_count": 17,
   "metadata": {},
   "outputs": [],
   "source": [
    ":opt no-pager -- to inline :info"
   ]
  },
  {
   "cell_type": "code",
   "execution_count": 18,
   "metadata": {},
   "outputs": [
    {
     "data": {},
     "metadata": {},
     "output_type": "display_data"
    },
    {
     "data": {
      "text/html": [
       "<style>/* Styles used for the Hoogle display in the pager */\n",
       ".hoogle-doc {\n",
       "display: block;\n",
       "padding-bottom: 1.3em;\n",
       "padding-left: 0.4em;\n",
       "}\n",
       ".hoogle-code {\n",
       "display: block;\n",
       "font-family: monospace;\n",
       "white-space: pre;\n",
       "}\n",
       ".hoogle-text {\n",
       "display: block;\n",
       "}\n",
       ".hoogle-name {\n",
       "color: green;\n",
       "font-weight: bold;\n",
       "}\n",
       ".hoogle-head {\n",
       "font-weight: bold;\n",
       "}\n",
       ".hoogle-sub {\n",
       "display: block;\n",
       "margin-left: 0.4em;\n",
       "}\n",
       ".hoogle-package {\n",
       "font-weight: bold;\n",
       "font-style: italic;\n",
       "}\n",
       ".hoogle-module {\n",
       "font-weight: bold;\n",
       "}\n",
       ".hoogle-class {\n",
       "font-weight: bold;\n",
       "}\n",
       ".get-type {\n",
       "color: green;\n",
       "font-weight: bold;\n",
       "font-family: monospace;\n",
       "display: block;\n",
       "white-space: pre-wrap;\n",
       "}\n",
       ".show-type {\n",
       "color: green;\n",
       "font-weight: bold;\n",
       "font-family: monospace;\n",
       "margin-left: 1em;\n",
       "}\n",
       ".mono {\n",
       "font-family: monospace;\n",
       "display: block;\n",
       "}\n",
       ".err-msg {\n",
       "color: red;\n",
       "font-style: italic;\n",
       "font-family: monospace;\n",
       "white-space: pre;\n",
       "display: block;\n",
       "}\n",
       "#unshowable {\n",
       "color: red;\n",
       "font-weight: bold;\n",
       "}\n",
       ".err-msg.in.collapse {\n",
       "padding-top: 0.7em;\n",
       "}\n",
       ".highlight-code {\n",
       "white-space: pre;\n",
       "font-family: monospace;\n",
       "}\n",
       ".suggestion-warning { \n",
       "font-weight: bold;\n",
       "color: rgb(200, 130, 0);\n",
       "}\n",
       ".suggestion-error { \n",
       "font-weight: bold;\n",
       "color: red;\n",
       "}\n",
       ".suggestion-name {\n",
       "font-weight: bold;\n",
       "}\n",
       "</style><div style='background: rgb(247, 247, 247);'><form><textarea id='code'>class Num a where\n",
       "  (+) :: a -> a -> a\n",
       "  (-) :: a -> a -> a\n",
       "  (*) :: a -> a -> a\n",
       "  negate :: a -> a\n",
       "  abs :: a -> a\n",
       "  signum :: a -> a\n",
       "  fromInteger :: Integer -> a\n",
       "  {-# MINIMAL (+), (*), abs, signum, fromInteger, (negate | (-)) #-}\n",
       "  \t-- Defined in ‘GHC.Num’\n",
       "instance Num PixCount -- Defined in ‘ihaskell-widgets-0.2.3.2:IHaskell.Display.Widgets.Common’\n",
       "instance Num Word -- Defined in ‘GHC.Num’\n",
       "instance Num Integer -- Defined in ‘GHC.Num’\n",
       "instance Num Int -- Defined in ‘GHC.Num’\n",
       "instance Num Float -- Defined in ‘GHC.Float’\n",
       "instance Num Double -- Defined in ‘GHC.Float’\n",
       "instance Num IHaskellTH.Type -- Defined in ‘Data.Reflection’\n",
       "instance Num a => Num (IHaskellTH.Q a) -- Defined in ‘Data.Reflection’\n",
       "instance Num IHaskellTH.Exp -- Defined in ‘Data.Reflection’\n",
       "</textarea></form></div><script>CodeMirror.fromTextArea(document.getElementById('code'), {mode: 'haskell', readOnly: 'nocursor'});</script>"
      ],
      "text/plain": [
       "class Num a where\n",
       "  (+) :: a -> a -> a\n",
       "  (-) :: a -> a -> a\n",
       "  (*) :: a -> a -> a\n",
       "  negate :: a -> a\n",
       "  abs :: a -> a\n",
       "  signum :: a -> a\n",
       "  fromInteger :: Integer -> a\n",
       "  {-# MINIMAL (+), (*), abs, signum, fromInteger, (negate | (-)) #-}\n",
       "  \t-- Defined in ‘GHC.Num’\n",
       "instance Num PixCount -- Defined in ‘ihaskell-widgets-0.2.3.2:IHaskell.Display.Widgets.Common’\n",
       "instance Num Word -- Defined in ‘GHC.Num’\n",
       "instance Num Integer -- Defined in ‘GHC.Num’\n",
       "instance Num Int -- Defined in ‘GHC.Num’\n",
       "instance Num Float -- Defined in ‘GHC.Float’\n",
       "instance Num Double -- Defined in ‘GHC.Float’\n",
       "instance Num IHaskellTH.Type -- Defined in ‘Data.Reflection’\n",
       "instance Num a => Num (IHaskellTH.Q a) -- Defined in ‘Data.Reflection’\n",
       "instance Num IHaskellTH.Exp -- Defined in ‘Data.Reflection’"
      ]
     },
     "metadata": {},
     "output_type": "display_data"
    }
   ],
   "source": [
    ":info Num\n",
    "-- :info Ord\n",
    "-- :info Monad"
   ]
  },
  {
   "cell_type": "code",
   "execution_count": null,
   "metadata": {},
   "outputs": [],
   "source": []
  }
 ],
 "metadata": {
  "kernelspec": {
   "display_name": "Haskell",
   "language": "haskell",
   "name": "haskell"
  },
  "language_info": {
   "codemirror_mode": "ihaskell",
   "file_extension": ".hs",
   "name": "haskell",
   "pygments_lexer": "Haskell",
   "version": "8.4.4"
  }
 },
 "nbformat": 4,
 "nbformat_minor": 2
}
