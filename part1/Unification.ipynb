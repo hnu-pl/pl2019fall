{
 "cells": [
  {
   "cell_type": "code",
   "execution_count": 8,
   "metadata": {},
   "outputs": [],
   "source": [
    "type Nm = String\n",
    "\n",
    "data Ty = TV Nm     -- type variable\n",
    "        | INT       -- integer type\n",
    "        | Ty :-> Ty -- function type\n",
    "      deriving (Eq,Ord,Show)"
   ]
  },
  {
   "cell_type": "markdown",
   "metadata": {},
   "source": [
    "일치화 규칙\n",
    "\n",
    "$\\displaystyle\n",
    "[\\texttt{INT}=\\texttt{INT},~u_2=u_2',~\\cdots~],\\sigma \\rightsquigarrow\n",
    "[u_2=u_2',~\\cdots~],\\sigma \\\\\n",
    "[t_1\\,\\text{:->}\\,s_1=t_2\\,\\text{:->}\\,s_2,~u_2=u_2',~\\cdots~],\\sigma \\rightsquigarrow\n",
    "[t_1=t_2,s_1=s_2,u_2=u_2',~\\cdots~],\\sigma \\\\\n",
    "[x=x,~u_2=u_2',~\\cdots~],\\sigma \\rightsquigarrow\n",
    "[u_2=u_2',~\\cdots~],\\sigma \\\\\n",
    "[x=t,~u_2=u_2',~\\cdots~],\\sigma \\rightsquigarrow\n",
    "\\{x\\mapsto t\\}\\,[u_2=u_2',~\\cdots~],\\{x\\mapsto t\\}\\uplus\\sigma \\qquad (x~\\text{does not occur in}~ t) \\\\\n",
    "[t=x,~u_2=u_2',~\\cdots~],\\sigma \\rightsquigarrow\n",
    "[x=t,u_2=u_2',~\\cdots~],\\sigma\n",
    "$\n",
    "\n",
    "$\\{x\\mapsto t\\}\\,[u_1=s_1,\\cdots,u_n=s_n] = \\big[\\{x\\mapsto t\\}\\,u_1=\\{x\\mapsto t\\}\\,s_1,~\\cdots,~\\{x\\mapsto t\\}\\,u_1=\\{x\\mapsto t\\}\\,s_1\\big]$\n",
    "\n",
    "$\\{x\\mapsto t\\}\\uplus\\{x_1\\mapsto t_1,~\\cdots~,x_n\\mapsto t_n \\} = \\big\\{x\\mapsto t, x_1\\mapsto \\{x\\mapsto t\\}t_1,~\\cdots~,x_n\\mapsto \\{x\\mapsto t\\}t_n \\big\\}\n",
    "$"
   ]
  },
  {
   "cell_type": "code",
   "execution_count": 9,
   "metadata": {},
   "outputs": [],
   "source": [
    "occurs :: Nm -> Ty -> Bool\n",
    "occurs x (TV x') = x==x'\n",
    "occurs x INT = False\n",
    "occurs x (t1 :-> t2) = occurs x t1 || occurs x t2"
   ]
  },
  {
   "cell_type": "code",
   "execution_count": 10,
   "metadata": {},
   "outputs": [],
   "source": [
    "subst (x,t) ty@(TV y)\n",
    "            | x == y    = t\n",
    "            | otherwise = ty\n",
    "subst (x,t) INT         = INT\n",
    "subst (x,t) (t1 :-> t2) = subst (x,t) t1 :-> subst (x,t) t2"
   ]
  },
  {
   "cell_type": "code",
   "execution_count": 11,
   "metadata": {},
   "outputs": [
    {
     "data": {
      "text/plain": [
       "(INT :-> INT) :-> (INT :-> INT)"
      ]
     },
     "metadata": {},
     "output_type": "display_data"
    }
   ],
   "source": [
    "subst (\"x\",INT:->INT) (TV \"x\" :-> TV \"x\")"
   ]
  },
  {
   "cell_type": "code",
   "execution_count": 12,
   "metadata": {},
   "outputs": [],
   "source": [
    "type Eqn = (Ty,Ty)     -- t1 = t2\n",
    "type Subst = [(Nm,Ty)]\n",
    "\n",
    "-- 일치화 알고리듬을 위 규칙에 따라 작성\n",
    "unif :: ([Eqn],Subst) -> ([Eqn],Subst)\n",
    "unif ((INT    , INT    ): es, s) = unif (es, s)\n",
    "unif ((t1:->s1, t2:->s2): es, s) = unif ((t1,t2):(s1,s2):es, s)\n",
    "unif ((TV x   , TV x'  ): es, s) | x==x' = unif (es, s)\n",
    "unif ((TV x   , t      ): es, s) | not(x `occurs` t) = unif (es', (x,t):s')\n",
    "  where es' = [(subst (x,t) t1, subst (x,t) t2) | (t1,t2)<-es]\n",
    "        s' = [(x',subst (x,t) t') | (x',t')<-s]\n",
    "unif ((t      , TV x   ): es, s) = unif ((TV x,t):es, s)\n",
    "unif (es, s) = (es, s)"
   ]
  },
  {
   "cell_type": "code",
   "execution_count": 13,
   "metadata": {},
   "outputs": [
    {
     "data": {
      "text/plain": [
       "([],[(\"x\",INT),(\"y\",INT :-> INT)])"
      ]
     },
     "metadata": {},
     "output_type": "display_data"
    }
   ],
   "source": [
    "unif ([( (INT :-> TV \"x\") :-> INT , TV \"y\" :-> TV \"x\")],  [])"
   ]
  },
  {
   "cell_type": "code",
   "execution_count": 14,
   "metadata": {},
   "outputs": [
    {
     "data": {
      "text/plain": [
       "([(TV \"x\",INT :-> TV \"x\"),(INT,TV \"y\")],[])"
      ]
     },
     "metadata": {},
     "output_type": "display_data"
    }
   ],
   "source": [
    "unif ([( (INT :-> TV \"x\") :-> INT , TV \"x\" :-> TV \"y\")],  [])"
   ]
  },
  {
   "cell_type": "code",
   "execution_count": null,
   "metadata": {},
   "outputs": [],
   "source": []
  }
 ],
 "metadata": {
  "kernelspec": {
   "display_name": "Haskell",
   "language": "haskell",
   "name": "haskell"
  },
  "language_info": {
   "codemirror_mode": "ihaskell",
   "file_extension": ".hs",
   "name": "haskell",
   "pygments_lexer": "Haskell",
   "version": "8.6.5"
  }
 },
 "nbformat": 4,
 "nbformat_minor": 4
}
