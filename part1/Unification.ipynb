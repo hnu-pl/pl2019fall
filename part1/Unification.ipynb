{
 "cells": [
  {
   "cell_type": "code",
   "execution_count": 1,
   "metadata": {},
   "outputs": [],
   "source": [
    "type Nm = String\n",
    "\n",
    "data Ty = TV Nm     -- type variable\n",
    "        | INT       -- integer type\n",
    "        | Ty :-> Ty -- function type\n",
    "      deriving (Eq,Ord,Show)"
   ]
  },
  {
   "cell_type": "markdown",
   "metadata": {},
   "source": [
    "일치화 규칙\n",
    "\n",
    "$\\displaystyle\n",
    "[\\texttt{INT}=\\texttt{INT},~u_2=u_2',~\\cdots~],\\sigma \\rightsquigarrow\n",
    "[u_2=u_2',~\\cdots~],\\sigma \\\\\n",
    "[t_1\\,\\text{:->}\\,s_1=t_2\\,\\text{:->}\\,s_2,~u_2=u_2',~\\cdots~],\\sigma \\rightsquigarrow\n",
    "[t_1=t_2,s_1=s_2,u_2=u_2',~\\cdots~],\\sigma \\\\\n",
    "[x=x,~u_2=u_2',~\\cdots~],\\sigma \\rightsquigarrow\n",
    "[u_2=u_2',~\\cdots~],\\sigma \\\\\n",
    "[x=t,~u_2=u_2',~\\cdots~],\\sigma \\rightsquigarrow\n",
    "\\{x\\mapsto t\\}\\,[u_2=u_2',~\\cdots~],\\{x\\mapsto t\\}\\uplus\\sigma \\\\\n",
    "[t=x,~u_2=u_2',~\\cdots~],\\sigma \\rightsquigarrow\n",
    "[x=t,u_2=u_2',~\\cdots~],\\sigma\n",
    "$\n",
    "\n",
    "$\\{x\\mapsto t\\}\\,[u_1=s_1,\\cdots,u_n=s_n] = [\\{x\\mapsto t\\}\\,u_1=\\{x\\mapsto t\\}\\,s_1,\\cdots,\\{x\\mapsto t\\}\\,u_1=\\{x\\mapsto t\\}\\,s_1]$"
   ]
  },
  {
   "cell_type": "code",
   "execution_count": 9,
   "metadata": {},
   "outputs": [],
   "source": [
    "subst (x,t) ty@(TV y)\n",
    "            | x == y    = t\n",
    "            | otherwise = ty\n",
    "subst (x,t) INT         = INT\n",
    "subst (x,t) (t1 :-> t2) = subst (x,t) t1 :-> subst (x,t) t2\n",
    "\n",
    "type Eqn = (Ty,Ty)\n",
    "type Subst = [(Nm,Ty)]\n",
    "\n",
    "unif :: ([Eqn],Subst) -> ([Eqn],Subst)\n",
    "unif ((INT    , INT    ): es, s) = unif (es, s)\n",
    "unif ((t1:->s1, t2:->s2): es, s) = unif ((t1,t2):(s1,s2):es, s)\n",
    "unif ((TV x   , TV x'  ): es, s) | x==x' = unif (es, s)\n",
    "unif ((TV x   , t      ): es, s) = unif (es', (x,t):s)\n",
    "  where es' = [(subst (x,t) t1, subst (x,t) t2) | (t1,t2)<-es]\n",
    "unif ((t      , TV x   ): es, s) = unif ((TV x,t):es, s)\n",
    "unif (es, s) = (es, s)"
   ]
  },
  {
   "cell_type": "code",
   "execution_count": null,
   "metadata": {},
   "outputs": [],
   "source": []
  }
 ],
 "metadata": {
  "kernelspec": {
   "display_name": "Haskell",
   "language": "haskell",
   "name": "haskell"
  },
  "language_info": {
   "codemirror_mode": "ihaskell",
   "file_extension": ".hs",
   "name": "haskell",
   "pygments_lexer": "Haskell",
   "version": "8.6.5"
  }
 },
 "nbformat": 4,
 "nbformat_minor": 4
}
