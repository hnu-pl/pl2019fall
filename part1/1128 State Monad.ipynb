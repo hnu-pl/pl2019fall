{
 "cells": [
  {
   "cell_type": "code",
   "execution_count": 11,
   "metadata": {},
   "outputs": [],
   "source": [
    "data Exp = Val Int     -- n\n",
    "         | Add Exp Exp -- e1 + e2\n",
    "         | Sub Exp Exp -- e1 - e2\n",
    "                       -- if ..\n",
    "         deriving Show"
   ]
  },
  {
   "cell_type": "code",
   "execution_count": 12,
   "metadata": {},
   "outputs": [],
   "source": [
    "eval :: Exp -> Int\n",
    "eval (Val n) = n\n",
    "eval (Add e1 e2) = eval e1 + eval e2\n",
    "eval (Sub e1 e2) = eval e1 - eval e2"
   ]
  },
  {
   "cell_type": "code",
   "execution_count": 13,
   "metadata": {},
   "outputs": [],
   "source": [
    "-- 3 + (10 - (2 + 5))\n",
    "e = Val 3 `Add` (Val 10 `Sub` Add (Val 2) (Val 5))"
   ]
  },
  {
   "cell_type": "code",
   "execution_count": 14,
   "metadata": {},
   "outputs": [
    {
     "data": {
      "text/plain": [
       "6"
      ]
     },
     "metadata": {},
     "output_type": "display_data"
    }
   ],
   "source": [
    "eval e"
   ]
  },
  {
   "cell_type": "markdown",
   "metadata": {},
   "source": [
    "인터프리터 실행중에 몇번 덧셈을 수행하나?"
   ]
  },
  {
   "cell_type": "code",
   "execution_count": 15,
   "metadata": {},
   "outputs": [],
   "source": [
    "--     (입력식, 상태) ->   (결과값, 상태)\n",
    "eval' :: (Exp, Int) -> (Int, Int)\n",
    "eval' (Val n,     i) = (n, i)\n",
    "eval' (Add e1 e2, i) = (v1+v2, k+1)\n",
    "  where\n",
    "  (v1, j) = eval' (e1, i)\n",
    "  (v2, k) = eval' (e2, j)\n",
    "eval' (Sub e1 e2, i) = (v1-v2, k)\n",
    "  where\n",
    "  (v1, j) = eval' (e1, i)\n",
    "  (v2, k) = eval' (e2, j)"
   ]
  },
  {
   "cell_type": "code",
   "execution_count": 16,
   "metadata": {},
   "outputs": [
    {
     "data": {
      "text/plain": [
       "Add (Val 3) (Sub (Val 10) (Add (Val 2) (Val 5)))"
      ]
     },
     "metadata": {},
     "output_type": "display_data"
    }
   ],
   "source": [
    "e"
   ]
  },
  {
   "cell_type": "code",
   "execution_count": 17,
   "metadata": {},
   "outputs": [
    {
     "data": {
      "text/plain": [
       "(6,2)"
      ]
     },
     "metadata": {},
     "output_type": "display_data"
    }
   ],
   "source": [
    "eval' (e,0)"
   ]
  },
  {
   "cell_type": "code",
   "execution_count": 18,
   "metadata": {},
   "outputs": [
    {
     "data": {},
     "metadata": {},
     "output_type": "display_data"
    },
    {
     "data": {
      "text/html": [
       "<div style='background: rgb(247, 247, 247);'><form><textarea id='code'>class Applicative m => Monad (m :: * -> *) where\n",
       "  (>>=) :: m a -> (a -> m b) -> m b\n",
       "  (>>) :: m a -> m b -> m b\n",
       "  return :: a -> m a\n",
       "  fail :: String -> m a\n",
       "  {-# MINIMAL (>>=) #-}\n",
       "  \t-- Defined in ‘GHC.Base’\n",
       "instance Monad (Either e) -- Defined in ‘Data.Either’\n",
       "instance Monad IHaskellTH.Q -- Defined in ‘Language.Haskell.TH.Syntax’\n",
       "instance Monad [] -- Defined in ‘GHC.Base’\n",
       "instance Monad Maybe -- Defined in ‘GHC.Base’\n",
       "instance Monad IO -- Defined in ‘GHC.Base’\n",
       "instance Monad ((->) r) -- Defined in ‘GHC.Base’\n",
       "instance Monoid a => Monad ((,) a) -- Defined in ‘GHC.Base’\n",
       "</textarea></form></div><script>CodeMirror.fromTextArea(document.getElementById('code'), {mode: 'haskell', readOnly: 'nocursor'});</script>"
      ],
      "text/plain": [
       "class Applicative m => Monad (m :: * -> *) where\n",
       "  (>>=) :: m a -> (a -> m b) -> m b\n",
       "  (>>) :: m a -> m b -> m b\n",
       "  return :: a -> m a\n",
       "  fail :: String -> m a\n",
       "  {-# MINIMAL (>>=) #-}\n",
       "  \t-- Defined in ‘GHC.Base’\n",
       "instance Monad (Either e) -- Defined in ‘Data.Either’\n",
       "instance Monad IHaskellTH.Q -- Defined in ‘Language.Haskell.TH.Syntax’\n",
       "instance Monad [] -- Defined in ‘GHC.Base’\n",
       "instance Monad Maybe -- Defined in ‘GHC.Base’\n",
       "instance Monad IO -- Defined in ‘GHC.Base’\n",
       "instance Monad ((->) r) -- Defined in ‘GHC.Base’\n",
       "instance Monoid a => Monad ((,) a) -- Defined in ‘GHC.Base’"
      ]
     },
     "metadata": {},
     "output_type": "display_data"
    }
   ],
   "source": [
    ":info Monad"
   ]
  },
  {
   "cell_type": "code",
   "execution_count": 39,
   "metadata": {},
   "outputs": [],
   "source": [
    "{-# LANGUAGE DeriveFunctor #-}\n",
    "-- 상태 ->   (결과값, 상태)\n",
    "data IntState a = St (Int -> (a,Int)) deriving (Functor)\n",
    "\n",
    "instance Applicative IntState where\n",
    "  St h <*> St g = St (\\i -> let (f,j) = h i -- 상태안의 함수 f를 꺼냄\n",
    "                                (v,k) = g j -- 상태안의 값 v를 꺼냄\n",
    "                             in (f v, k) )  -- 상태는 그냥 최종 상태로\n",
    "\n",
    "instance Monad IntState where\n",
    "  return v = St (\\i -> (v,i))\n",
    "  St g >>= f = St (\\i -> let (v,j) = g i\n",
    "                             St h  = f v\n",
    "                          in h j)\n",
    "\n",
    "runSt :: IntState a -> Int -> (a,Int)\n",
    "runSt (St g) = g\n",
    "\n",
    "-- 상태변환 고차함수\n",
    "modifySt :: (Int -> Int) -> IntState ()\n",
    "modifySt f = St (\\i -> ((), f i))\n",
    "\n",
    "inc = modifySt (+1)\n",
    "{-\n",
    "-- +1을 하는 상태 연산\n",
    "inc :: IntState ()\n",
    "inc = St (\\i -> ((), i+1))\n",
    "-}"
   ]
  },
  {
   "cell_type": "code",
   "execution_count": 27,
   "metadata": {},
   "outputs": [],
   "source": [
    "ev :: Exp -> IntState Int\n",
    "ev (Val n) = return n\n",
    "ev (Add e1 e2) = do  v1 <- ev e1\n",
    "                     v2 <- ev e2\n",
    "                     inc -- ++\n",
    "                     return (v1 + v2)\n",
    "ev (Sub e1 e2) = (-) <$> ev e1 <*> ev e2\n",
    "\n",
    "{-\n",
    "  ev e1 >>= \\v1 ->\n",
    "  ev e2 >>= \\v2 ->\n",
    "  inc   >>= \\_  ->\n",
    "  return (v1 + v2) -}"
   ]
  },
  {
   "cell_type": "code",
   "execution_count": 28,
   "metadata": {},
   "outputs": [
    {
     "data": {
      "text/plain": [
       "Add (Val 3) (Sub (Val 10) (Add (Val 2) (Val 5)))"
      ]
     },
     "metadata": {},
     "output_type": "display_data"
    }
   ],
   "source": [
    "e"
   ]
  },
  {
   "cell_type": "code",
   "execution_count": 30,
   "metadata": {},
   "outputs": [
    {
     "data": {
      "text/plain": [
       "(5,1)"
      ]
     },
     "metadata": {},
     "output_type": "display_data"
    },
    {
     "data": {
      "text/plain": [
       "(20,3)"
      ]
     },
     "metadata": {},
     "output_type": "display_data"
    },
    {
     "data": {
      "text/plain": [
       "(6,2)"
      ]
     },
     "metadata": {},
     "output_type": "display_data"
    }
   ],
   "source": [
    "runSt (ev (Add (Val 3) (Val 2))) 0\n",
    "\n",
    "runSt (ev (Add (Val 3) (Add (Val 10) (Add (Val 2) (Val 5))))) 0\n",
    "\n",
    "runSt (ev e) 0"
   ]
  },
  {
   "cell_type": "code",
   "execution_count": 41,
   "metadata": {},
   "outputs": [],
   "source": [
    "import Control.Monad.State\n",
    "\n",
    "increase = modify (+1)\n",
    "\n",
    "ev' (Val n) = return n\n",
    "ev' (Add e1 e2) = do v1 <- ev' e1\n",
    "                     v2 <- ev' e2\n",
    "                     increase -- ++\n",
    "                     return (v1 + v2)\n",
    "ev' (Sub e1 e2) = (-) <$> ev' e1 <*> ev' e2"
   ]
  },
  {
   "cell_type": "code",
   "execution_count": 42,
   "metadata": {},
   "outputs": [
    {
     "data": {
      "text/plain": [
       "(5,1)"
      ]
     },
     "metadata": {},
     "output_type": "display_data"
    },
    {
     "data": {
      "text/plain": [
       "(20,3)"
      ]
     },
     "metadata": {},
     "output_type": "display_data"
    },
    {
     "data": {
      "text/plain": [
       "(6,2)"
      ]
     },
     "metadata": {},
     "output_type": "display_data"
    }
   ],
   "source": [
    "runState (ev' (Add (Val 3) (Val 2))) 0\n",
    "\n",
    "runState (ev' (Add (Val 3) (Add (Val 10) (Add (Val 2) (Val 5))))) 0\n",
    "\n",
    "runState (ev' e) 0"
   ]
  },
  {
   "cell_type": "code",
   "execution_count": 38,
   "metadata": {},
   "outputs": [
    {
     "data": {},
     "metadata": {},
     "output_type": "display_data"
    },
    {
     "data": {
      "text/html": [
       "<div style='background: rgb(247, 247, 247);'><form><textarea id='code'>modify :: MonadState s m => (s -> s) -> m () \t-- Defined in ‘Control.Monad.State.Class’\n",
       "</textarea></form></div><script>CodeMirror.fromTextArea(document.getElementById('code'), {mode: 'haskell', readOnly: 'nocursor'});</script>"
      ],
      "text/plain": [
       "modify :: MonadState s m => (s -> s) -> m () \t-- Defined in ‘Control.Monad.State.Class’"
      ]
     },
     "metadata": {},
     "output_type": "display_data"
    }
   ],
   "source": [
    ":info modify"
   ]
  },
  {
   "cell_type": "code",
   "execution_count": null,
   "metadata": {},
   "outputs": [],
   "source": []
  }
 ],
 "metadata": {
  "kernelspec": {
   "display_name": "Haskell",
   "language": "haskell",
   "name": "haskell"
  },
  "language_info": {
   "codemirror_mode": "ihaskell",
   "file_extension": ".hs",
   "name": "haskell",
   "pygments_lexer": "Haskell",
   "version": "8.6.5"
  }
 },
 "nbformat": 4,
 "nbformat_minor": 4
}
