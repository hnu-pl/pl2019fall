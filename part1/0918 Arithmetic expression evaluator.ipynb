{
 "cells": [
  {
   "cell_type": "code",
   "execution_count": 1,
   "metadata": {},
   "outputs": [],
   "source": [
    ":opt no-lint"
   ]
  },
  {
   "cell_type": "markdown",
   "metadata": {},
   "source": [
    "# Arithmetic Expression Evaluator\n",
    "\n",
    "* PiH2nd 8.7, 16.7, 17"
   ]
  },
  {
   "cell_type": "code",
   "execution_count": 2,
   "metadata": {},
   "outputs": [],
   "source": [
    "data Expr = Val Int\n",
    "          | Add Expr Expr\n",
    "          deriving Show"
   ]
  },
  {
   "cell_type": "code",
   "execution_count": 3,
   "metadata": {},
   "outputs": [
    {
     "data": {
      "text/plain": [
       "Add (Add (Val 2) (Val 3)) (Val 4)"
      ]
     },
     "metadata": {},
     "output_type": "display_data"
    }
   ],
   "source": [
    "(Add (Add (Val 2) (Val 3)) (Val 4)) -- (2 + 3) + 4"
   ]
  },
  {
   "cell_type": "code",
   "execution_count": 10,
   "metadata": {},
   "outputs": [
    {
     "data": {
      "text/html": [
       "<style>/* Styles used for the Hoogle display in the pager */\n",
       ".hoogle-doc {\n",
       "display: block;\n",
       "padding-bottom: 1.3em;\n",
       "padding-left: 0.4em;\n",
       "}\n",
       ".hoogle-code {\n",
       "display: block;\n",
       "font-family: monospace;\n",
       "white-space: pre;\n",
       "}\n",
       ".hoogle-text {\n",
       "display: block;\n",
       "}\n",
       ".hoogle-name {\n",
       "color: green;\n",
       "font-weight: bold;\n",
       "}\n",
       ".hoogle-head {\n",
       "font-weight: bold;\n",
       "}\n",
       ".hoogle-sub {\n",
       "display: block;\n",
       "margin-left: 0.4em;\n",
       "}\n",
       ".hoogle-package {\n",
       "font-weight: bold;\n",
       "font-style: italic;\n",
       "}\n",
       ".hoogle-module {\n",
       "font-weight: bold;\n",
       "}\n",
       ".hoogle-class {\n",
       "font-weight: bold;\n",
       "}\n",
       ".get-type {\n",
       "color: green;\n",
       "font-weight: bold;\n",
       "font-family: monospace;\n",
       "display: block;\n",
       "white-space: pre-wrap;\n",
       "}\n",
       ".show-type {\n",
       "color: green;\n",
       "font-weight: bold;\n",
       "font-family: monospace;\n",
       "margin-left: 1em;\n",
       "}\n",
       ".mono {\n",
       "font-family: monospace;\n",
       "display: block;\n",
       "}\n",
       ".err-msg {\n",
       "color: red;\n",
       "font-style: italic;\n",
       "font-family: monospace;\n",
       "white-space: pre;\n",
       "display: block;\n",
       "}\n",
       "#unshowable {\n",
       "color: red;\n",
       "font-weight: bold;\n",
       "}\n",
       ".err-msg.in.collapse {\n",
       "padding-top: 0.7em;\n",
       "}\n",
       ".highlight-code {\n",
       "white-space: pre;\n",
       "font-family: monospace;\n",
       "}\n",
       ".suggestion-warning { \n",
       "font-weight: bold;\n",
       "color: rgb(200, 130, 0);\n",
       "}\n",
       ".suggestion-error { \n",
       "font-weight: bold;\n",
       "color: red;\n",
       "}\n",
       ".suggestion-name {\n",
       "font-weight: bold;\n",
       "}\n",
       "</style><span class='get-type'>(Add (Add (Val 2) (Val 3)) (Val 4)) :: Expr</span>"
      ],
      "text/plain": [
       "(Add (Add (Val 2) (Val 3)) (Val 4)) :: Expr"
      ]
     },
     "metadata": {},
     "output_type": "display_data"
    }
   ],
   "source": [
    ":type (Add (Add (Val 2) (Val 3)) (Val 4))"
   ]
  },
  {
   "cell_type": "code",
   "execution_count": 13,
   "metadata": {},
   "outputs": [],
   "source": [
    "eval :: Expr -> Int\n",
    "eval (Val n) = n\n",
    "eval (Add e1 e2) = eval e1 + eval e2"
   ]
  },
  {
   "cell_type": "code",
   "execution_count": 12,
   "metadata": {},
   "outputs": [
    {
     "data": {
      "text/plain": [
       "5"
      ]
     },
     "metadata": {},
     "output_type": "display_data"
    },
    {
     "data": {
      "text/plain": [
       "4"
      ]
     },
     "metadata": {},
     "output_type": "display_data"
    }
   ],
   "source": [
    "eval (Add (Val 2) (Val 3))\n",
    "eval (Val 4)"
   ]
  },
  {
   "cell_type": "code",
   "execution_count": 14,
   "metadata": {},
   "outputs": [
    {
     "data": {
      "text/plain": [
       "9"
      ]
     },
     "metadata": {},
     "output_type": "display_data"
    }
   ],
   "source": [
    "eval (Add (Add (Val 2) (Val 3)) (Val 4)) -- (2 + 3) + 4"
   ]
  },
  {
   "cell_type": "code",
   "execution_count": 15,
   "metadata": {},
   "outputs": [
    {
     "data": {
      "text/plain": [
       "9"
      ]
     },
     "metadata": {},
     "output_type": "display_data"
    }
   ],
   "source": [
    "eval $ (Val 2 `Add` Val 3) `Add` (Val 4) -- (2 + 3) + 4"
   ]
  },
  {
   "cell_type": "markdown",
   "metadata": {},
   "source": [
    "위에서 살펴본 가장 간단한 인터프리터는 분명 맞는 결과를 계산한다.\n",
    "하지만 내가 정의한 언어에서 계산 순서를 정하고 싶다면 어떨까?\n",
    "예를 들어 어떤 언어는 함수를 호출할 때 왼쪽에 있는 인자부터 먼저 계산한다던가\n",
    "또 다른 언어는 오른쪽에 있는 인자부터 계산한다던가 하는 순서를 정해 놓기도 하고,\n",
    "또 어떤 언어는 그런 순서는 정의되어 있지 않고 언어를 구현하는 사람이\n",
    "(즉 인터프리터나 컴파일러 등을 만드는 개발자가) 자유롭게 해도 무방하다고 약속하는 경우도 있다.\n",
    "\n",
    "만약 우리의 정수 덧셈 언어에서 덧셈의 왼쪽부터 먼저 항상 계산하도록 하려면 eval과는 조금 다른 방식으로 인터프리터를 정의해야 된다."
   ]
  },
  {
   "cell_type": "code",
   "execution_count": 18,
   "metadata": {},
   "outputs": [],
   "source": [
    "evalL (Val n) = n\n",
    "evalL (Add (Val n1) (Val n2)) = n1 + n2\n",
    "evalL (Add (Val n1) e2) = evalL (Add (Val n1) (Val n2))\n",
    "                        where n2 = evalL e2\n",
    "evalL (Add e1 e2) = evalL (Add (Val n1) e2)\n",
    "                    where n1 = evalL e1"
   ]
  },
  {
   "cell_type": "code",
   "execution_count": 19,
   "metadata": {},
   "outputs": [
    {
     "data": {
      "text/plain": [
       "14"
      ]
     },
     "metadata": {},
     "output_type": "display_data"
    }
   ],
   "source": [
    "evalL (Add (Add (Val 2) (Val 3)) (Add (Val 4) (Val 5))) -- (2 + 3) + (4 + 5)"
   ]
  },
  {
   "cell_type": "markdown",
   "metadata": {},
   "source": [
    "```haskell\n",
    "evalL (Add (Add (Val 2) (Val 3)) (Add (Val 4) (Val 5))) \n",
    "     evalL (Add (Val 2) (Val 3)) ~~> 5\n",
    "~~>\n",
    "evalL (Add (Val 5) (Add (Val 4) (Val 5)))\n",
    "     evalL (Add (Val 4) (Val 5)) ~~> 9\n",
    "~~>\n",
    "evalL (Add (Val 5) (Val 9))\n",
    "~~>\n",
    "14\n",
    "```"
   ]
  },
  {
   "cell_type": "markdown",
   "metadata": {},
   "source": [
    "----\n",
    "###### 연습문제\n",
    "연산자의 오른쪽부터 먼저 계산하는 `evalR` 을 정의하라."
   ]
  },
  {
   "cell_type": "code",
   "execution_count": 9,
   "metadata": {},
   "outputs": [],
   "source": [
    "-- evalR :: Expr -> Int"
   ]
  },
  {
   "cell_type": "markdown",
   "metadata": {},
   "source": [
    "----\n",
    "`eval`을 규칙으로 나타내면\n",
    "\n",
    "$\\displaystyle\n",
    "\\frac{~~}{n \\Downarrow n}\n",
    "\\qquad\n",
    "\\frac{e_1 \\Downarrow n_1 \\quad e_2 \\Downarrow n_2 \\quad n=n_1+n_2}{\n",
    "      e_1 + e_2 \\Downarrow n}\n",
    "$"
   ]
  },
  {
   "cell_type": "markdown",
   "metadata": {},
   "source": [
    "----\n",
    "`evalL`을 규칙으로 나타내면\n",
    "\n",
    "$\\displaystyle\n",
    "\\frac{~~}{n \\Downarrow n}\n",
    "\\qquad\n",
    "\\frac{n=n_1+n_2}{\n",
    "      n_1 + n_2 \\Downarrow n}\n",
    "$\n",
    "\n",
    "$\\displaystyle\n",
    "\\frac{e_2 \\Downarrow n_2 \\quad n_1+n_2 \\Downarrow n \\quad e_2\\notin\\textit{Int}}{\n",
    "      n_1 + e_2 \\Downarrow n}\n",
    "$\n",
    "\n",
    "$\\displaystyle\n",
    "\\frac{e_1 \\Downarrow n_1 \\quad n_1+e_2 \\Downarrow n \\quad e_1\\notin\\textit{Int}}{\n",
    "      e_1 + e_2 \\Downarrow n}\n",
    "$"
   ]
  },
  {
   "cell_type": "code",
   "execution_count": null,
   "metadata": {},
   "outputs": [],
   "source": []
  }
 ],
 "metadata": {
  "kernelspec": {
   "display_name": "Haskell",
   "language": "haskell",
   "name": "haskell"
  },
  "language_info": {
   "codemirror_mode": "ihaskell",
   "file_extension": ".hs",
   "name": "haskell",
   "pygments_lexer": "Haskell",
   "version": "8.6.5"
  }
 },
 "nbformat": 4,
 "nbformat_minor": 4
}
