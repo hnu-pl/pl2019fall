{
 "cells": [
  {
   "cell_type": "code",
   "execution_count": 1,
   "metadata": {},
   "outputs": [],
   "source": [
    ":opt no-lint"
   ]
  },
  {
   "cell_type": "markdown",
   "metadata": {},
   "source": [
    "# Tautology checker (주교재 8.6절)"
   ]
  },
  {
   "cell_type": "code",
   "execution_count": 2,
   "metadata": {},
   "outputs": [],
   "source": [
    "type Nm = String -- 책에서는 Char이지만 우리는 String으로 하자\n",
    "\n",
    "data Prop = Const Bool      -- True, False\n",
    "          | Var Nm          -- A,B,C\n",
    "          | Not Prop        -- ¬ P\n",
    "          | And Prop Prop   -- P1 ∧ P2\n",
    "          | Imply Prop Prop -- P1 ⇒ P2\n",
    "          deriving Show"
   ]
  },
  {
   "cell_type": "code",
   "execution_count": 3,
   "metadata": {},
   "outputs": [],
   "source": [
    "vA = Var \"A\"\n",
    "vB = Var \"B\"\n",
    "vC = Var \"C\"\n",
    "\n",
    "p1 = And vA (Not vB) -- -- A /\\ ㄱB\n",
    "p2 = Imply vA vB -- A => B\n",
    "p3 = Imply (And vA vB) vA -- (A /\\ B) => A\n",
    "p4 = Imply (And vA (Imply vA vB)) vB -- (A /\\ (A=>B)) => B\n",
    "p5 = Imply (And (Imply vA vB) (Imply vB vC)) (Imply vA vC)\n",
    "     -- ((A=>B)/\\(B=>C)) => (A=>C)"
   ]
  },
  {
   "cell_type": "code",
   "execution_count": 4,
   "metadata": {},
   "outputs": [],
   "source": [
    "type Subst = [ (Nm, Bool) ] -- 덧셈식이나 람다식에서 Env에 해당\n",
    "\n",
    "eval :: Subst -> Prop -> Bool\n",
    "eval _ (Const b)   = b\n",
    "eval s (Var x)     = find x s\n",
    "eval s (Not p)     = not (eval s p)\n",
    "eval s (And p q)   = eval s p && eval s q\n",
    "eval s (Imply p q) = not(eval s p) || eval s q\n",
    "          -- 책에서는 eval s p <= eval s q\n",
    "\n",
    "find x s = case lookup x s of\n",
    "             Nothing -> error $ x++\" not defined\"\n",
    "             Just b -> b"
   ]
  },
  {
   "cell_type": "code",
   "execution_count": 5,
   "metadata": {},
   "outputs": [
    {
     "data": {
      "text/plain": [
       "Var \"A\""
      ]
     },
     "metadata": {},
     "output_type": "display_data"
    }
   ],
   "source": [
    "vA"
   ]
  },
  {
   "cell_type": "code",
   "execution_count": 6,
   "metadata": {},
   "outputs": [
    {
     "data": {
      "text/plain": [
       "False"
      ]
     },
     "metadata": {},
     "output_type": "display_data"
    },
    {
     "data": {
      "text/plain": [
       "True"
      ]
     },
     "metadata": {},
     "output_type": "display_data"
    }
   ],
   "source": [
    "eval [(\"A\",False)] (And vA (Const True))\n",
    "eval [(\"A\",True)] (And vA (Const True))"
   ]
  },
  {
   "cell_type": "code",
   "execution_count": 7,
   "metadata": {},
   "outputs": [
    {
     "data": {
      "text/plain": [
       "True"
      ]
     },
     "metadata": {},
     "output_type": "display_data"
    },
    {
     "data": {
      "text/plain": [
       "True"
      ]
     },
     "metadata": {},
     "output_type": "display_data"
    }
   ],
   "source": [
    "eval [(\"A\",False)] (Imply (Const False) vA)\n",
    "eval [(\"A\",True)] (Imply (Const False) vA)"
   ]
  },
  {
   "cell_type": "markdown",
   "metadata": {},
   "source": [
    "주교재에서는 책의 앞부분에 정의한 `rmdup`라는 함수를 이용해\n",
    "나중에 `vars` 함수의 결과로부터 중복을 제거하지만,\n",
    "우리는 그냥 여기서 `++` 대신 `union`을 써서 `vars`를 정의함으로써\n",
    "중복된 변수 이름에 대한 걱정을 덜어버리자."
   ]
  },
  {
   "cell_type": "code",
   "execution_count": 8,
   "metadata": {},
   "outputs": [],
   "source": [
    "import Data.List -- union 등\n",
    "\n",
    "vars :: Prop -> [Nm]\n",
    "vars (Const _)   = []\n",
    "vars (Var x)     = [x]\n",
    "vars (Not p)     = vars p\n",
    "vars (And p q)   = vars p `union` vars q\n",
    "vars (Imply p q) = vars p `union` vars q"
   ]
  },
  {
   "cell_type": "code",
   "execution_count": 9,
   "metadata": {},
   "outputs": [
    {
     "data": {
      "text/plain": [
       "[\"A\",\"B\",\"B\",\"C\"]"
      ]
     },
     "metadata": {},
     "output_type": "display_data"
    },
    {
     "data": {
      "text/plain": [
       "[\"A\",\"B\",\"C\"]"
      ]
     },
     "metadata": {},
     "output_type": "display_data"
    }
   ],
   "source": [
    "[\"A\",\"B\"] ++ [\"B\",\"C\"]\n",
    "[\"A\",\"B\"] `union` [\"B\",\"C\"]"
   ]
  },
  {
   "cell_type": "code",
   "execution_count": 10,
   "metadata": {},
   "outputs": [
    {
     "data": {
      "text/plain": [
       "[\"A\",\"B\"]"
      ]
     },
     "metadata": {},
     "output_type": "display_data"
    },
    {
     "data": {
      "text/plain": [
       "[\"A\",\"B\",\"C\"]"
      ]
     },
     "metadata": {},
     "output_type": "display_data"
    }
   ],
   "source": [
    "vars p4\n",
    "vars p5"
   ]
  },
  {
   "cell_type": "code",
   "execution_count": 11,
   "metadata": {},
   "outputs": [
    {
     "data": {
      "text/plain": [
       "[2,4,6,8]"
      ]
     },
     "metadata": {},
     "output_type": "display_data"
    }
   ],
   "source": [
    "map (2*) [1,2,3,4]"
   ]
  },
  {
   "cell_type": "code",
   "execution_count": 12,
   "metadata": {},
   "outputs": [
    {
     "data": {
      "text/plain": [
       "13"
      ]
     },
     "metadata": {},
     "output_type": "display_data"
    },
    {
     "data": {
      "text/plain": [
       "13"
      ]
     },
     "metadata": {},
     "output_type": "display_data"
    }
   ],
   "source": [
    "3+10\n",
    "f = (3+)\n",
    "f 10"
   ]
  },
  {
   "cell_type": "code",
   "execution_count": 13,
   "metadata": {},
   "outputs": [
    {
     "data": {
      "text/plain": [
       "[True,False,True]"
      ]
     },
     "metadata": {},
     "output_type": "display_data"
    },
    {
     "data": {
      "text/plain": [
       "[True,False,True]"
      ]
     },
     "metadata": {},
     "output_type": "display_data"
    }
   ],
   "source": [
    "True:[False,True]\n",
    "g = (True:)\n",
    "g [False,True]"
   ]
  },
  {
   "cell_type": "code",
   "execution_count": 14,
   "metadata": {},
   "outputs": [
    {
     "data": {
      "text/plain": [
       "[False,False]"
      ]
     },
     "metadata": {},
     "output_type": "display_data"
    },
    {
     "data": {
      "text/plain": [
       "[True,False]"
      ]
     },
     "metadata": {},
     "output_type": "display_data"
    }
   ],
   "source": [
    "f0 = \\bs -> False:bs\n",
    "f1 = \\bs -> True:bs\n",
    "\n",
    "f0 [False]\n",
    "f1 [False]"
   ]
  },
  {
   "cell_type": "code",
   "execution_count": 15,
   "metadata": {},
   "outputs": [
    {
     "data": {
      "text/plain": [
       "[[False],[True]]"
      ]
     },
     "metadata": {},
     "output_type": "display_data"
    },
    {
     "data": {
      "text/plain": [
       "[[False,False],[False,True],[True,False],[True,True]]"
      ]
     },
     "metadata": {},
     "output_type": "display_data"
    }
   ],
   "source": [
    "[ [False], [True] ] -- bools 1\n",
    "\n",
    "-- bools (1+1)\n",
    "map (False:) [ [False], [True] ] ++ map f1 [ [False], [True] ]"
   ]
  },
  {
   "cell_type": "code",
   "execution_count": 16,
   "metadata": {},
   "outputs": [],
   "source": [
    "bools :: Int -> [[Bool]]\n",
    "bools n | n <= 0    = [[]]\n",
    "        | otherwise = map (False:) bss ++ map (True:) bss\n",
    "        -- | otherwise = [b:bs | b<-[False,True], bs<-bss]\n",
    "        where bss = bools (n-1)"
   ]
  },
  {
   "cell_type": "code",
   "execution_count": 17,
   "metadata": {},
   "outputs": [
    {
     "data": {
      "text/plain": [
       "[[]]"
      ]
     },
     "metadata": {},
     "output_type": "display_data"
    }
   ],
   "source": [
    "bools 0"
   ]
  },
  {
   "cell_type": "code",
   "execution_count": 18,
   "metadata": {},
   "outputs": [
    {
     "data": {
      "text/plain": [
       "[[False],[True]]"
      ]
     },
     "metadata": {},
     "output_type": "display_data"
    }
   ],
   "source": [
    "bools 1"
   ]
  },
  {
   "cell_type": "code",
   "execution_count": 19,
   "metadata": {},
   "outputs": [
    {
     "data": {
      "text/plain": [
       "[[False,False],[False,True],[True,False],[True,True]]"
      ]
     },
     "metadata": {},
     "output_type": "display_data"
    },
    {
     "data": {
      "text/plain": [
       "-----"
      ]
     },
     "metadata": {},
     "output_type": "display_data"
    },
    {
     "data": {
      "text/plain": [
       "[False,False]\n",
       "[False,True]\n",
       "[True,False]\n",
       "[True,True]"
      ]
     },
     "metadata": {},
     "output_type": "display_data"
    }
   ],
   "source": [
    "bools 2\n",
    "putStrLn \"-----\"\n",
    "mapM_ print $ bools 2"
   ]
  },
  {
   "cell_type": "code",
   "execution_count": 20,
   "metadata": {},
   "outputs": [
    {
     "data": {
      "text/plain": [
       "[[False,False,False],[False,False,True],[False,True,False],[False,True,True],[True,False,False],[True,False,True],[True,True,False],[True,True,True]]"
      ]
     },
     "metadata": {},
     "output_type": "display_data"
    },
    {
     "data": {
      "text/plain": [
       "-----"
      ]
     },
     "metadata": {},
     "output_type": "display_data"
    },
    {
     "data": {
      "text/plain": [
       "[False,False,False]\n",
       "[False,False,True]\n",
       "[False,True,False]\n",
       "[False,True,True]\n",
       "[True,False,False]\n",
       "[True,False,True]\n",
       "[True,True,False]\n",
       "[True,True,True]"
      ]
     },
     "metadata": {},
     "output_type": "display_data"
    }
   ],
   "source": [
    "bools 3\n",
    "putStrLn \"-----\"\n",
    "mapM_ print $ bools 3"
   ]
  },
  {
   "cell_type": "code",
   "execution_count": 21,
   "metadata": {},
   "outputs": [
    {
     "data": {
      "text/plain": [
       "[(\"A\",False),(\"B\",False)]"
      ]
     },
     "metadata": {},
     "output_type": "display_data"
    },
    {
     "data": {
      "text/plain": [
       "2"
      ]
     },
     "metadata": {},
     "output_type": "display_data"
    }
   ],
   "source": [
    "(zip [\"A\",\"B\"]) [False,False]\n",
    "length [\"A\",\"B\"]"
   ]
  },
  {
   "cell_type": "code",
   "execution_count": 22,
   "metadata": {},
   "outputs": [
    {
     "data": {
      "text/plain": [
       "[(\"A\",False),(\"B\",False)]"
      ]
     },
     "metadata": {},
     "output_type": "display_data"
    },
    {
     "data": {
      "text/plain": [
       "[(\"A\",False),(\"B\",True)]"
      ]
     },
     "metadata": {},
     "output_type": "display_data"
    },
    {
     "data": {
      "text/plain": [
       "[(\"A\",True),(\"B\",False)]"
      ]
     },
     "metadata": {},
     "output_type": "display_data"
    },
    {
     "data": {
      "text/plain": [
       "[(\"A\",True),(\"B\",True)]"
      ]
     },
     "metadata": {},
     "output_type": "display_data"
    },
    {
     "data": {
      "text/plain": [
       "[[(\"A\",False),(\"B\",False)],[(\"A\",False),(\"B\",True)],[(\"A\",True),(\"B\",False)],[(\"A\",True),(\"B\",True)]]"
      ]
     },
     "metadata": {},
     "output_type": "display_data"
    }
   ],
   "source": [
    "(zip [\"A\",\"B\"]) [False,False]\n",
    "(zip [\"A\",\"B\"]) [False,True] \n",
    "(zip [\"A\",\"B\"]) [True, False]\n",
    "(zip [\"A\",\"B\"]) [True, True] \n",
    "\n",
    "map (zip [\"A\",\"B\"]) [ [False,False]\n",
    "                    , [False,True] \n",
    "                    , [True, False]\n",
    "                    , [True, True]  ]"
   ]
  },
  {
   "cell_type": "code",
   "execution_count": 23,
   "metadata": {},
   "outputs": [
    {
     "data": {
      "text/plain": [
       "[(\"A\",False),(\"B\",False),(\"C\",True)]"
      ]
     },
     "metadata": {},
     "output_type": "display_data"
    },
    {
     "data": {
      "text/plain": [
       "3"
      ]
     },
     "metadata": {},
     "output_type": "display_data"
    }
   ],
   "source": [
    "(zip [\"A\",\"B\",\"C\"]) [False,False,True]\n",
    "length [\"A\",\"B\",\"C\"]"
   ]
  },
  {
   "cell_type": "code",
   "execution_count": 24,
   "metadata": {},
   "outputs": [],
   "source": [
    "substs :: Prop -> [Subst]\n",
    "substs p = map (zip vs) (bools (length vs))\n",
    "        -- [zip vs bs | bs<-bools (length vs)]\n",
    "        where vs = vars p"
   ]
  },
  {
   "cell_type": "code",
   "execution_count": 25,
   "metadata": {},
   "outputs": [],
   "source": [
    "pp1 = Imply vA (And vA vB) -- A => (A /\\ B)\n",
    "pp2 = Imply (And vA vB) vA -- (A /\\ B) => A"
   ]
  },
  {
   "cell_type": "code",
   "execution_count": 26,
   "metadata": {},
   "outputs": [
    {
     "data": {
      "text/plain": [
       "[[(\"A\",False),(\"B\",False)],[(\"A\",False),(\"B\",True)],[(\"A\",True),(\"B\",False)],[(\"A\",True),(\"B\",True)]]"
      ]
     },
     "metadata": {},
     "output_type": "display_data"
    },
    {
     "data": {
      "text/plain": [
       "[True,True,False,True]"
      ]
     },
     "metadata": {},
     "output_type": "display_data"
    }
   ],
   "source": [
    "substs pp1\n",
    "{-\n",
    "eval [(\"A\",False),(\"B\",False)] pp1\n",
    "eval [(\"A\",False),(\"B\",True)] pp1\n",
    "eval [(\"A\",True),(\"B\",False)] pp1\n",
    "eval [(\"A\",True),(\"B\",True)] pp1\n",
    "-}\n",
    "map (\\s -> eval s pp1) (substs pp1)"
   ]
  },
  {
   "cell_type": "code",
   "execution_count": 27,
   "metadata": {},
   "outputs": [
    {
     "data": {
      "text/plain": [
       "[[(\"A\",False),(\"B\",False)],[(\"A\",False),(\"B\",True)],[(\"A\",True),(\"B\",False)],[(\"A\",True),(\"B\",True)]]"
      ]
     },
     "metadata": {},
     "output_type": "display_data"
    },
    {
     "data": {
      "text/plain": [
       "True"
      ]
     },
     "metadata": {},
     "output_type": "display_data"
    },
    {
     "data": {
      "text/plain": [
       "True"
      ]
     },
     "metadata": {},
     "output_type": "display_data"
    },
    {
     "data": {
      "text/plain": [
       "True"
      ]
     },
     "metadata": {},
     "output_type": "display_data"
    },
    {
     "data": {
      "text/plain": [
       "True"
      ]
     },
     "metadata": {},
     "output_type": "display_data"
    },
    {
     "data": {
      "text/plain": [
       "[True,True,True,True]"
      ]
     },
     "metadata": {},
     "output_type": "display_data"
    }
   ],
   "source": [
    "substs pp2\n",
    "\n",
    "eval [(\"A\",False),(\"B\",False)] pp2\n",
    "eval [(\"A\",False),(\"B\",True)] pp2\n",
    "eval [(\"A\",True),(\"B\",False)] pp2\n",
    "eval [(\"A\",True),(\"B\",True)] pp2\n",
    "\n",
    "map (\\s -> eval s pp2) (substs pp2)"
   ]
  },
  {
   "cell_type": "code",
   "execution_count": 28,
   "metadata": {},
   "outputs": [
    {
     "data": {
      "text/plain": [
       "[[(\"A\",False),(\"B\",False)],[(\"A\",False),(\"B\",True)],[(\"A\",True),(\"B\",False)],[(\"A\",True),(\"B\",True)]]"
      ]
     },
     "metadata": {},
     "output_type": "display_data"
    },
    {
     "data": {
      "text/plain": [
       "[\"A\",\"B\"]"
      ]
     },
     "metadata": {},
     "output_type": "display_data"
    },
    {
     "data": {
      "text/plain": [
       "-----"
      ]
     },
     "metadata": {},
     "output_type": "display_data"
    },
    {
     "data": {
      "text/plain": [
       "[(\"A\",False),(\"B\",False)]\n",
       "[(\"A\",False),(\"B\",True)]\n",
       "[(\"A\",True),(\"B\",False)]\n",
       "[(\"A\",True),(\"B\",True)]"
      ]
     },
     "metadata": {},
     "output_type": "display_data"
    }
   ],
   "source": [
    "substs p4\n",
    "vars p4\n",
    "putStrLn \"-----\"\n",
    "mapM_ print $ substs p4"
   ]
  },
  {
   "cell_type": "code",
   "execution_count": 29,
   "metadata": {},
   "outputs": [
    {
     "data": {
      "text/plain": [
       "[[(\"A\",False),(\"B\",False),(\"C\",False)],[(\"A\",False),(\"B\",False),(\"C\",True)],[(\"A\",False),(\"B\",True),(\"C\",False)],[(\"A\",False),(\"B\",True),(\"C\",True)],[(\"A\",True),(\"B\",False),(\"C\",False)],[(\"A\",True),(\"B\",False),(\"C\",True)],[(\"A\",True),(\"B\",True),(\"C\",False)],[(\"A\",True),(\"B\",True),(\"C\",True)]]"
      ]
     },
     "metadata": {},
     "output_type": "display_data"
    },
    {
     "data": {
      "text/plain": [
       "[\"A\",\"B\",\"C\"]"
      ]
     },
     "metadata": {},
     "output_type": "display_data"
    },
    {
     "data": {
      "text/plain": [
       "-----"
      ]
     },
     "metadata": {},
     "output_type": "display_data"
    },
    {
     "data": {
      "text/plain": [
       "[(\"A\",False),(\"B\",False),(\"C\",False)]\n",
       "[(\"A\",False),(\"B\",False),(\"C\",True)]\n",
       "[(\"A\",False),(\"B\",True),(\"C\",False)]\n",
       "[(\"A\",False),(\"B\",True),(\"C\",True)]\n",
       "[(\"A\",True),(\"B\",False),(\"C\",False)]\n",
       "[(\"A\",True),(\"B\",False),(\"C\",True)]\n",
       "[(\"A\",True),(\"B\",True),(\"C\",False)]\n",
       "[(\"A\",True),(\"B\",True),(\"C\",True)]"
      ]
     },
     "metadata": {},
     "output_type": "display_data"
    }
   ],
   "source": [
    "substs p5\n",
    "vars p5\n",
    "putStrLn \"-----\"\n",
    "mapM_ print $ substs p5"
   ]
  },
  {
   "cell_type": "code",
   "execution_count": 30,
   "metadata": {},
   "outputs": [
    {
     "data": {
      "text/plain": [
       "True"
      ]
     },
     "metadata": {},
     "output_type": "display_data"
    },
    {
     "data": {
      "text/plain": [
       "False"
      ]
     },
     "metadata": {},
     "output_type": "display_data"
    }
   ],
   "source": [
    "and [True,True,True] -- && 리스트 버전\n",
    "and [True,False,True]"
   ]
  },
  {
   "cell_type": "code",
   "execution_count": 31,
   "metadata": {},
   "outputs": [
    {
     "data": {
      "text/plain": [
       "False"
      ]
     },
     "metadata": {},
     "output_type": "display_data"
    },
    {
     "data": {
      "text/plain": [
       "True"
      ]
     },
     "metadata": {},
     "output_type": "display_data"
    }
   ],
   "source": [
    "or [False,False,False] -- || 리스트 버전\n",
    "or [False,True,False]"
   ]
  },
  {
   "cell_type": "code",
   "execution_count": 32,
   "metadata": {},
   "outputs": [],
   "source": [
    "isTaut :: Prop -> Bool\n",
    "isTaut p = and (map (\\s -> eval s p) (substs p))\n",
    "         -- and [eval s p | s <- substs p]"
   ]
  },
  {
   "cell_type": "code",
   "execution_count": 33,
   "metadata": {},
   "outputs": [],
   "source": [
    "-- 만족가능한(satisfiable) 명제인지 검사 \n",
    "isSat :: Prop -> Bool\n",
    "isSat p = or (map (\\s -> eval s p) (substs p))\n",
    "\n",
    "unSat = not . isSat"
   ]
  },
  {
   "cell_type": "code",
   "execution_count": 34,
   "metadata": {},
   "outputs": [
    {
     "data": {
      "text/plain": [
       "Imply (Var \"A\") (And (Var \"A\") (Var \"B\"))"
      ]
     },
     "metadata": {},
     "output_type": "display_data"
    },
    {
     "data": {
      "text/plain": [
       "False"
      ]
     },
     "metadata": {},
     "output_type": "display_data"
    }
   ],
   "source": [
    "pp1\n",
    "isTaut pp1"
   ]
  },
  {
   "cell_type": "code",
   "execution_count": 35,
   "metadata": {},
   "outputs": [
    {
     "data": {
      "text/plain": [
       "Imply (And (Var \"A\") (Var \"B\")) (Var \"A\")"
      ]
     },
     "metadata": {},
     "output_type": "display_data"
    },
    {
     "data": {
      "text/plain": [
       "True"
      ]
     },
     "metadata": {},
     "output_type": "display_data"
    }
   ],
   "source": [
    "pp2\n",
    "isTaut pp2"
   ]
  },
  {
   "cell_type": "code",
   "execution_count": 36,
   "metadata": {},
   "outputs": [
    {
     "data": {
      "text/plain": [
       "[False,False]"
      ]
     },
     "metadata": {},
     "output_type": "display_data"
    }
   ],
   "source": [
    "pp3 = And vA (Not vA) -- 만족가능하지 않음\n",
    "map (\\s -> eval s pp3) (substs pp3)"
   ]
  },
  {
   "cell_type": "code",
   "execution_count": 37,
   "metadata": {},
   "outputs": [
    {
     "data": {
      "text/plain": [
       "And (Var \"A\") (Not (Var \"B\"))"
      ]
     },
     "metadata": {},
     "output_type": "display_data"
    },
    {
     "data": {
      "text/plain": [
       "False"
      ]
     },
     "metadata": {},
     "output_type": "display_data"
    },
    {
     "data": {
      "text/plain": [
       "Imply (Var \"A\") (Var \"B\")"
      ]
     },
     "metadata": {},
     "output_type": "display_data"
    },
    {
     "data": {
      "text/plain": [
       "False"
      ]
     },
     "metadata": {},
     "output_type": "display_data"
    },
    {
     "data": {
      "text/plain": [
       "Imply (And (Var \"A\") (Var \"B\")) (Var \"A\")"
      ]
     },
     "metadata": {},
     "output_type": "display_data"
    },
    {
     "data": {
      "text/plain": [
       "True"
      ]
     },
     "metadata": {},
     "output_type": "display_data"
    },
    {
     "data": {
      "text/plain": [
       "Imply (And (Var \"A\") (Imply (Var \"A\") (Var \"B\"))) (Var \"B\")"
      ]
     },
     "metadata": {},
     "output_type": "display_data"
    },
    {
     "data": {
      "text/plain": [
       "True"
      ]
     },
     "metadata": {},
     "output_type": "display_data"
    },
    {
     "data": {
      "text/plain": [
       "Imply (And (Imply (Var \"A\") (Var \"B\")) (Imply (Var \"B\") (Var \"C\"))) (Imply (Var \"A\") (Var \"C\"))"
      ]
     },
     "metadata": {},
     "output_type": "display_data"
    },
    {
     "data": {
      "text/plain": [
       "True"
      ]
     },
     "metadata": {},
     "output_type": "display_data"
    }
   ],
   "source": [
    "print p1 -- A /\\ ㄱB\n",
    "isTaut p1\n",
    "print p2 -- A => B\n",
    "isTaut p2\n",
    "print p3 -- (A /\\ B) => A\n",
    "isTaut p3\n",
    "print p4 -- (A /\\ (A=>B)) => B\n",
    "isTaut p4\n",
    "print p5 -- ((A=>B)/\\(B=>C)) => (A=>C)\n",
    "isTaut p5"
   ]
  },
  {
   "cell_type": "code",
   "execution_count": null,
   "metadata": {},
   "outputs": [],
   "source": []
  }
 ],
 "metadata": {
  "kernelspec": {
   "display_name": "Haskell",
   "language": "haskell",
   "name": "haskell"
  },
  "language_info": {
   "codemirror_mode": "ihaskell",
   "file_extension": ".hs",
   "name": "haskell",
   "pygments_lexer": "Haskell",
   "version": "8.6.5"
  }
 },
 "nbformat": 4,
 "nbformat_minor": 4
}
