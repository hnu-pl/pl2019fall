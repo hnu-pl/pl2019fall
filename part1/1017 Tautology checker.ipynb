{
 "cells": [
  {
   "cell_type": "code",
   "execution_count": 36,
   "metadata": {},
   "outputs": [],
   "source": [
    ":opt no-lint"
   ]
  },
  {
   "cell_type": "markdown",
   "metadata": {},
   "source": [
    "# Tautology checker (주교재 8.6절)"
   ]
  },
  {
   "cell_type": "code",
   "execution_count": 52,
   "metadata": {},
   "outputs": [],
   "source": [
    "type Nm = String -- 책에서는 Char이지만 우리는 String으로 하자\n",
    "\n",
    "data Prop = Const Bool      -- True, False\n",
    "          | Var Nm          -- x\n",
    "          | Not Prop        -- ¬ A\n",
    "          | And Prop Prop   -- A ∧ B\n",
    "          | Imply Prop Prop -- A ⇒ B\n",
    "          deriving Show"
   ]
  },
  {
   "cell_type": "code",
   "execution_count": 53,
   "metadata": {},
   "outputs": [],
   "source": [
    "vA = Var \"A\"\n",
    "vB = Var \"B\"\n",
    "vC = Var \"C\"\n",
    "\n",
    "p1 = And vA (Not vB) -- -- A /\\ ㄱB\n",
    "p2 = Imply vA vB -- A => B\n",
    "p3 = Imply (And vA vB) vA -- (A /\\ B) => A\n",
    "p4 = Imply (And vA (Imply vA vB)) vB -- (A /\\ (A=>B)) => B\n",
    "p5 = Imply (And (Imply vA vB) (Imply vB vC)) (Imply vA vC)\n",
    "     -- ((A=>B)/\\(B=>C)) => (A=>C)"
   ]
  },
  {
   "cell_type": "code",
   "execution_count": 54,
   "metadata": {},
   "outputs": [],
   "source": [
    "type Subst = [ (Nm, Bool) ] -- 덧셈식이나 람다식에서 Env에 해당\n",
    "\n",
    "eval :: Subst -> Prop -> Bool\n",
    "eval _ (Const b)   = b\n",
    "eval s (Var x)     = find x s\n",
    "eval s (Not p)     = not (eval s p)\n",
    "eval s (And p q)   = eval s p && eval s q\n",
    "eval s (Imply p q) = not(eval s p) || eval s q\n",
    "          -- 책에서는 eval s p <= eval s q\n",
    "\n",
    "find x s = case lookup x s of\n",
    "             Nothing -> error $ x++\" not defined\"\n",
    "             Just b -> b"
   ]
  },
  {
   "cell_type": "code",
   "execution_count": 55,
   "metadata": {},
   "outputs": [],
   "source": [
    "import Data.List -- union 등\n",
    "\n",
    "-- 책에서는 중복을 나중에 제거하지만 우리는 그냥 여기서 union을 쓰자\n",
    "vars :: Prop -> [Nm]\n",
    "vars (Const _)   = []\n",
    "vars (Var x)     = [x]\n",
    "vars (Not p)     = vars p\n",
    "vars (And p q)   = vars p `union` vars q\n",
    "vars (Imply p q) = vars p `union` vars q"
   ]
  },
  {
   "cell_type": "code",
   "execution_count": 56,
   "metadata": {},
   "outputs": [
    {
     "data": {
      "text/plain": [
       "[\"A\",\"B\"]"
      ]
     },
     "metadata": {},
     "output_type": "display_data"
    },
    {
     "data": {
      "text/plain": [
       "[\"A\",\"B\",\"C\"]"
      ]
     },
     "metadata": {},
     "output_type": "display_data"
    }
   ],
   "source": [
    "vars p4\n",
    "vars p5"
   ]
  },
  {
   "cell_type": "code",
   "execution_count": 57,
   "metadata": {},
   "outputs": [],
   "source": [
    "bools :: Int -> [[Bool]]\n",
    "bools n | n <= 0    = [[]]\n",
    "        | otherwise = map (False:) bss ++ map (True:) bss\n",
    "        -- | otherwise = [b:bs | b<-[False,True], bs<-bss]\n",
    "        where bss = bools (n-1)"
   ]
  },
  {
   "cell_type": "code",
   "execution_count": 58,
   "metadata": {},
   "outputs": [
    {
     "data": {
      "text/plain": [
       "[[False,False],[False,True],[True,False],[True,True]]"
      ]
     },
     "metadata": {},
     "output_type": "display_data"
    },
    {
     "data": {
      "text/plain": [
       "-----"
      ]
     },
     "metadata": {},
     "output_type": "display_data"
    },
    {
     "data": {
      "text/plain": [
       "[False,False]\n",
       "[False,True]\n",
       "[True,False]\n",
       "[True,True]"
      ]
     },
     "metadata": {},
     "output_type": "display_data"
    }
   ],
   "source": [
    "bools 2\n",
    "putStrLn \"-----\"\n",
    "mapM_ print $ bools 2"
   ]
  },
  {
   "cell_type": "code",
   "execution_count": 59,
   "metadata": {},
   "outputs": [
    {
     "data": {
      "text/plain": [
       "[[False,False,False],[False,False,True],[False,True,False],[False,True,True],[True,False,False],[True,False,True],[True,True,False],[True,True,True]]"
      ]
     },
     "metadata": {},
     "output_type": "display_data"
    },
    {
     "data": {
      "text/plain": [
       "-----"
      ]
     },
     "metadata": {},
     "output_type": "display_data"
    },
    {
     "data": {
      "text/plain": [
       "[False,False,False]\n",
       "[False,False,True]\n",
       "[False,True,False]\n",
       "[False,True,True]\n",
       "[True,False,False]\n",
       "[True,False,True]\n",
       "[True,True,False]\n",
       "[True,True,True]"
      ]
     },
     "metadata": {},
     "output_type": "display_data"
    }
   ],
   "source": [
    "bools 3\n",
    "putStrLn \"-----\"\n",
    "mapM_ print $ bools 3"
   ]
  },
  {
   "cell_type": "code",
   "execution_count": 60,
   "metadata": {},
   "outputs": [],
   "source": [
    "substs :: Prop -> [Subst]\n",
    "substs p = map (zip vs) (bools (length vs))\n",
    "        -- [zip vs bs | bs<-bools (length vs)]\n",
    "        where vs = vars p"
   ]
  },
  {
   "cell_type": "code",
   "execution_count": 61,
   "metadata": {},
   "outputs": [
    {
     "data": {
      "text/plain": [
       "[[(\"A\",False),(\"B\",False)],[(\"A\",False),(\"B\",True)],[(\"A\",True),(\"B\",False)],[(\"A\",True),(\"B\",True)]]"
      ]
     },
     "metadata": {},
     "output_type": "display_data"
    },
    {
     "data": {
      "text/plain": [
       "-----"
      ]
     },
     "metadata": {},
     "output_type": "display_data"
    },
    {
     "data": {
      "text/plain": [
       "[(\"A\",False),(\"B\",False)]\n",
       "[(\"A\",False),(\"B\",True)]\n",
       "[(\"A\",True),(\"B\",False)]\n",
       "[(\"A\",True),(\"B\",True)]"
      ]
     },
     "metadata": {},
     "output_type": "display_data"
    }
   ],
   "source": [
    "substs p4\n",
    "putStrLn \"-----\"\n",
    "mapM_ print $ substs p4"
   ]
  },
  {
   "cell_type": "code",
   "execution_count": 62,
   "metadata": {},
   "outputs": [
    {
     "data": {
      "text/plain": [
       "[[(\"A\",False),(\"B\",False),(\"C\",False)],[(\"A\",False),(\"B\",False),(\"C\",True)],[(\"A\",False),(\"B\",True),(\"C\",False)],[(\"A\",False),(\"B\",True),(\"C\",True)],[(\"A\",True),(\"B\",False),(\"C\",False)],[(\"A\",True),(\"B\",False),(\"C\",True)],[(\"A\",True),(\"B\",True),(\"C\",False)],[(\"A\",True),(\"B\",True),(\"C\",True)]]"
      ]
     },
     "metadata": {},
     "output_type": "display_data"
    },
    {
     "data": {
      "text/plain": [
       "-----"
      ]
     },
     "metadata": {},
     "output_type": "display_data"
    },
    {
     "data": {
      "text/plain": [
       "[(\"A\",False),(\"B\",False),(\"C\",False)]\n",
       "[(\"A\",False),(\"B\",False),(\"C\",True)]\n",
       "[(\"A\",False),(\"B\",True),(\"C\",False)]\n",
       "[(\"A\",False),(\"B\",True),(\"C\",True)]\n",
       "[(\"A\",True),(\"B\",False),(\"C\",False)]\n",
       "[(\"A\",True),(\"B\",False),(\"C\",True)]\n",
       "[(\"A\",True),(\"B\",True),(\"C\",False)]\n",
       "[(\"A\",True),(\"B\",True),(\"C\",True)]"
      ]
     },
     "metadata": {},
     "output_type": "display_data"
    }
   ],
   "source": [
    "substs p5\n",
    "putStrLn \"-----\"\n",
    "mapM_ print $ substs p5"
   ]
  },
  {
   "cell_type": "code",
   "execution_count": 63,
   "metadata": {},
   "outputs": [],
   "source": [
    "isTaut :: Prop -> Bool\n",
    "isTaut p = and [eval s p | s <- substs p]"
   ]
  },
  {
   "cell_type": "code",
   "execution_count": 64,
   "metadata": {},
   "outputs": [
    {
     "data": {
      "text/plain": [
       "And (Var \"A\") (Not (Var \"B\"))"
      ]
     },
     "metadata": {},
     "output_type": "display_data"
    },
    {
     "data": {
      "text/plain": [
       "False"
      ]
     },
     "metadata": {},
     "output_type": "display_data"
    },
    {
     "data": {
      "text/plain": [
       "Imply (Var \"A\") (Var \"B\")"
      ]
     },
     "metadata": {},
     "output_type": "display_data"
    },
    {
     "data": {
      "text/plain": [
       "False"
      ]
     },
     "metadata": {},
     "output_type": "display_data"
    },
    {
     "data": {
      "text/plain": [
       "Imply (And (Var \"A\") (Var \"B\")) (Var \"A\")"
      ]
     },
     "metadata": {},
     "output_type": "display_data"
    },
    {
     "data": {
      "text/plain": [
       "True"
      ]
     },
     "metadata": {},
     "output_type": "display_data"
    },
    {
     "data": {
      "text/plain": [
       "Imply (And (Var \"A\") (Imply (Var \"A\") (Var \"B\"))) (Var \"B\")"
      ]
     },
     "metadata": {},
     "output_type": "display_data"
    },
    {
     "data": {
      "text/plain": [
       "True"
      ]
     },
     "metadata": {},
     "output_type": "display_data"
    },
    {
     "data": {
      "text/plain": [
       "Imply (And (Imply (Var \"A\") (Var \"B\")) (Imply (Var \"B\") (Var \"C\"))) (Imply (Var \"A\") (Var \"C\"))"
      ]
     },
     "metadata": {},
     "output_type": "display_data"
    },
    {
     "data": {
      "text/plain": [
       "True"
      ]
     },
     "metadata": {},
     "output_type": "display_data"
    }
   ],
   "source": [
    "print p1\n",
    "isTaut p1\n",
    "print p2\n",
    "isTaut p2\n",
    "print p3\n",
    "isTaut p3\n",
    "print p4\n",
    "isTaut p4\n",
    "print p5\n",
    "isTaut p5"
   ]
  },
  {
   "cell_type": "code",
   "execution_count": null,
   "metadata": {},
   "outputs": [],
   "source": []
  }
 ],
 "metadata": {
  "kernelspec": {
   "display_name": "Haskell",
   "language": "haskell",
   "name": "haskell"
  },
  "language_info": {
   "codemirror_mode": "ihaskell",
   "file_extension": ".hs",
   "name": "haskell",
   "pygments_lexer": "Haskell",
   "version": "8.6.5"
  }
 },
 "nbformat": 4,
 "nbformat_minor": 4
}
