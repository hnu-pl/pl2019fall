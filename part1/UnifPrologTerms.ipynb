{
 "cells": [
  {
   "cell_type": "code",
   "execution_count": 8,
   "metadata": {},
   "outputs": [],
   "source": [
    "-- Prolog term\n",
    "data Term = V String        -- logic variable.       String 대문자로 시작\n",
    "          | T String [Term] -- atom when empty list. String 소문자로 시작\n",
    "      deriving (Eq,Ord,Show)"
   ]
  },
  {
   "cell_type": "code",
   "execution_count": 9,
   "metadata": {},
   "outputs": [],
   "source": [
    "import Data.List\n",
    "-- Prolog term처럼 보이게 좀더 예쁘게 출력할 수 있는 문자열로\n",
    "pp (V x) = x\n",
    "pp (T a []) = a\n",
    "pp (T f ts) = f ++ (paren . concat . intersperse \",\" $ map pp ts )\n",
    "\n",
    "paren s = \"(\"++s++\")\""
   ]
  },
  {
   "cell_type": "code",
   "execution_count": 10,
   "metadata": {},
   "outputs": [
    {
     "data": {
      "text/plain": [
       "V \"X\""
      ]
     },
     "metadata": {},
     "output_type": "display_data"
    },
    {
     "data": {
      "text/plain": [
       "\"X\""
      ]
     },
     "metadata": {},
     "output_type": "display_data"
    }
   ],
   "source": [
    "-- 변수 X\n",
    "V \"X\" \n",
    "pp(V \"X\")"
   ]
  },
  {
   "cell_type": "code",
   "execution_count": 11,
   "metadata": {},
   "outputs": [
    {
     "data": {
      "text/plain": [
       "T \"int\" []"
      ]
     },
     "metadata": {},
     "output_type": "display_data"
    },
    {
     "data": {
      "text/plain": [
       "\"int\""
      ]
     },
     "metadata": {},
     "output_type": "display_data"
    }
   ],
   "source": [
    "-- 아톰 int \n",
    "T \"int\" []\n",
    "pp(T \"int\" [])"
   ]
  },
  {
   "cell_type": "code",
   "execution_count": 12,
   "metadata": {},
   "outputs": [
    {
     "data": {
      "text/plain": [
       "T \"f\" [T \"int\" [],T \"int\" []]"
      ]
     },
     "metadata": {},
     "output_type": "display_data"
    },
    {
     "data": {
      "text/plain": [
       "\"f(int,int)\""
      ]
     },
     "metadata": {},
     "output_type": "display_data"
    }
   ],
   "source": [
    "-- 복합항 f(int,int)\n",
    "T \"f\" [T \"int\" [], T \"int\" []]\n",
    "pp(T \"f\" [T \"int\" [], T \"int\" []])"
   ]
  },
  {
   "cell_type": "markdown",
   "metadata": {},
   "source": [
    "일치화 규칙\n",
    "\n",
    "$\\displaystyle\n",
    "[a=a,~u_2=u_2',~\\cdots~],\\sigma \\rightsquigarrow\n",
    "[u_2=u_2',~\\cdots~],\\sigma \\\\\n",
    "[f(t_1,\\ldots,t_n)=f(t_1',\\ldots,t_n'),~u_2=u_2',~\\cdots~],\\sigma \\rightsquigarrow\n",
    "[t_1=t_1',\\cdots,t_n=t_n',u_2=u_2',~\\cdots~],\\sigma \\\\\n",
    "[X=X,~u_2=u_2',~\\cdots~],\\sigma \\rightsquigarrow\n",
    "[u_2=u_2',~\\cdots~],\\sigma \\\\\n",
    "[X=t,~u_2=u_2',~\\cdots~],\\sigma \\rightsquigarrow\n",
    "\\{X\\mapsto t\\}\\,[u_2=u_2',~\\cdots~],\\{X\\mapsto t\\}\\uplus\\sigma \\qquad (X~\\text{does not occur in}~ t) \\\\\n",
    "[t=X,~u_2=u_2',~\\cdots~],\\sigma \\rightsquigarrow\n",
    "[X=t,u_2=u_2',~\\cdots~],\\sigma\n",
    "$\n",
    "\n",
    "$\\{X\\mapsto t\\}\\,[u_1=s_1,\\cdots,u_n=s_n] = \\big[\\{X\\mapsto t\\}\\,u_1=\\{X\\mapsto t\\}\\,s_1,~\\cdots,~\\{X\\mapsto t\\}\\,u_1=\\{X\\mapsto t\\}\\,s_1\\big]$\n",
    "\n",
    "$\\{X\\mapsto t\\}\\uplus\\{X_1\\mapsto t_1,~\\cdots~,X_n\\mapsto t_n \\} = \\big\\{X\\mapsto t, x_1\\mapsto \\{X\\mapsto t\\}t_1,~\\cdots~,X_n\\mapsto \\{X\\mapsto t\\}t_n \\big\\}\n",
    "$"
   ]
  },
  {
   "cell_type": "code",
   "execution_count": 13,
   "metadata": {},
   "outputs": [],
   "source": [
    "occurs :: String -> Term -> Bool\n",
    "occurs x (V x') = x==x'\n",
    "occurs x (T _ ts) = any (occurs x) ts\n",
    "-- occurs x (T _ ts) = or [occurs x t | t<-ts]"
   ]
  },
  {
   "cell_type": "code",
   "execution_count": 14,
   "metadata": {},
   "outputs": [
    {
     "data": {
      "text/plain": [
       "False"
      ]
     },
     "metadata": {},
     "output_type": "display_data"
    },
    {
     "data": {
      "text/plain": [
       "True"
      ]
     },
     "metadata": {},
     "output_type": "display_data"
    }
   ],
   "source": [
    "occurs \"X\" (T \"f\" [T \"int\" [], V \"Y\"])\n",
    "occurs \"X\" (T \"f\" [T \"int\" [], V \"X\"])"
   ]
  },
  {
   "cell_type": "code",
   "execution_count": 15,
   "metadata": {},
   "outputs": [],
   "source": [
    "subst :: (String,Term) -> Term -> Term\n",
    "subst (x,t) u@(V y)  | x == y    = t\n",
    "                     | otherwise = u\n",
    "subst (x,t) (T f us) = T f [subst (x,t) u | u<-us]"
   ]
  },
  {
   "cell_type": "code",
   "execution_count": 16,
   "metadata": {},
   "outputs": [
    {
     "data": {
      "text/plain": [
       "\"f(X,X)\""
      ]
     },
     "metadata": {},
     "output_type": "display_data"
    },
    {
     "data": {
      "text/plain": [
       "\"f(f(int,int),f(int,int))\""
      ]
     },
     "metadata": {},
     "output_type": "display_data"
    }
   ],
   "source": [
    "-- {X |-> f(int,int)} f(X,X) ~~> f(f(int,int),f(int,int))\n",
    "int = T \"int\" []\n",
    "\n",
    "tm1 = T\"f\"[V\"X\",V\"X\"]\n",
    "tm2 = subst (\"X\",T\"f\"[int,int]) (T\"f\"[V\"X\",V\"X\"])\n",
    "\n",
    "pp tm1\n",
    "pp tm2"
   ]
  },
  {
   "cell_type": "markdown",
   "metadata": {},
   "source": [
    "일치화 규칙\n",
    "\n",
    "$\\displaystyle\n",
    "[a=a,~u_2=u_2',~\\cdots~],\\sigma \\rightsquigarrow\n",
    "[u_2=u_2',~\\cdots~],\\sigma \\\\\n",
    "[f(t_1,\\ldots,t_n)=f(t_1',\\ldots,t_n'),~u_2=u_2',~\\cdots~],\\sigma \\rightsquigarrow\n",
    "[t_1=t_1',\\cdots,t_n=t_n',u_2=u_2',~\\cdots~],\\sigma \\\\\n",
    "[X=X,~u_2=u_2',~\\cdots~],\\sigma \\rightsquigarrow\n",
    "[u_2=u_2',~\\cdots~],\\sigma \\\\\n",
    "[X=t,~u_2=u_2',~\\cdots~],\\sigma \\rightsquigarrow\n",
    "\\{X\\mapsto t\\}\\,[u_2=u_2',~\\cdots~],\\{X\\mapsto t\\}\\uplus\\sigma \\qquad (X~\\text{does not occur in}~ t) \\\\\n",
    "[t=X,~u_2=u_2',~\\cdots~],\\sigma \\rightsquigarrow\n",
    "[X=t,u_2=u_2',~\\cdots~],\\sigma\n",
    "$\n",
    "\n",
    "$\\{X\\mapsto t\\}\\,[u_1=s_1,\\cdots,u_n=s_n] = \\big[\\{X\\mapsto t\\}\\,u_1=\\{X\\mapsto t\\}\\,s_1,~\\cdots,~\\{X\\mapsto t\\}\\,u_1=\\{X\\mapsto t\\}\\,s_1\\big]$\n",
    "\n",
    "$\\{X\\mapsto t\\}\\uplus\\{X_1\\mapsto t_1,~\\cdots~,X_n\\mapsto t_n \\} = \\big\\{X\\mapsto t, x_1\\mapsto \\{X\\mapsto t\\}t_1,~\\cdots~,X_n\\mapsto \\{X\\mapsto t\\}t_n \\big\\}\n",
    "$"
   ]
  },
  {
   "cell_type": "code",
   "execution_count": 17,
   "metadata": {},
   "outputs": [
    {
     "data": {
      "text/plain": [
       "[(1,11),(2,12),(3,13),(4,14)]"
      ]
     },
     "metadata": {},
     "output_type": "display_data"
    }
   ],
   "source": [
    "zip [1,2,3,4] [11,12,13,14]"
   ]
  },
  {
   "cell_type": "code",
   "execution_count": 18,
   "metadata": {},
   "outputs": [],
   "source": [
    "type Eqn = (Term,Term)       -- t1 = t2\n",
    "type Subst = [(String,Term)] -- { X1 |-> t1, ..., Xn |-> tn }\n",
    "\n",
    "-- 일치화 알고리듬을 위 규칙에 따라 작성\n",
    "unif :: ([Eqn],Subst) -> ([Eqn],Subst)\n",
    "unif ((T f ts, T g us): es, s)\n",
    "       | f==g && length ts==length us  = unif (zip ts us ++ es, s)\n",
    "unif ((V x   , V x'  ): es, s) | x==x' = unif (es, s)\n",
    "unif ((V x   , t     ): es, s) | not(x `occurs` t) = unif (es', (x,t):s')\n",
    "  where es' = [(subst (x,t) t1, subst (x,t) t2) | (t1,t2)<-es]\n",
    "        s' = [(x',subst (x,t) t') | (x',t')<-s]\n",
    "unif ((t     , V x   ): es, s) = unif ((V x,t):es, s)\n",
    "unif (es, s) = (es, s)"
   ]
  },
  {
   "cell_type": "code",
   "execution_count": 19,
   "metadata": {},
   "outputs": [
    {
     "data": {
      "text/plain": [
       "([],[(\"Y\",T \"c\" [T \"3\" [],T \"2\" []]),(\"X\",T \"2\" [])])"
      ]
     },
     "metadata": {},
     "output_type": "display_data"
    }
   ],
   "source": [
    "t1 = T\"c\"[ V\"X\", T\"c\"[T\"3\"[],V\"X\"] ] -- c(X,c(3,X))\n",
    "t2 = T\"c\"[ T\"2\"[], V\"Y\" ]            -- c(2,Y)\n",
    "\n",
    "unif ([(t1,t2)], [])"
   ]
  },
  {
   "cell_type": "code",
   "execution_count": 20,
   "metadata": {},
   "outputs": [
    {
     "data": {
      "text/plain": [
       "([(T \"3\" [],T \"2\" []),(T \"2\" [],V \"Y\")],[(\"X\",T \"2\" [])])"
      ]
     },
     "metadata": {},
     "output_type": "display_data"
    }
   ],
   "source": [
    "t1 = T\"c\"[ V\"X\", T\"c\"[T\"3\"[],V\"X\"] ] -- c(X,c(3,X))\n",
    "t2 = T\"c\"[ T\"2\"[], T\"c\"[V\"X\",V\"Y\"] ] -- c(2,c(X,X))\n",
    "\n",
    "unif ([(t1,t2)], [])"
   ]
  },
  {
   "cell_type": "markdown",
   "metadata": {},
   "source": [
    "## 규칙 실행\n",
    "규칙 실행은 여러 세트의 연립방정식을 만들어냄\n",
    "\n",
    "규칙 실행의 결과 타입은 `[ [Eqn] ]`"
   ]
  },
  {
   "cell_type": "code",
   "execution_count": 21,
   "metadata": {},
   "outputs": [
    {
     "data": {
      "text/plain": [
       "[[1,1],[2,2],[3,3],[4,4]]"
      ]
     },
     "metadata": {},
     "output_type": "display_data"
    },
    {
     "data": {
      "text/plain": [
       "[[11,11],[22,22],[33,33],[44,44]]"
      ]
     },
     "metadata": {},
     "output_type": "display_data"
    },
    {
     "data": {
      "text/plain": [
       "[[1,1,11,11],[1,1,22,22],[1,1,33,33],[1,1,44,44],[2,2,11,11],[2,2,22,22],[2,2,33,33],[2,2,44,44],[3,3,11,11],[3,3,22,22],[3,3,33,33],[3,3,44,44],[4,4,11,11],[4,4,22,22],[4,4,33,33],[4,4,44,44]]"
      ]
     },
     "metadata": {},
     "output_type": "display_data"
    },
    {
     "data": {
      "text/plain": [
       "16"
      ]
     },
     "metadata": {},
     "output_type": "display_data"
    }
   ],
   "source": [
    "ess1 = [ [1,1],  [2,2],  [3,3],  [4,4] ]\n",
    "ess2 = [ [11,11],[22,22],[33,33],[44,44] ]\n",
    "\n",
    "ess1\n",
    "ess2\n",
    "\n",
    "[es1++es2  | es1<-ess1, es2<-ess2]\n",
    "length [es1++es2  | es1<-ess1, es2<-ess2]"
   ]
  },
  {
   "cell_type": "code",
   "execution_count": 23,
   "metadata": {},
   "outputs": [],
   "source": [
    "-- Prolog에서 =\n",
    "(.=) :: Term -> Term -> [ [Eqn] ]\n",
    "t1 .= t2  =  [ [(t1,t2)] ]\n",
    "\n",
    "-- Prolog에서 ,\n",
    "(.&) :: [ [Eqn] ] -> [ [Eqn] ] -> [ [Eqn] ]\n",
    "ess1 .& ess2  = [es1++es2  | es1<-ess1, es2<-ess2]\n",
    "\n",
    "-- Prolog에서 ;\n",
    "(.|) :: [ [Eqn] ] -> [ [Eqn] ] -> [ [Eqn] ]\n",
    "ess1 .| ess2  = ess1 ++ ess2"
   ]
  },
  {
   "cell_type": "code",
   "execution_count": 30,
   "metadata": {},
   "outputs": [],
   "source": [
    "{-\n",
    " (X=john, Y=mary) ;\n",
    " (X=bob, Y=mary)  ;\n",
    " (X=jane, Y=john) ;\n",
    " (X=mary, Y=john) .\n",
    "-}\n",
    "x = V\"X\"\n",
    "y = V\"Y\"\n",
    "john = T \"john\" []\n",
    "bob = T \"bob\" []\n",
    "mary = T \"mary\" []\n",
    "jane = T \"jane\" []\n",
    "\n",
    "ess1 = ( (x.=john).&(y.=mary) ) .|\n",
    "       ( (x.=bob).&(y.=mary) ) .|\n",
    "       ( (x.=jane).&(y.=john) ) .|\n",
    "       ( (x.=mary).&(y.=john) )\n",
    "\n",
    "ess2 = ( (y.=john).&(x.=mary) ) .|\n",
    "       ( (y.=bob).&(x.=mary) ) .|\n",
    "       ( (y.=jane).&(x.=john) ) .|\n",
    "       ( (y.=mary).&(x.=john) )"
   ]
  },
  {
   "cell_type": "code",
   "execution_count": 32,
   "metadata": {},
   "outputs": [
    {
     "data": {
      "text/plain": [
       "[[(V \"X\",T \"john\" []),(V \"Y\",T \"mary\" [])],[(V \"X\",T \"bob\" []),(V \"Y\",T \"mary\" [])],[(V \"X\",T \"jane\" []),(V \"Y\",T \"john\" [])],[(V \"X\",T \"mary\" []),(V \"Y\",T \"john\" [])]]"
      ]
     },
     "metadata": {},
     "output_type": "display_data"
    },
    {
     "data": {
      "text/plain": [
       "[(V \"X\",T \"john\" []),(V \"Y\",T \"mary\" [])]\n",
       "[(V \"X\",T \"bob\" []),(V \"Y\",T \"mary\" [])]\n",
       "[(V \"X\",T \"jane\" []),(V \"Y\",T \"john\" [])]\n",
       "[(V \"X\",T \"mary\" []),(V \"Y\",T \"john\" [])]"
      ]
     },
     "metadata": {},
     "output_type": "display_data"
    }
   ],
   "source": [
    "ess1\n",
    "mapM_ print ess1"
   ]
  },
  {
   "cell_type": "code",
   "execution_count": 33,
   "metadata": {},
   "outputs": [
    {
     "data": {
      "text/plain": [
       "[[(V \"X\",T \"john\" []),(V \"Y\",T \"mary\" []),(V \"Y\",T \"john\" []),(V \"X\",T \"mary\" [])],[(V \"X\",T \"john\" []),(V \"Y\",T \"mary\" []),(V \"Y\",T \"bob\" []),(V \"X\",T \"mary\" [])],[(V \"X\",T \"john\" []),(V \"Y\",T \"mary\" []),(V \"Y\",T \"jane\" []),(V \"X\",T \"john\" [])],[(V \"X\",T \"john\" []),(V \"Y\",T \"mary\" []),(V \"Y\",T \"mary\" []),(V \"X\",T \"john\" [])],[(V \"X\",T \"bob\" []),(V \"Y\",T \"mary\" []),(V \"Y\",T \"john\" []),(V \"X\",T \"mary\" [])],[(V \"X\",T \"bob\" []),(V \"Y\",T \"mary\" []),(V \"Y\",T \"bob\" []),(V \"X\",T \"mary\" [])],[(V \"X\",T \"bob\" []),(V \"Y\",T \"mary\" []),(V \"Y\",T \"jane\" []),(V \"X\",T \"john\" [])],[(V \"X\",T \"bob\" []),(V \"Y\",T \"mary\" []),(V \"Y\",T \"mary\" []),(V \"X\",T \"john\" [])],[(V \"X\",T \"jane\" []),(V \"Y\",T \"john\" []),(V \"Y\",T \"john\" []),(V \"X\",T \"mary\" [])],[(V \"X\",T \"jane\" []),(V \"Y\",T \"john\" []),(V \"Y\",T \"bob\" []),(V \"X\",T \"mary\" [])],[(V \"X\",T \"jane\" []),(V \"Y\",T \"john\" []),(V \"Y\",T \"jane\" []),(V \"X\",T \"john\" [])],[(V \"X\",T \"jane\" []),(V \"Y\",T \"john\" []),(V \"Y\",T \"mary\" []),(V \"X\",T \"john\" [])],[(V \"X\",T \"mary\" []),(V \"Y\",T \"john\" []),(V \"Y\",T \"john\" []),(V \"X\",T \"mary\" [])],[(V \"X\",T \"mary\" []),(V \"Y\",T \"john\" []),(V \"Y\",T \"bob\" []),(V \"X\",T \"mary\" [])],[(V \"X\",T \"mary\" []),(V \"Y\",T \"john\" []),(V \"Y\",T \"jane\" []),(V \"X\",T \"john\" [])],[(V \"X\",T \"mary\" []),(V \"Y\",T \"john\" []),(V \"Y\",T \"mary\" []),(V \"X\",T \"john\" [])]]"
      ]
     },
     "metadata": {},
     "output_type": "display_data"
    },
    {
     "data": {
      "text/plain": [
       "[(V \"X\",T \"john\" []),(V \"Y\",T \"mary\" []),(V \"Y\",T \"john\" []),(V \"X\",T \"mary\" [])]\n",
       "[(V \"X\",T \"john\" []),(V \"Y\",T \"mary\" []),(V \"Y\",T \"bob\" []),(V \"X\",T \"mary\" [])]\n",
       "[(V \"X\",T \"john\" []),(V \"Y\",T \"mary\" []),(V \"Y\",T \"jane\" []),(V \"X\",T \"john\" [])]\n",
       "[(V \"X\",T \"john\" []),(V \"Y\",T \"mary\" []),(V \"Y\",T \"mary\" []),(V \"X\",T \"john\" [])]\n",
       "[(V \"X\",T \"bob\" []),(V \"Y\",T \"mary\" []),(V \"Y\",T \"john\" []),(V \"X\",T \"mary\" [])]\n",
       "[(V \"X\",T \"bob\" []),(V \"Y\",T \"mary\" []),(V \"Y\",T \"bob\" []),(V \"X\",T \"mary\" [])]\n",
       "[(V \"X\",T \"bob\" []),(V \"Y\",T \"mary\" []),(V \"Y\",T \"jane\" []),(V \"X\",T \"john\" [])]\n",
       "[(V \"X\",T \"bob\" []),(V \"Y\",T \"mary\" []),(V \"Y\",T \"mary\" []),(V \"X\",T \"john\" [])]\n",
       "[(V \"X\",T \"jane\" []),(V \"Y\",T \"john\" []),(V \"Y\",T \"john\" []),(V \"X\",T \"mary\" [])]\n",
       "[(V \"X\",T \"jane\" []),(V \"Y\",T \"john\" []),(V \"Y\",T \"bob\" []),(V \"X\",T \"mary\" [])]\n",
       "[(V \"X\",T \"jane\" []),(V \"Y\",T \"john\" []),(V \"Y\",T \"jane\" []),(V \"X\",T \"john\" [])]\n",
       "[(V \"X\",T \"jane\" []),(V \"Y\",T \"john\" []),(V \"Y\",T \"mary\" []),(V \"X\",T \"john\" [])]\n",
       "[(V \"X\",T \"mary\" []),(V \"Y\",T \"john\" []),(V \"Y\",T \"john\" []),(V \"X\",T \"mary\" [])]\n",
       "[(V \"X\",T \"mary\" []),(V \"Y\",T \"john\" []),(V \"Y\",T \"bob\" []),(V \"X\",T \"mary\" [])]\n",
       "[(V \"X\",T \"mary\" []),(V \"Y\",T \"john\" []),(V \"Y\",T \"jane\" []),(V \"X\",T \"john\" [])]\n",
       "[(V \"X\",T \"mary\" []),(V \"Y\",T \"john\" []),(V \"Y\",T \"mary\" []),(V \"X\",T \"john\" [])]"
      ]
     },
     "metadata": {},
     "output_type": "display_data"
    }
   ],
   "source": [
    "ess1 .& ess2\n",
    "mapM_ print (ess1 .& ess2)"
   ]
  },
  {
   "cell_type": "markdown",
   "metadata": {},
   "source": [
    "필요에 따라서 새로운 논리변수를 만들어낼 수 있어야"
   ]
  },
  {
   "cell_type": "code",
   "execution_count": 36,
   "metadata": {},
   "outputs": [
    {
     "data": {
      "text/plain": [
       "[([(T \"mary\" [],T \"john\" []),(T \"john\" [],T \"mary\" [])],[(\"Y\",T \"mary\" []),(\"X\",T \"john\" [])]),([(T \"mary\" [],T \"bob\" []),(T \"john\" [],T \"mary\" [])],[(\"Y\",T \"mary\" []),(\"X\",T \"john\" [])]),([(T \"mary\" [],T \"jane\" []),(T \"john\" [],T \"john\" [])],[(\"Y\",T \"mary\" []),(\"X\",T \"john\" [])]),([],[(\"Y\",T \"mary\" []),(\"X\",T \"john\" [])]),([(T \"mary\" [],T \"john\" []),(T \"bob\" [],T \"mary\" [])],[(\"Y\",T \"mary\" []),(\"X\",T \"bob\" [])]),([(T \"mary\" [],T \"bob\" []),(T \"bob\" [],T \"mary\" [])],[(\"Y\",T \"mary\" []),(\"X\",T \"bob\" [])]),([(T \"mary\" [],T \"jane\" []),(T \"bob\" [],T \"john\" [])],[(\"Y\",T \"mary\" []),(\"X\",T \"bob\" [])]),([(T \"bob\" [],T \"john\" [])],[(\"Y\",T \"mary\" []),(\"X\",T \"bob\" [])]),([(T \"jane\" [],T \"mary\" [])],[(\"Y\",T \"john\" []),(\"X\",T \"jane\" [])]),([(T \"john\" [],T \"bob\" []),(T \"jane\" [],T \"mary\" [])],[(\"Y\",T \"john\" []),(\"X\",T \"jane\" [])]),([(T \"john\" [],T \"jane\" []),(T \"jane\" [],T \"john\" [])],[(\"Y\",T \"john\" []),(\"X\",T \"jane\" [])]),([(T \"john\" [],T \"mary\" []),(T \"jane\" [],T \"john\" [])],[(\"Y\",T \"john\" []),(\"X\",T \"jane\" [])]),([],[(\"Y\",T \"john\" []),(\"X\",T \"mary\" [])]),([(T \"john\" [],T \"bob\" []),(T \"mary\" [],T \"mary\" [])],[(\"Y\",T \"john\" []),(\"X\",T \"mary\" [])]),([(T \"john\" [],T \"jane\" []),(T \"mary\" [],T \"john\" [])],[(\"Y\",T \"john\" []),(\"X\",T \"mary\" [])]),([(T \"john\" [],T \"mary\" []),(T \"mary\" [],T \"john\" [])],[(\"Y\",T \"john\" []),(\"X\",T \"mary\" [])])]"
      ]
     },
     "metadata": {},
     "output_type": "display_data"
    },
    {
     "data": {
      "text/plain": [
       "([(T \"mary\" [],T \"john\" []),(T \"john\" [],T \"mary\" [])],[(\"Y\",T \"mary\" []),(\"X\",T \"john\" [])])\n",
       "([(T \"mary\" [],T \"bob\" []),(T \"john\" [],T \"mary\" [])],[(\"Y\",T \"mary\" []),(\"X\",T \"john\" [])])\n",
       "([(T \"mary\" [],T \"jane\" []),(T \"john\" [],T \"john\" [])],[(\"Y\",T \"mary\" []),(\"X\",T \"john\" [])])\n",
       "([],[(\"Y\",T \"mary\" []),(\"X\",T \"john\" [])])\n",
       "([(T \"mary\" [],T \"john\" []),(T \"bob\" [],T \"mary\" [])],[(\"Y\",T \"mary\" []),(\"X\",T \"bob\" [])])\n",
       "([(T \"mary\" [],T \"bob\" []),(T \"bob\" [],T \"mary\" [])],[(\"Y\",T \"mary\" []),(\"X\",T \"bob\" [])])\n",
       "([(T \"mary\" [],T \"jane\" []),(T \"bob\" [],T \"john\" [])],[(\"Y\",T \"mary\" []),(\"X\",T \"bob\" [])])\n",
       "([(T \"bob\" [],T \"john\" [])],[(\"Y\",T \"mary\" []),(\"X\",T \"bob\" [])])\n",
       "([(T \"jane\" [],T \"mary\" [])],[(\"Y\",T \"john\" []),(\"X\",T \"jane\" [])])\n",
       "([(T \"john\" [],T \"bob\" []),(T \"jane\" [],T \"mary\" [])],[(\"Y\",T \"john\" []),(\"X\",T \"jane\" [])])\n",
       "([(T \"john\" [],T \"jane\" []),(T \"jane\" [],T \"john\" [])],[(\"Y\",T \"john\" []),(\"X\",T \"jane\" [])])\n",
       "([(T \"john\" [],T \"mary\" []),(T \"jane\" [],T \"john\" [])],[(\"Y\",T \"john\" []),(\"X\",T \"jane\" [])])\n",
       "([],[(\"Y\",T \"john\" []),(\"X\",T \"mary\" [])])\n",
       "([(T \"john\" [],T \"bob\" []),(T \"mary\" [],T \"mary\" [])],[(\"Y\",T \"john\" []),(\"X\",T \"mary\" [])])\n",
       "([(T \"john\" [],T \"jane\" []),(T \"mary\" [],T \"john\" [])],[(\"Y\",T \"john\" []),(\"X\",T \"mary\" [])])\n",
       "([(T \"john\" [],T \"mary\" []),(T \"mary\" [],T \"john\" [])],[(\"Y\",T \"john\" []),(\"X\",T \"mary\" [])])"
      ]
     },
     "metadata": {},
     "output_type": "display_data"
    }
   ],
   "source": [
    "[ unif (es,[]) | es <- ess1 .& ess2 ]\n",
    "mapM_ print [ unif (es,[]) | es <- ess1 .& ess2]"
   ]
  },
  {
   "cell_type": "code",
   "execution_count": 37,
   "metadata": {},
   "outputs": [
    {
     "data": {
      "text/plain": [
       "[(\"Y\",T \"mary\" []),(\"X\",T \"john\" [])]\n",
       "[(\"Y\",T \"john\" []),(\"X\",T \"mary\" [])]"
      ]
     },
     "metadata": {},
     "output_type": "display_data"
    }
   ],
   "source": [
    "result = [ unif (es,[]) | es <- ess1 .& ess2 ]\n",
    "mapM_ print [sigma | ([],sigma)<-result]"
   ]
  },
  {
   "cell_type": "code",
   "execution_count": null,
   "metadata": {},
   "outputs": [],
   "source": []
  }
 ],
 "metadata": {
  "kernelspec": {
   "display_name": "Haskell",
   "language": "haskell",
   "name": "haskell"
  },
  "language_info": {
   "codemirror_mode": "ihaskell",
   "file_extension": ".hs",
   "name": "haskell",
   "pygments_lexer": "Haskell",
   "version": "8.6.5"
  }
 },
 "nbformat": 4,
 "nbformat_minor": 4
}
