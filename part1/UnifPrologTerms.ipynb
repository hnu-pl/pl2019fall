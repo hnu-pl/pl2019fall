{
 "cells": [
  {
   "cell_type": "code",
   "execution_count": 3,
   "metadata": {},
   "outputs": [],
   "source": [
    "-- Prolog term\n",
    "data Term = V String        -- logic variable.       String 대문자로 시작\n",
    "          | T String [Term] -- atom when empty list. String 소문자로 시작\n",
    "      deriving (Eq,Ord,Show)"
   ]
  },
  {
   "cell_type": "code",
   "execution_count": 18,
   "metadata": {},
   "outputs": [],
   "source": [
    "import Data.List\n",
    "-- Prolog term처럼 보이게 좀더 예쁘게 출력할 수 있는 문자열로\n",
    "pp (V x) = x\n",
    "pp (T a []) = a\n",
    "pp (T f ts) = f ++ (paren . concat . intersperse \",\" $ map pp ts )\n",
    "\n",
    "paren s = \"(\"++s++\")\""
   ]
  },
  {
   "cell_type": "code",
   "execution_count": 19,
   "metadata": {},
   "outputs": [
    {
     "data": {
      "text/plain": [
       "V \"X\""
      ]
     },
     "metadata": {},
     "output_type": "display_data"
    },
    {
     "data": {
      "text/plain": [
       "\"X\""
      ]
     },
     "metadata": {},
     "output_type": "display_data"
    }
   ],
   "source": [
    "-- 변수 X\n",
    "V \"X\" \n",
    "pp(V \"X\")"
   ]
  },
  {
   "cell_type": "code",
   "execution_count": 20,
   "metadata": {},
   "outputs": [
    {
     "data": {
      "text/plain": [
       "T \"int\" []"
      ]
     },
     "metadata": {},
     "output_type": "display_data"
    },
    {
     "data": {
      "text/plain": [
       "\"int\""
      ]
     },
     "metadata": {},
     "output_type": "display_data"
    }
   ],
   "source": [
    "-- 아톰 int \n",
    "T \"int\" []\n",
    "pp(T \"int\" [])"
   ]
  },
  {
   "cell_type": "code",
   "execution_count": 21,
   "metadata": {},
   "outputs": [
    {
     "data": {
      "text/plain": [
       "T \"f\" [T \"int\" [],T \"int\" []]"
      ]
     },
     "metadata": {},
     "output_type": "display_data"
    },
    {
     "data": {
      "text/plain": [
       "\"f(int,int)\""
      ]
     },
     "metadata": {},
     "output_type": "display_data"
    }
   ],
   "source": [
    "-- 복합항 f(int,int)\n",
    "T \"f\" [T \"int\" [], T \"int\" []]\n",
    "pp(T \"f\" [T \"int\" [], T \"int\" []])"
   ]
  },
  {
   "cell_type": "markdown",
   "metadata": {},
   "source": [
    "일치화 규칙\n",
    "\n",
    "$\\displaystyle\n",
    "[\\texttt{a}=\\texttt{a},~u_2=u_2',~\\cdots~],\\sigma \\rightsquigarrow\n",
    "[u_2=u_2',~\\cdots~],\\sigma \\\\\n",
    "[\\texttt{f}(t_1,\\ldots,t_n)=\\texttt{f}(t_1',\\ldots,t_n'),~u_2=u_2',~\\cdots~],\\sigma \\rightsquigarrow\n",
    "[t_1=t_1',\\cdots,t_n=t_n',u_2=u_2',~\\cdots~],\\sigma \\\\\n",
    "[X=X,~u_2=u_2',~\\cdots~],\\sigma \\rightsquigarrow\n",
    "[u_2=u_2',~\\cdots~],\\sigma \\\\\n",
    "[X=t,~u_2=u_2',~\\cdots~],\\sigma \\rightsquigarrow\n",
    "\\{X\\mapsto t\\}\\,[u_2=u_2',~\\cdots~],\\{X\\mapsto t\\}\\uplus\\sigma \\qquad (X~\\text{does not occur in}~ t) \\\\\n",
    "[t=X,~u_2=u_2',~\\cdots~],\\sigma \\rightsquigarrow\n",
    "[X=t,u_2=u_2',~\\cdots~],\\sigma\n",
    "$\n",
    "\n",
    "$\\{X\\mapsto t\\}\\,[u_1=s_1,\\cdots,u_n=s_n] = \\big[\\{X\\mapsto t\\}\\,u_1=\\{X\\mapsto t\\}\\,s_1,~\\cdots,~\\{X\\mapsto t\\}\\,u_1=\\{X\\mapsto t\\}\\,s_1\\big]$\n",
    "\n",
    "$\\{X\\mapsto t\\}\\uplus\\{X_1\\mapsto t_1,~\\cdots~,X_n\\mapsto t_n \\} = \\big\\{X\\mapsto t, x_1\\mapsto \\{X\\mapsto t\\}t_1,~\\cdots~,X_n\\mapsto \\{X\\mapsto t\\}t_n \\big\\}\n",
    "$"
   ]
  },
  {
   "cell_type": "code",
   "execution_count": 24,
   "metadata": {},
   "outputs": [],
   "source": [
    "occurs :: String -> Term -> Bool\n",
    "occurs x (V x') = x==x'\n",
    "occurs x (T _ ts) = any (occurs x) ts"
   ]
  },
  {
   "cell_type": "code",
   "execution_count": 30,
   "metadata": {},
   "outputs": [
    {
     "data": {
      "text/plain": [
       "False"
      ]
     },
     "metadata": {},
     "output_type": "display_data"
    },
    {
     "data": {
      "text/plain": [
       "True"
      ]
     },
     "metadata": {},
     "output_type": "display_data"
    }
   ],
   "source": [
    "occurs \"X\" (T \"f\" [T \"int\" [], V \"Y\"])\n",
    "occurs \"X\" (T \"f\" [T \"int\" [], V \"X\"])"
   ]
  },
  {
   "cell_type": "code",
   "execution_count": 25,
   "metadata": {},
   "outputs": [],
   "source": [
    "subst (x,t) u@(V y)  | x == y    = t\n",
    "                     | otherwise = u\n",
    "subst (x,t) (T f us) = T f [subst (x,t) u | u<-us]"
   ]
  },
  {
   "cell_type": "code",
   "execution_count": 28,
   "metadata": {},
   "outputs": [
    {
     "data": {
      "text/plain": [
       "\"f(X,X)\""
      ]
     },
     "metadata": {},
     "output_type": "display_data"
    },
    {
     "data": {
      "text/plain": [
       "\"f(f(int,int),f(int,int))\""
      ]
     },
     "metadata": {},
     "output_type": "display_data"
    }
   ],
   "source": [
    "-- {X |-> f(int,int)} f(X,X) ~~> f(f(int,int),f(int,int))\n",
    "int = T \"int\" []\n",
    "\n",
    "tm1 = T\"f\"[V\"X\",V\"X\"]\n",
    "tm2 = subst (\"X\",T\"f\"[int,int]) (T\"f\"[V\"X\",V\"X\"])\n",
    "\n",
    "pp tm1\n",
    "pp tm2"
   ]
  },
  {
   "cell_type": "markdown",
   "metadata": {},
   "source": [
    "일치화 규칙\n",
    "\n",
    "$\\displaystyle\n",
    "[\\texttt{a}=\\texttt{a},~u_2=u_2',~\\cdots~],\\sigma \\rightsquigarrow\n",
    "[u_2=u_2',~\\cdots~],\\sigma \\\\\n",
    "[\\texttt{f}(t_1,\\ldots,t_n)=\\texttt{f}(t_1',\\ldots,t_n'),~u_2=u_2',~\\cdots~],\\sigma \\rightsquigarrow\n",
    "[t_1=t_1',\\cdots,t_n=t_n',u_2=u_2',~\\cdots~],\\sigma \\\\\n",
    "[X=X,~u_2=u_2',~\\cdots~],\\sigma \\rightsquigarrow\n",
    "[u_2=u_2',~\\cdots~],\\sigma \\\\\n",
    "[X=t,~u_2=u_2',~\\cdots~],\\sigma \\rightsquigarrow\n",
    "\\{X\\mapsto t\\}\\,[u_2=u_2',~\\cdots~],\\{X\\mapsto t\\}\\uplus\\sigma \\qquad (X~\\text{does not occur in}~ t) \\\\\n",
    "[t=X,~u_2=u_2',~\\cdots~],\\sigma \\rightsquigarrow\n",
    "[X=t,u_2=u_2',~\\cdots~],\\sigma\n",
    "$\n",
    "\n",
    "$\\{X\\mapsto t\\}\\,[u_1=s_1,\\cdots,u_n=s_n] = \\big[\\{X\\mapsto t\\}\\,u_1=\\{X\\mapsto t\\}\\,s_1,~\\cdots,~\\{X\\mapsto t\\}\\,u_1=\\{X\\mapsto t\\}\\,s_1\\big]$\n",
    "\n",
    "$\\{X\\mapsto t\\}\\uplus\\{X_1\\mapsto t_1,~\\cdots~,X_n\\mapsto t_n \\} = \\big\\{X\\mapsto t, x_1\\mapsto \\{X\\mapsto t\\}t_1,~\\cdots~,X_n\\mapsto \\{X\\mapsto t\\}t_n \\big\\}\n",
    "$"
   ]
  },
  {
   "cell_type": "code",
   "execution_count": 27,
   "metadata": {},
   "outputs": [],
   "source": [
    "type Eqn = (Term,Term)       -- t1 = t2\n",
    "type Subst = [(String,Term)] -- { X1 |-> t1, ..., Xn |-> tn }\n",
    "\n",
    "-- 일치화 알고리듬을 위 규칙에 따라 작성\n",
    "unif :: ([Eqn],Subst) -> ([Eqn],Subst)\n",
    "unif ((T f ts, T g us): es, s) | f==g  = unif (zip ts us ++ es, s)\n",
    "unif ((V x   , V x'  ): es, s) | x==x' = unif (es, s)\n",
    "unif ((V x   , t     ): es, s) | not(x `occurs` t) = unif (es', (x,t):s')\n",
    "  where es' = [(subst (x,t) t1, subst (x,t) t2) | (t1,t2)<-es]\n",
    "        s' = [(x',subst (x,t) t') | (x',t')<-s]\n",
    "unif ((t     , V x   ): es, s) = unif ((V x,t):es, s)\n",
    "unif (es, s) = (es, s)"
   ]
  },
  {
   "cell_type": "code",
   "execution_count": null,
   "metadata": {},
   "outputs": [],
   "source": []
  }
 ],
 "metadata": {
  "kernelspec": {
   "display_name": "Haskell",
   "language": "haskell",
   "name": "haskell"
  },
  "language_info": {
   "codemirror_mode": "ihaskell",
   "file_extension": ".hs",
   "name": "haskell",
   "pygments_lexer": "Haskell",
   "version": "8.6.5"
  }
 },
 "nbformat": 4,
 "nbformat_minor": 4
}
