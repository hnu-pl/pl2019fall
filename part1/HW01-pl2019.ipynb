{
 "cells": [
  {
   "cell_type": "markdown",
   "metadata": {},
   "source": [
    "# HW01 프로그래밍언어 (2019년 2학기) 과제"
   ]
  },
  {
   "cell_type": "code",
   "execution_count": 1,
   "metadata": {},
   "outputs": [],
   "source": [
    "data Expr = Val Int            -- n\n",
    "          | Add Expr Expr      -- e1 + e2\n",
    "          | If Expr Expr Expr  -- if e then e1 else e0\n",
    "          | Var String         -- x\n",
    "          deriving Show"
   ]
  },
  {
   "cell_type": "markdown",
   "metadata": {},
   "source": [
    "## 1. 덧셈 연산자 개수 세기 (난이도: 하)\n",
    "`Add`가 주어진 식에 몇번이나 나타나는지 개수를 세는 `countAdd :: Expr -> Int` 함수를 작성하라"
   ]
  },
  {
   "cell_type": "code",
   "execution_count": 2,
   "metadata": {},
   "outputs": [],
   "source": [
    "-- countAdd :: Expr -> Int"
   ]
  },
  {
   "cell_type": "markdown",
   "metadata": {},
   "source": [
    "## 2. constant folding (난이도: 중)\n",
    "다음 규칙을 반복적으로 적용하라\n",
    "\n",
    "$e + 0 \\rightsquigarrow e$\n",
    "\n",
    "$0 + e \\rightsquigarrow e$\n",
    "\n",
    "$n_1 + n_2 \\rightsquigarrow n \\qquad (n=n_1+n_2)$\n",
    "\n",
    "$\\texttt{if}~0~\\texttt{then}~e_1~\\texttt{else}~e_0 \\rightsquigarrow e_0$\n",
    "\n",
    "$\\texttt{if}~n~\\texttt{then}~e_1~\\texttt{else}~e_0 \\rightsquigarrow e_1 \\qquad (n\\neq 0)$"
   ]
  },
  {
   "cell_type": "code",
   "execution_count": 3,
   "metadata": {},
   "outputs": [],
   "source": [
    "-- constfold :: Expr -> Expr"
   ]
  },
  {
   "cell_type": "markdown",
   "metadata": {},
   "source": [
    "## 3. constant folding, more (난이도: 상)"
   ]
  },
  {
   "cell_type": "markdown",
   "metadata": {},
   "source": [
    "덧셈의 교환성(commutativity) 및 결합성(associativity)까지 활용하여 constant folding을 하라. 예컨대,\n",
    "\n",
    "$(3 + x) + (-3)$은 교환성에 의해 $(-3) + (3 + x)$과 같고 이는 또 결합성에 의해 $((-3) + 3) + x)$과 같다는 것을 이용하면\n",
    "\n",
    "$(3 + x) + (-3) = (-3) + (3 + x) = ((-3) + 3) + x) \\rightsquigarrow 0 + x \\rightsquigarrow x$"
   ]
  },
  {
   "cell_type": "code",
   "execution_count": 4,
   "metadata": {},
   "outputs": [],
   "source": [
    "-- cf :: Expr -> Expr"
   ]
  }
 ],
 "metadata": {
  "kernelspec": {
   "display_name": "Haskell",
   "language": "haskell",
   "name": "haskell"
  },
  "language_info": {
   "codemirror_mode": "ihaskell",
   "file_extension": ".hs",
   "name": "haskell",
   "pygments_lexer": "Haskell",
   "version": "8.6.5"
  }
 },
 "nbformat": 4,
 "nbformat_minor": 4
}
