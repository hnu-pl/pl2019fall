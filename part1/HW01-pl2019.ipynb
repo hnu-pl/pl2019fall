{
 "cells": [
  {
   "cell_type": "markdown",
   "metadata": {},
   "source": [
    "# HW01 프로그래밍언어 (2019년 2학기) 과제"
   ]
  },
  {
   "cell_type": "code",
   "execution_count": 1,
   "metadata": {},
   "outputs": [],
   "source": [
    "data Expr = Val Int            -- n\n",
    "          | Add Expr Expr      -- e1 + e2\n",
    "          | If Expr Expr Expr  -- if e then e1 else e0\n",
    "          | Var String         -- x\n",
    "          deriving (Eq,Ord,Show)"
   ]
  },
  {
   "cell_type": "markdown",
   "metadata": {},
   "source": [
    "## 1. 덧셈 연산자 개수 세기 (난이도: 하) (점수: 1점)\n",
    "`Add`가 주어진 식에 몇번이나 나타나는지 개수를 세는 `countAdd :: Expr -> Int` 함수를 작성하고\n",
    "함수를 활용하는 테스트를 아래에 미리 주어진 것 이외에 3개 이상 추가로 작성해야 하며 테스트는 다음과 같이 구성하라.\n",
    " * 테스트 중 하나는 결과가 0으로\n",
    " * 테스트 중 하나는 `Add` 안에 또 `Add`를 포함한 식으로\n",
    " * 테스트 중 하나는 `Add` 안에 If를 포함하고 그 안에 또 `Add`가 있는 식으로\n",
    " * 작성한 3개의 이상의 테스트에 사용된 식들에 모든 `Expr`의 모든 구성요소(`Val`,`Add`,`If`,`Var`)가 최소한 1번 이상 나타나야 한다.\n",
    "   그러니까 하나의 테스트에 모든 구성요소를 포함할 필요는 없지만 작성한 여러 테스트들을 모두 살펴봤을 때 모든 구성요소를 커버해야 한다는 뜻이다.\n",
    "\n",
    "함수를 제대로 작성했더라도 위에 설명된 조건대로 테스트를 작성하지 않으면 0점이다."
   ]
  },
  {
   "cell_type": "code",
   "execution_count": 3,
   "metadata": {},
   "outputs": [],
   "source": [
    "-- countAdd :: Expr -> Int"
   ]
  },
  {
   "cell_type": "code",
   "execution_count": 4,
   "metadata": {},
   "outputs": [],
   "source": [
    "{- 예컨대, 아래 테스트 실행 결과는 1이 되어야\n",
    "countAdd (Add (Val 3) (Val 4))\n",
    "-}"
   ]
  },
  {
   "cell_type": "markdown",
   "metadata": {},
   "source": [
    "## 2. constant folding (난이도: 중) (점수: 2점)\n",
    "주어진 식에 아래 규칙이 적용 가능한 모든 부분에\n",
    "더 이상 적용할 부분이 없을 때까지 반복적으로 적용하여\n",
    "알려진 상수값들로 식을 간단히 만드는 `constfold :: Expr -> Expr`을 작성하라.\n",
    "참고로 이렇게 주어진 프로그램에서 실행전에 미리 알 수 있는 상수로만 가능한 계산을\n",
    "미리 수행하여 프로그램을 단순화하는 것을 constant folding이라고 한며\n",
    "컴파일러나 인터프리터 등 프로그래밍 언어 구현에서 보편적으로 이루어지는 가장 기본적인 최적화 방법이다.\n",
    "\n",
    "$e + 0 \\rightsquigarrow e$\n",
    "\n",
    "$0 + e \\rightsquigarrow e$\n",
    "\n",
    "$n_1 + n_2 \\rightsquigarrow n \\qquad (n=n_1+n_2)$\n",
    "\n",
    "$\\texttt{if}~0~\\texttt{then}~e_1~\\texttt{else}~e_0 \\rightsquigarrow e_0$\n",
    "\n",
    "$\\texttt{if}~n~\\texttt{then}~e_1~\\texttt{else}~e_0 \\rightsquigarrow e_1 \\qquad (n\\neq 0)$"
   ]
  },
  {
   "cell_type": "code",
   "execution_count": 3,
   "metadata": {},
   "outputs": [],
   "source": [
    "-- constfold :: Expr -> Expr"
   ]
  },
  {
   "cell_type": "markdown",
   "metadata": {},
   "source": [
    "## 3. constant folding, more (난이도: 상) (점수: 4점)"
   ]
  },
  {
   "cell_type": "markdown",
   "metadata": {},
   "source": [
    "덧셈의 교환성(commutativity) 및 결합성(associativity)까지 활용하여 constant folding을 하라. 예컨대,\n",
    "\n",
    "$(3 + x) + (-3)$은 교환성에 의해 $(-3) + (3 + x)$과 같고 이는 또 결합성에 의해 $((-3) + 3) + x)$과 같다는 것을 이용하면\n",
    "\n",
    "$(3 + x) + (-3) = (-3) + (3 + x) = ((-3) + 3) + x) \\rightsquigarrow 0 + x \\rightsquigarrow x$"
   ]
  },
  {
   "cell_type": "code",
   "execution_count": 4,
   "metadata": {},
   "outputs": [],
   "source": [
    "-- constfoldCA :: Expr -> Expr"
   ]
  }
 ],
 "metadata": {
  "kernelspec": {
   "display_name": "Haskell",
   "language": "haskell",
   "name": "haskell"
  },
  "language_info": {
   "codemirror_mode": "ihaskell",
   "file_extension": ".hs",
   "name": "haskell",
   "pygments_lexer": "Haskell",
   "version": "8.6.5"
  }
 },
 "nbformat": 4,
 "nbformat_minor": 4
}
