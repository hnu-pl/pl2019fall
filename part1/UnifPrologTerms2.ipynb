{
 "cells": [
  {
   "cell_type": "code",
   "execution_count": 1,
   "metadata": {},
   "outputs": [],
   "source": [
    ":opt no-lint"
   ]
  },
  {
   "cell_type": "code",
   "execution_count": 2,
   "metadata": {},
   "outputs": [],
   "source": [
    "-- Prolog term\n",
    "data Term = V String        -- logic variable.       String 대문자로 시작\n",
    "          | T String [Term] -- atom when empty list. String 소문자로 시작\n",
    "      deriving (Eq,Ord,Show)"
   ]
  },
  {
   "cell_type": "code",
   "execution_count": 3,
   "metadata": {},
   "outputs": [],
   "source": [
    "import Data.List\n",
    "-- Prolog term처럼 보이게 좀더 예쁘게 출력할 수 있는 문자열로\n",
    "pp (V x) = x\n",
    "pp (T a []) = a\n",
    "pp (T f ts) = f ++ (paren . concat . intersperse \",\" $ map pp ts )\n",
    "\n",
    "paren s = \"(\"++s++\")\""
   ]
  },
  {
   "cell_type": "code",
   "execution_count": 4,
   "metadata": {},
   "outputs": [
    {
     "data": {
      "text/plain": [
       "V \"X\""
      ]
     },
     "metadata": {},
     "output_type": "display_data"
    },
    {
     "data": {
      "text/plain": [
       "\"X\""
      ]
     },
     "metadata": {},
     "output_type": "display_data"
    }
   ],
   "source": [
    "-- 변수 X\n",
    "V \"X\" \n",
    "pp(V \"X\")"
   ]
  },
  {
   "cell_type": "code",
   "execution_count": 5,
   "metadata": {},
   "outputs": [
    {
     "data": {
      "text/plain": [
       "T \"int\" []"
      ]
     },
     "metadata": {},
     "output_type": "display_data"
    },
    {
     "data": {
      "text/plain": [
       "\"int\""
      ]
     },
     "metadata": {},
     "output_type": "display_data"
    }
   ],
   "source": [
    "-- 아톰 int \n",
    "T \"int\" []\n",
    "pp(T \"int\" [])"
   ]
  },
  {
   "cell_type": "code",
   "execution_count": 6,
   "metadata": {},
   "outputs": [
    {
     "data": {
      "text/plain": [
       "T \"f\" [T \"int\" [],T \"int\" []]"
      ]
     },
     "metadata": {},
     "output_type": "display_data"
    },
    {
     "data": {
      "text/plain": [
       "\"f(int,int)\""
      ]
     },
     "metadata": {},
     "output_type": "display_data"
    }
   ],
   "source": [
    "-- 복합항 f(int,int)\n",
    "T \"f\" [T \"int\" [], T \"int\" []]\n",
    "pp(T \"f\" [T \"int\" [], T \"int\" []])"
   ]
  },
  {
   "cell_type": "markdown",
   "metadata": {},
   "source": [
    "일치화 규칙\n",
    "\n",
    "$\\displaystyle\n",
    "[a=a,~u_2=u_2',~\\cdots~],\\sigma \\rightsquigarrow\n",
    "[u_2=u_2',~\\cdots~],\\sigma \\\\\n",
    "[f(t_1,\\ldots,t_n)=f(t_1',\\ldots,t_n'),~u_2=u_2',~\\cdots~],\\sigma \\rightsquigarrow\n",
    "[t_1=t_1',\\cdots,t_n=t_n',u_2=u_2',~\\cdots~],\\sigma \\\\\n",
    "[X=X,~u_2=u_2',~\\cdots~],\\sigma \\rightsquigarrow\n",
    "[u_2=u_2',~\\cdots~],\\sigma \\\\\n",
    "[X=t,~u_2=u_2',~\\cdots~],\\sigma \\rightsquigarrow\n",
    "\\{X\\mapsto t\\}\\,[u_2=u_2',~\\cdots~],\\{X\\mapsto t\\}\\uplus\\sigma \\qquad (X~\\text{does not occur in}~ t) \\\\\n",
    "[t=X,~u_2=u_2',~\\cdots~],\\sigma \\rightsquigarrow\n",
    "[X=t,u_2=u_2',~\\cdots~],\\sigma\n",
    "$\n",
    "\n",
    "$\\{X\\mapsto t\\}\\,[u_1=s_1,\\cdots,u_n=s_n] = \\big[\\{X\\mapsto t\\}\\,u_1=\\{X\\mapsto t\\}\\,s_1,~\\cdots,~\\{X\\mapsto t\\}\\,u_1=\\{X\\mapsto t\\}\\,s_1\\big]$\n",
    "\n",
    "$\\{X\\mapsto t\\}\\uplus\\{X_1\\mapsto t_1,~\\cdots~,X_n\\mapsto t_n \\} = \\big\\{X\\mapsto t, x_1\\mapsto \\{X\\mapsto t\\}t_1,~\\cdots~,X_n\\mapsto \\{X\\mapsto t\\}t_n \\big\\}\n",
    "$"
   ]
  },
  {
   "cell_type": "code",
   "execution_count": 7,
   "metadata": {},
   "outputs": [],
   "source": [
    "occurs :: String -> Term -> Bool\n",
    "occurs x (V x') = x==x'\n",
    "occurs x (T _ ts) = any (occurs x) ts\n",
    "-- occurs x (T _ ts) = or [occurs x t | t<-ts]"
   ]
  },
  {
   "cell_type": "code",
   "execution_count": 8,
   "metadata": {},
   "outputs": [
    {
     "data": {
      "text/plain": [
       "False"
      ]
     },
     "metadata": {},
     "output_type": "display_data"
    },
    {
     "data": {
      "text/plain": [
       "True"
      ]
     },
     "metadata": {},
     "output_type": "display_data"
    }
   ],
   "source": [
    "occurs \"X\" (T \"f\" [T \"int\" [], V \"Y\"])\n",
    "occurs \"X\" (T \"f\" [T \"int\" [], V \"X\"])"
   ]
  },
  {
   "cell_type": "code",
   "execution_count": 9,
   "metadata": {},
   "outputs": [],
   "source": [
    "subst :: (String,Term) -> Term -> Term\n",
    "subst (x,t) u@(V y)  | x == y    = t\n",
    "                     | otherwise = u\n",
    "subst (x,t) (T f us) = T f [subst (x,t) u | u<-us]"
   ]
  },
  {
   "cell_type": "code",
   "execution_count": 10,
   "metadata": {},
   "outputs": [
    {
     "data": {
      "text/plain": [
       "\"f(X,X)\""
      ]
     },
     "metadata": {},
     "output_type": "display_data"
    },
    {
     "data": {
      "text/plain": [
       "\"f(f(int,int),f(int,int))\""
      ]
     },
     "metadata": {},
     "output_type": "display_data"
    }
   ],
   "source": [
    "-- {X |-> f(int,int)} f(X,X) ~~> f(f(int,int),f(int,int))\n",
    "int = T \"int\" []\n",
    "\n",
    "tm1 = T\"f\"[V\"X\",V\"X\"]\n",
    "tm2 = subst (\"X\",T\"f\"[int,int]) (T\"f\"[V\"X\",V\"X\"])\n",
    "\n",
    "pp tm1\n",
    "pp tm2"
   ]
  },
  {
   "cell_type": "markdown",
   "metadata": {},
   "source": [
    "일치화 규칙\n",
    "\n",
    "$\\displaystyle\n",
    "[a=a,~u_2=u_2',~\\cdots~],\\sigma \\rightsquigarrow\n",
    "[u_2=u_2',~\\cdots~],\\sigma \\\\\n",
    "[f(t_1,\\ldots,t_n)=f(t_1',\\ldots,t_n'),~u_2=u_2',~\\cdots~],\\sigma \\rightsquigarrow\n",
    "[t_1=t_1',\\cdots,t_n=t_n',u_2=u_2',~\\cdots~],\\sigma \\\\\n",
    "[X=X,~u_2=u_2',~\\cdots~],\\sigma \\rightsquigarrow\n",
    "[u_2=u_2',~\\cdots~],\\sigma \\\\\n",
    "[X=t,~u_2=u_2',~\\cdots~],\\sigma \\rightsquigarrow\n",
    "\\{X\\mapsto t\\}\\,[u_2=u_2',~\\cdots~],\\{X\\mapsto t\\}\\uplus\\sigma \\qquad (X~\\text{does not occur in}~ t) \\\\\n",
    "[t=X,~u_2=u_2',~\\cdots~],\\sigma \\rightsquigarrow\n",
    "[X=t,u_2=u_2',~\\cdots~],\\sigma\n",
    "$\n",
    "\n",
    "$\\{X\\mapsto t\\}\\,[u_1=s_1,\\cdots,u_n=s_n] = \\big[\\{X\\mapsto t\\}\\,u_1=\\{X\\mapsto t\\}\\,s_1,~\\cdots,~\\{X\\mapsto t\\}\\,u_1=\\{X\\mapsto t\\}\\,s_1\\big]$\n",
    "\n",
    "$\\{X\\mapsto t\\}\\uplus\\{X_1\\mapsto t_1,~\\cdots~,X_n\\mapsto t_n \\} = \\big\\{X\\mapsto t, x_1\\mapsto \\{X\\mapsto t\\}t_1,~\\cdots~,X_n\\mapsto \\{X\\mapsto t\\}t_n \\big\\}\n",
    "$"
   ]
  },
  {
   "cell_type": "code",
   "execution_count": 11,
   "metadata": {},
   "outputs": [
    {
     "data": {
      "text/plain": [
       "[(1,11),(2,12),(3,13),(4,14)]"
      ]
     },
     "metadata": {},
     "output_type": "display_data"
    }
   ],
   "source": [
    "zip [1,2,3,4] [11,12,13,14]"
   ]
  },
  {
   "cell_type": "code",
   "execution_count": 12,
   "metadata": {},
   "outputs": [],
   "source": [
    "type Eqn = (Term,Term)       -- t1 = t2\n",
    "type Subst = [(String,Term)] -- { X1 |-> t1, ..., Xn |-> tn }\n",
    "\n",
    "-- 일치화 알고리듬을 위 규칙에 따라 작성\n",
    "unif :: ([Eqn],Subst) -> ([Eqn],Subst)\n",
    "unif ((T f ts, T g us): es, s)\n",
    "       | f==g && length ts==length us  = unif (zip ts us ++ es, s)\n",
    "unif ((V x   , V x'  ): es, s) | x==x' = unif (es, s)\n",
    "unif ((V x   , t     ): es, s) | not(x `occurs` t) = unif (es', (x,t):s')\n",
    "  where es' = [(subst (x,t) t1, subst (x,t) t2) | (t1,t2)<-es]\n",
    "        s' = [(x',subst (x,t) t') | (x',t')<-s]\n",
    "unif ((t     , V x   ): es, s) = unif ((V x,t):es, s)\n",
    "unif (es, s) = (es, s)"
   ]
  },
  {
   "cell_type": "code",
   "execution_count": 13,
   "metadata": {},
   "outputs": [
    {
     "data": {
      "text/plain": [
       "([],[(\"Y\",T \"c\" [T \"3\" [],T \"2\" []]),(\"X\",T \"2\" [])])"
      ]
     },
     "metadata": {},
     "output_type": "display_data"
    }
   ],
   "source": [
    "t1 = T\"c\"[ V\"X\", T\"c\"[T\"3\"[],V\"X\"] ] -- c(X,c(3,X))\n",
    "t2 = T\"c\"[ T\"2\"[], V\"Y\" ]            -- c(2,Y)\n",
    "\n",
    "unif ([(t1,t2)], [])"
   ]
  },
  {
   "cell_type": "code",
   "execution_count": 14,
   "metadata": {},
   "outputs": [
    {
     "data": {
      "text/plain": [
       "([(T \"3\" [],T \"2\" []),(T \"2\" [],V \"Y\")],[(\"X\",T \"2\" [])])"
      ]
     },
     "metadata": {},
     "output_type": "display_data"
    }
   ],
   "source": [
    "t1 = T\"c\"[ V\"X\", T\"c\"[T\"3\"[],V\"X\"] ] -- c(X,c(3,X))\n",
    "t2 = T\"c\"[ T\"2\"[], T\"c\"[V\"X\",V\"Y\"] ] -- c(2,c(X,X))\n",
    "\n",
    "unif ([(t1,t2)], [])"
   ]
  },
  {
   "cell_type": "markdown",
   "metadata": {},
   "source": [
    "## 규칙 실행\n",
    "규칙 실행은 여러 세트의 연립방정식을 만들어냄\n",
    "\n",
    "규칙 실행의 결과 타입은 `[ [Eqn] ]`"
   ]
  },
  {
   "cell_type": "code",
   "execution_count": 15,
   "metadata": {},
   "outputs": [],
   "source": [
    "-- Prolog에서 =\n",
    "(.=) :: Term -> Term -> [ [Eqn] ]\n",
    "t1 .= t2  =  [ [(t1,t2)] ]\n",
    "\n",
    "-- Prolog에서 ,\n",
    "(.&) :: [ [Eqn] ] -> [ [Eqn] ] -> [ [Eqn] ]\n",
    "ess1 .& ess2  = [es1++es2  | es1<-ess1, es2<-ess2]\n",
    "\n",
    "-- Prolog에서 ;\n",
    "(.|) :: [ [Eqn] ] -> [ [Eqn] ] -> [ [Eqn] ]\n",
    "ess1 .| ess2  = ess1 ++ ess2"
   ]
  },
  {
   "cell_type": "markdown",
   "metadata": {},
   "source": [
    "### 필요에 따라서 새로운 논리변수를 만들어낼 수 있어야\n",
    "\n",
    "Prolog 규칙을 하스켈로 옮겨 실행하기 위해 지난 번 UnifPrologTerm 노트북에서 작성한 함수의 타입은 다음과 같았다.\n",
    "```haskell\n",
    "likes  :: (Term, Term) -> [[Eqn]]\n",
    "couple :: (Term, Term) -> [[Eqn]]\n",
    "```\n",
    "\n",
    "새로운 논리변수를 만드는 한가지 방법은 숫자를 매겨 \"_0\", \"_1\", \"_2\" 이런 식으로 겹치지 않게 변수를 나가는 것이다.\n",
    "\n",
    "새로운 변수를 공급해줄 수 있는 상자에 해당하는 타입생성자를 `m`이라고 하면 대략 다음과 같은 타입이 되리라 예상해 볼 수 있다.\n",
    "\n",
    "```haskell\n",
    "father  :: Monad m => (Term, Term) -> m [ [Eqn] ]\n",
    "grandpa :: Monad m => (Term, Term) -> m [ [Eqn] ]\n",
    "```"
   ]
  },
  {
   "cell_type": "code",
   "execution_count": 16,
   "metadata": {},
   "outputs": [],
   "source": [
    "t1 .=. t2 = return $ t1.=t2\n",
    "m1 .&. m2 = (.&) <$> m1 <*> m2\n",
    "m1 .|. m2 = (.|) <$> m1 <*> m2"
   ]
  },
  {
   "cell_type": "code",
   "execution_count": 17,
   "metadata": {},
   "outputs": [
    {
     "data": {
      "text/html": [
       "<style>/* Styles used for the Hoogle display in the pager */\n",
       ".hoogle-doc {\n",
       "display: block;\n",
       "padding-bottom: 1.3em;\n",
       "padding-left: 0.4em;\n",
       "}\n",
       ".hoogle-code {\n",
       "display: block;\n",
       "font-family: monospace;\n",
       "white-space: pre;\n",
       "}\n",
       ".hoogle-text {\n",
       "display: block;\n",
       "}\n",
       ".hoogle-name {\n",
       "color: green;\n",
       "font-weight: bold;\n",
       "}\n",
       ".hoogle-head {\n",
       "font-weight: bold;\n",
       "}\n",
       ".hoogle-sub {\n",
       "display: block;\n",
       "margin-left: 0.4em;\n",
       "}\n",
       ".hoogle-package {\n",
       "font-weight: bold;\n",
       "font-style: italic;\n",
       "}\n",
       ".hoogle-module {\n",
       "font-weight: bold;\n",
       "}\n",
       ".hoogle-class {\n",
       "font-weight: bold;\n",
       "}\n",
       ".get-type {\n",
       "color: green;\n",
       "font-weight: bold;\n",
       "font-family: monospace;\n",
       "display: block;\n",
       "white-space: pre-wrap;\n",
       "}\n",
       ".show-type {\n",
       "color: green;\n",
       "font-weight: bold;\n",
       "font-family: monospace;\n",
       "margin-left: 1em;\n",
       "}\n",
       ".mono {\n",
       "font-family: monospace;\n",
       "display: block;\n",
       "}\n",
       ".err-msg {\n",
       "color: red;\n",
       "font-style: italic;\n",
       "font-family: monospace;\n",
       "white-space: pre;\n",
       "display: block;\n",
       "}\n",
       "#unshowable {\n",
       "color: red;\n",
       "font-weight: bold;\n",
       "}\n",
       ".err-msg.in.collapse {\n",
       "padding-top: 0.7em;\n",
       "}\n",
       ".highlight-code {\n",
       "white-space: pre;\n",
       "font-family: monospace;\n",
       "}\n",
       ".suggestion-warning { \n",
       "font-weight: bold;\n",
       "color: rgb(200, 130, 0);\n",
       "}\n",
       ".suggestion-error { \n",
       "font-weight: bold;\n",
       "color: red;\n",
       "}\n",
       ".suggestion-name {\n",
       "font-weight: bold;\n",
       "}\n",
       "</style><span class='get-type'>(.=) :: Term -> Term -> [[Eqn]]</span>"
      ],
      "text/plain": [
       "(.=) :: Term -> Term -> [[Eqn]]"
      ]
     },
     "metadata": {},
     "output_type": "display_data"
    },
    {
     "data": {
      "text/html": [
       "<style>/* Styles used for the Hoogle display in the pager */\n",
       ".hoogle-doc {\n",
       "display: block;\n",
       "padding-bottom: 1.3em;\n",
       "padding-left: 0.4em;\n",
       "}\n",
       ".hoogle-code {\n",
       "display: block;\n",
       "font-family: monospace;\n",
       "white-space: pre;\n",
       "}\n",
       ".hoogle-text {\n",
       "display: block;\n",
       "}\n",
       ".hoogle-name {\n",
       "color: green;\n",
       "font-weight: bold;\n",
       "}\n",
       ".hoogle-head {\n",
       "font-weight: bold;\n",
       "}\n",
       ".hoogle-sub {\n",
       "display: block;\n",
       "margin-left: 0.4em;\n",
       "}\n",
       ".hoogle-package {\n",
       "font-weight: bold;\n",
       "font-style: italic;\n",
       "}\n",
       ".hoogle-module {\n",
       "font-weight: bold;\n",
       "}\n",
       ".hoogle-class {\n",
       "font-weight: bold;\n",
       "}\n",
       ".get-type {\n",
       "color: green;\n",
       "font-weight: bold;\n",
       "font-family: monospace;\n",
       "display: block;\n",
       "white-space: pre-wrap;\n",
       "}\n",
       ".show-type {\n",
       "color: green;\n",
       "font-weight: bold;\n",
       "font-family: monospace;\n",
       "margin-left: 1em;\n",
       "}\n",
       ".mono {\n",
       "font-family: monospace;\n",
       "display: block;\n",
       "}\n",
       ".err-msg {\n",
       "color: red;\n",
       "font-style: italic;\n",
       "font-family: monospace;\n",
       "white-space: pre;\n",
       "display: block;\n",
       "}\n",
       "#unshowable {\n",
       "color: red;\n",
       "font-weight: bold;\n",
       "}\n",
       ".err-msg.in.collapse {\n",
       "padding-top: 0.7em;\n",
       "}\n",
       ".highlight-code {\n",
       "white-space: pre;\n",
       "font-family: monospace;\n",
       "}\n",
       ".suggestion-warning { \n",
       "font-weight: bold;\n",
       "color: rgb(200, 130, 0);\n",
       "}\n",
       ".suggestion-error { \n",
       "font-weight: bold;\n",
       "color: red;\n",
       "}\n",
       ".suggestion-name {\n",
       "font-weight: bold;\n",
       "}\n",
       "</style><span class='get-type'>(.&) :: [[Eqn]] -> [[Eqn]] -> [[Eqn]]</span>"
      ],
      "text/plain": [
       "(.&) :: [[Eqn]] -> [[Eqn]] -> [[Eqn]]"
      ]
     },
     "metadata": {},
     "output_type": "display_data"
    },
    {
     "data": {
      "text/html": [
       "<style>/* Styles used for the Hoogle display in the pager */\n",
       ".hoogle-doc {\n",
       "display: block;\n",
       "padding-bottom: 1.3em;\n",
       "padding-left: 0.4em;\n",
       "}\n",
       ".hoogle-code {\n",
       "display: block;\n",
       "font-family: monospace;\n",
       "white-space: pre;\n",
       "}\n",
       ".hoogle-text {\n",
       "display: block;\n",
       "}\n",
       ".hoogle-name {\n",
       "color: green;\n",
       "font-weight: bold;\n",
       "}\n",
       ".hoogle-head {\n",
       "font-weight: bold;\n",
       "}\n",
       ".hoogle-sub {\n",
       "display: block;\n",
       "margin-left: 0.4em;\n",
       "}\n",
       ".hoogle-package {\n",
       "font-weight: bold;\n",
       "font-style: italic;\n",
       "}\n",
       ".hoogle-module {\n",
       "font-weight: bold;\n",
       "}\n",
       ".hoogle-class {\n",
       "font-weight: bold;\n",
       "}\n",
       ".get-type {\n",
       "color: green;\n",
       "font-weight: bold;\n",
       "font-family: monospace;\n",
       "display: block;\n",
       "white-space: pre-wrap;\n",
       "}\n",
       ".show-type {\n",
       "color: green;\n",
       "font-weight: bold;\n",
       "font-family: monospace;\n",
       "margin-left: 1em;\n",
       "}\n",
       ".mono {\n",
       "font-family: monospace;\n",
       "display: block;\n",
       "}\n",
       ".err-msg {\n",
       "color: red;\n",
       "font-style: italic;\n",
       "font-family: monospace;\n",
       "white-space: pre;\n",
       "display: block;\n",
       "}\n",
       "#unshowable {\n",
       "color: red;\n",
       "font-weight: bold;\n",
       "}\n",
       ".err-msg.in.collapse {\n",
       "padding-top: 0.7em;\n",
       "}\n",
       ".highlight-code {\n",
       "white-space: pre;\n",
       "font-family: monospace;\n",
       "}\n",
       ".suggestion-warning { \n",
       "font-weight: bold;\n",
       "color: rgb(200, 130, 0);\n",
       "}\n",
       ".suggestion-error { \n",
       "font-weight: bold;\n",
       "color: red;\n",
       "}\n",
       ".suggestion-name {\n",
       "font-weight: bold;\n",
       "}\n",
       "</style><span class='get-type'>(.|) :: [[Eqn]] -> [[Eqn]] -> [[Eqn]]</span>"
      ],
      "text/plain": [
       "(.|) :: [[Eqn]] -> [[Eqn]] -> [[Eqn]]"
      ]
     },
     "metadata": {},
     "output_type": "display_data"
    }
   ],
   "source": [
    ":type (.=)\n",
    ":type (.&)\n",
    ":type (.|)"
   ]
  },
  {
   "cell_type": "code",
   "execution_count": 18,
   "metadata": {},
   "outputs": [
    {
     "data": {
      "text/html": [
       "<style>/* Styles used for the Hoogle display in the pager */\n",
       ".hoogle-doc {\n",
       "display: block;\n",
       "padding-bottom: 1.3em;\n",
       "padding-left: 0.4em;\n",
       "}\n",
       ".hoogle-code {\n",
       "display: block;\n",
       "font-family: monospace;\n",
       "white-space: pre;\n",
       "}\n",
       ".hoogle-text {\n",
       "display: block;\n",
       "}\n",
       ".hoogle-name {\n",
       "color: green;\n",
       "font-weight: bold;\n",
       "}\n",
       ".hoogle-head {\n",
       "font-weight: bold;\n",
       "}\n",
       ".hoogle-sub {\n",
       "display: block;\n",
       "margin-left: 0.4em;\n",
       "}\n",
       ".hoogle-package {\n",
       "font-weight: bold;\n",
       "font-style: italic;\n",
       "}\n",
       ".hoogle-module {\n",
       "font-weight: bold;\n",
       "}\n",
       ".hoogle-class {\n",
       "font-weight: bold;\n",
       "}\n",
       ".get-type {\n",
       "color: green;\n",
       "font-weight: bold;\n",
       "font-family: monospace;\n",
       "display: block;\n",
       "white-space: pre-wrap;\n",
       "}\n",
       ".show-type {\n",
       "color: green;\n",
       "font-weight: bold;\n",
       "font-family: monospace;\n",
       "margin-left: 1em;\n",
       "}\n",
       ".mono {\n",
       "font-family: monospace;\n",
       "display: block;\n",
       "}\n",
       ".err-msg {\n",
       "color: red;\n",
       "font-style: italic;\n",
       "font-family: monospace;\n",
       "white-space: pre;\n",
       "display: block;\n",
       "}\n",
       "#unshowable {\n",
       "color: red;\n",
       "font-weight: bold;\n",
       "}\n",
       ".err-msg.in.collapse {\n",
       "padding-top: 0.7em;\n",
       "}\n",
       ".highlight-code {\n",
       "white-space: pre;\n",
       "font-family: monospace;\n",
       "}\n",
       ".suggestion-warning { \n",
       "font-weight: bold;\n",
       "color: rgb(200, 130, 0);\n",
       "}\n",
       ".suggestion-error { \n",
       "font-weight: bold;\n",
       "color: red;\n",
       "}\n",
       ".suggestion-name {\n",
       "font-weight: bold;\n",
       "}\n",
       "</style><span class='get-type'>(.=.) :: forall (m :: * -> *). Monad m => Term -> Term -> m [[Eqn]]</span>"
      ],
      "text/plain": [
       "(.=.) :: forall (m :: * -> *). Monad m => Term -> Term -> m [[Eqn]]"
      ]
     },
     "metadata": {},
     "output_type": "display_data"
    },
    {
     "data": {
      "text/html": [
       "<style>/* Styles used for the Hoogle display in the pager */\n",
       ".hoogle-doc {\n",
       "display: block;\n",
       "padding-bottom: 1.3em;\n",
       "padding-left: 0.4em;\n",
       "}\n",
       ".hoogle-code {\n",
       "display: block;\n",
       "font-family: monospace;\n",
       "white-space: pre;\n",
       "}\n",
       ".hoogle-text {\n",
       "display: block;\n",
       "}\n",
       ".hoogle-name {\n",
       "color: green;\n",
       "font-weight: bold;\n",
       "}\n",
       ".hoogle-head {\n",
       "font-weight: bold;\n",
       "}\n",
       ".hoogle-sub {\n",
       "display: block;\n",
       "margin-left: 0.4em;\n",
       "}\n",
       ".hoogle-package {\n",
       "font-weight: bold;\n",
       "font-style: italic;\n",
       "}\n",
       ".hoogle-module {\n",
       "font-weight: bold;\n",
       "}\n",
       ".hoogle-class {\n",
       "font-weight: bold;\n",
       "}\n",
       ".get-type {\n",
       "color: green;\n",
       "font-weight: bold;\n",
       "font-family: monospace;\n",
       "display: block;\n",
       "white-space: pre-wrap;\n",
       "}\n",
       ".show-type {\n",
       "color: green;\n",
       "font-weight: bold;\n",
       "font-family: monospace;\n",
       "margin-left: 1em;\n",
       "}\n",
       ".mono {\n",
       "font-family: monospace;\n",
       "display: block;\n",
       "}\n",
       ".err-msg {\n",
       "color: red;\n",
       "font-style: italic;\n",
       "font-family: monospace;\n",
       "white-space: pre;\n",
       "display: block;\n",
       "}\n",
       "#unshowable {\n",
       "color: red;\n",
       "font-weight: bold;\n",
       "}\n",
       ".err-msg.in.collapse {\n",
       "padding-top: 0.7em;\n",
       "}\n",
       ".highlight-code {\n",
       "white-space: pre;\n",
       "font-family: monospace;\n",
       "}\n",
       ".suggestion-warning { \n",
       "font-weight: bold;\n",
       "color: rgb(200, 130, 0);\n",
       "}\n",
       ".suggestion-error { \n",
       "font-weight: bold;\n",
       "color: red;\n",
       "}\n",
       ".suggestion-name {\n",
       "font-weight: bold;\n",
       "}\n",
       "</style><span class='get-type'>(.&.) :: forall (f :: * -> *). Applicative f => f [[Eqn]] -> f [[Eqn]] -> f [[Eqn]]</span>"
      ],
      "text/plain": [
       "(.&.) :: forall (f :: * -> *). Applicative f => f [[Eqn]] -> f [[Eqn]] -> f [[Eqn]]"
      ]
     },
     "metadata": {},
     "output_type": "display_data"
    },
    {
     "data": {
      "text/html": [
       "<style>/* Styles used for the Hoogle display in the pager */\n",
       ".hoogle-doc {\n",
       "display: block;\n",
       "padding-bottom: 1.3em;\n",
       "padding-left: 0.4em;\n",
       "}\n",
       ".hoogle-code {\n",
       "display: block;\n",
       "font-family: monospace;\n",
       "white-space: pre;\n",
       "}\n",
       ".hoogle-text {\n",
       "display: block;\n",
       "}\n",
       ".hoogle-name {\n",
       "color: green;\n",
       "font-weight: bold;\n",
       "}\n",
       ".hoogle-head {\n",
       "font-weight: bold;\n",
       "}\n",
       ".hoogle-sub {\n",
       "display: block;\n",
       "margin-left: 0.4em;\n",
       "}\n",
       ".hoogle-package {\n",
       "font-weight: bold;\n",
       "font-style: italic;\n",
       "}\n",
       ".hoogle-module {\n",
       "font-weight: bold;\n",
       "}\n",
       ".hoogle-class {\n",
       "font-weight: bold;\n",
       "}\n",
       ".get-type {\n",
       "color: green;\n",
       "font-weight: bold;\n",
       "font-family: monospace;\n",
       "display: block;\n",
       "white-space: pre-wrap;\n",
       "}\n",
       ".show-type {\n",
       "color: green;\n",
       "font-weight: bold;\n",
       "font-family: monospace;\n",
       "margin-left: 1em;\n",
       "}\n",
       ".mono {\n",
       "font-family: monospace;\n",
       "display: block;\n",
       "}\n",
       ".err-msg {\n",
       "color: red;\n",
       "font-style: italic;\n",
       "font-family: monospace;\n",
       "white-space: pre;\n",
       "display: block;\n",
       "}\n",
       "#unshowable {\n",
       "color: red;\n",
       "font-weight: bold;\n",
       "}\n",
       ".err-msg.in.collapse {\n",
       "padding-top: 0.7em;\n",
       "}\n",
       ".highlight-code {\n",
       "white-space: pre;\n",
       "font-family: monospace;\n",
       "}\n",
       ".suggestion-warning { \n",
       "font-weight: bold;\n",
       "color: rgb(200, 130, 0);\n",
       "}\n",
       ".suggestion-error { \n",
       "font-weight: bold;\n",
       "color: red;\n",
       "}\n",
       ".suggestion-name {\n",
       "font-weight: bold;\n",
       "}\n",
       "</style><span class='get-type'>(.|.) :: forall (f :: * -> *). Applicative f => f [[Eqn]] -> f [[Eqn]] -> f [[Eqn]]</span>"
      ],
      "text/plain": [
       "(.|.) :: forall (f :: * -> *). Applicative f => f [[Eqn]] -> f [[Eqn]] -> f [[Eqn]]"
      ]
     },
     "metadata": {},
     "output_type": "display_data"
    }
   ],
   "source": [
    ":type (.=.)\n",
    ":type (.&.)\n",
    ":type (.|.)"
   ]
  },
  {
   "cell_type": "code",
   "execution_count": 19,
   "metadata": {},
   "outputs": [],
   "source": [
    "tim = T \"tim\" []\n",
    "bob = T \"bob\" []\n",
    "jane = T \"jane\" []\n",
    "mary = T \"mary\" []\n",
    "john = T \"john\" []\n",
    "luke = T \"luke\" []\n",
    "kate = T \"kate\" []\n",
    "\n",
    "male(x) = (x.=.tim) .|.\n",
    "          (x.=.bob) .|.\n",
    "          (x.=.john)\n",
    "          \n",
    "female(x) = (x.=.jane) .|.\n",
    "            (x.=.mary)\n",
    "\n",
    "parent(p,c) = ( (p.=.tim) .&.(c.=.bob)  ) .|.\n",
    "              ( (p.=.jane).&.(c.=.bob)  ) .|.\n",
    "              ( (p.=.john).&.(c.=.tim)  ) .|.\n",
    "              ( (p.=.mary).&.(c.=.tim)  ) .|.\n",
    "              ( (p.=.luke).&.(c.=.john) ) .|.\n",
    "              ( (p.=.kate).&.(c.=.john) )\n",
    "\n",
    "father(f,c) = parent(f,c) .&. male(f)"
   ]
  },
  {
   "cell_type": "code",
   "execution_count": 20,
   "metadata": {},
   "outputs": [],
   "source": [
    "solve ess = [unif (es,[]) | es<-ess]"
   ]
  },
  {
   "cell_type": "code",
   "execution_count": 21,
   "metadata": {},
   "outputs": [
    {
     "data": {
      "text/html": [
       "<style>/* Styles used for the Hoogle display in the pager */\n",
       ".hoogle-doc {\n",
       "display: block;\n",
       "padding-bottom: 1.3em;\n",
       "padding-left: 0.4em;\n",
       "}\n",
       ".hoogle-code {\n",
       "display: block;\n",
       "font-family: monospace;\n",
       "white-space: pre;\n",
       "}\n",
       ".hoogle-text {\n",
       "display: block;\n",
       "}\n",
       ".hoogle-name {\n",
       "color: green;\n",
       "font-weight: bold;\n",
       "}\n",
       ".hoogle-head {\n",
       "font-weight: bold;\n",
       "}\n",
       ".hoogle-sub {\n",
       "display: block;\n",
       "margin-left: 0.4em;\n",
       "}\n",
       ".hoogle-package {\n",
       "font-weight: bold;\n",
       "font-style: italic;\n",
       "}\n",
       ".hoogle-module {\n",
       "font-weight: bold;\n",
       "}\n",
       ".hoogle-class {\n",
       "font-weight: bold;\n",
       "}\n",
       ".get-type {\n",
       "color: green;\n",
       "font-weight: bold;\n",
       "font-family: monospace;\n",
       "display: block;\n",
       "white-space: pre-wrap;\n",
       "}\n",
       ".show-type {\n",
       "color: green;\n",
       "font-weight: bold;\n",
       "font-family: monospace;\n",
       "margin-left: 1em;\n",
       "}\n",
       ".mono {\n",
       "font-family: monospace;\n",
       "display: block;\n",
       "}\n",
       ".err-msg {\n",
       "color: red;\n",
       "font-style: italic;\n",
       "font-family: monospace;\n",
       "white-space: pre;\n",
       "display: block;\n",
       "}\n",
       "#unshowable {\n",
       "color: red;\n",
       "font-weight: bold;\n",
       "}\n",
       ".err-msg.in.collapse {\n",
       "padding-top: 0.7em;\n",
       "}\n",
       ".highlight-code {\n",
       "white-space: pre;\n",
       "font-family: monospace;\n",
       "}\n",
       ".suggestion-warning { \n",
       "font-weight: bold;\n",
       "color: rgb(200, 130, 0);\n",
       "}\n",
       ".suggestion-error { \n",
       "font-weight: bold;\n",
       "color: red;\n",
       "}\n",
       ".suggestion-name {\n",
       "font-weight: bold;\n",
       "}\n",
       "</style><span class='get-type'>male :: forall (f :: * -> *). Monad f => Term -> f [[Eqn]]</span>"
      ],
      "text/plain": [
       "male :: forall (f :: * -> *). Monad f => Term -> f [[Eqn]]"
      ]
     },
     "metadata": {},
     "output_type": "display_data"
    },
    {
     "data": {
      "text/html": [
       "<style>/* Styles used for the Hoogle display in the pager */\n",
       ".hoogle-doc {\n",
       "display: block;\n",
       "padding-bottom: 1.3em;\n",
       "padding-left: 0.4em;\n",
       "}\n",
       ".hoogle-code {\n",
       "display: block;\n",
       "font-family: monospace;\n",
       "white-space: pre;\n",
       "}\n",
       ".hoogle-text {\n",
       "display: block;\n",
       "}\n",
       ".hoogle-name {\n",
       "color: green;\n",
       "font-weight: bold;\n",
       "}\n",
       ".hoogle-head {\n",
       "font-weight: bold;\n",
       "}\n",
       ".hoogle-sub {\n",
       "display: block;\n",
       "margin-left: 0.4em;\n",
       "}\n",
       ".hoogle-package {\n",
       "font-weight: bold;\n",
       "font-style: italic;\n",
       "}\n",
       ".hoogle-module {\n",
       "font-weight: bold;\n",
       "}\n",
       ".hoogle-class {\n",
       "font-weight: bold;\n",
       "}\n",
       ".get-type {\n",
       "color: green;\n",
       "font-weight: bold;\n",
       "font-family: monospace;\n",
       "display: block;\n",
       "white-space: pre-wrap;\n",
       "}\n",
       ".show-type {\n",
       "color: green;\n",
       "font-weight: bold;\n",
       "font-family: monospace;\n",
       "margin-left: 1em;\n",
       "}\n",
       ".mono {\n",
       "font-family: monospace;\n",
       "display: block;\n",
       "}\n",
       ".err-msg {\n",
       "color: red;\n",
       "font-style: italic;\n",
       "font-family: monospace;\n",
       "white-space: pre;\n",
       "display: block;\n",
       "}\n",
       "#unshowable {\n",
       "color: red;\n",
       "font-weight: bold;\n",
       "}\n",
       ".err-msg.in.collapse {\n",
       "padding-top: 0.7em;\n",
       "}\n",
       ".highlight-code {\n",
       "white-space: pre;\n",
       "font-family: monospace;\n",
       "}\n",
       ".suggestion-warning { \n",
       "font-weight: bold;\n",
       "color: rgb(200, 130, 0);\n",
       "}\n",
       ".suggestion-error { \n",
       "font-weight: bold;\n",
       "color: red;\n",
       "}\n",
       ".suggestion-name {\n",
       "font-weight: bold;\n",
       "}\n",
       "</style><span class='get-type'>female :: forall (f :: * -> *). Monad f => Term -> f [[Eqn]]</span>"
      ],
      "text/plain": [
       "female :: forall (f :: * -> *). Monad f => Term -> f [[Eqn]]"
      ]
     },
     "metadata": {},
     "output_type": "display_data"
    },
    {
     "data": {
      "text/html": [
       "<style>/* Styles used for the Hoogle display in the pager */\n",
       ".hoogle-doc {\n",
       "display: block;\n",
       "padding-bottom: 1.3em;\n",
       "padding-left: 0.4em;\n",
       "}\n",
       ".hoogle-code {\n",
       "display: block;\n",
       "font-family: monospace;\n",
       "white-space: pre;\n",
       "}\n",
       ".hoogle-text {\n",
       "display: block;\n",
       "}\n",
       ".hoogle-name {\n",
       "color: green;\n",
       "font-weight: bold;\n",
       "}\n",
       ".hoogle-head {\n",
       "font-weight: bold;\n",
       "}\n",
       ".hoogle-sub {\n",
       "display: block;\n",
       "margin-left: 0.4em;\n",
       "}\n",
       ".hoogle-package {\n",
       "font-weight: bold;\n",
       "font-style: italic;\n",
       "}\n",
       ".hoogle-module {\n",
       "font-weight: bold;\n",
       "}\n",
       ".hoogle-class {\n",
       "font-weight: bold;\n",
       "}\n",
       ".get-type {\n",
       "color: green;\n",
       "font-weight: bold;\n",
       "font-family: monospace;\n",
       "display: block;\n",
       "white-space: pre-wrap;\n",
       "}\n",
       ".show-type {\n",
       "color: green;\n",
       "font-weight: bold;\n",
       "font-family: monospace;\n",
       "margin-left: 1em;\n",
       "}\n",
       ".mono {\n",
       "font-family: monospace;\n",
       "display: block;\n",
       "}\n",
       ".err-msg {\n",
       "color: red;\n",
       "font-style: italic;\n",
       "font-family: monospace;\n",
       "white-space: pre;\n",
       "display: block;\n",
       "}\n",
       "#unshowable {\n",
       "color: red;\n",
       "font-weight: bold;\n",
       "}\n",
       ".err-msg.in.collapse {\n",
       "padding-top: 0.7em;\n",
       "}\n",
       ".highlight-code {\n",
       "white-space: pre;\n",
       "font-family: monospace;\n",
       "}\n",
       ".suggestion-warning { \n",
       "font-weight: bold;\n",
       "color: rgb(200, 130, 0);\n",
       "}\n",
       ".suggestion-error { \n",
       "font-weight: bold;\n",
       "color: red;\n",
       "}\n",
       ".suggestion-name {\n",
       "font-weight: bold;\n",
       "}\n",
       "</style><span class='get-type'>parent :: forall (f :: * -> *). Monad f => (Term, Term) -> f [[Eqn]]</span>"
      ],
      "text/plain": [
       "parent :: forall (f :: * -> *). Monad f => (Term, Term) -> f [[Eqn]]"
      ]
     },
     "metadata": {},
     "output_type": "display_data"
    },
    {
     "data": {
      "text/html": [
       "<style>/* Styles used for the Hoogle display in the pager */\n",
       ".hoogle-doc {\n",
       "display: block;\n",
       "padding-bottom: 1.3em;\n",
       "padding-left: 0.4em;\n",
       "}\n",
       ".hoogle-code {\n",
       "display: block;\n",
       "font-family: monospace;\n",
       "white-space: pre;\n",
       "}\n",
       ".hoogle-text {\n",
       "display: block;\n",
       "}\n",
       ".hoogle-name {\n",
       "color: green;\n",
       "font-weight: bold;\n",
       "}\n",
       ".hoogle-head {\n",
       "font-weight: bold;\n",
       "}\n",
       ".hoogle-sub {\n",
       "display: block;\n",
       "margin-left: 0.4em;\n",
       "}\n",
       ".hoogle-package {\n",
       "font-weight: bold;\n",
       "font-style: italic;\n",
       "}\n",
       ".hoogle-module {\n",
       "font-weight: bold;\n",
       "}\n",
       ".hoogle-class {\n",
       "font-weight: bold;\n",
       "}\n",
       ".get-type {\n",
       "color: green;\n",
       "font-weight: bold;\n",
       "font-family: monospace;\n",
       "display: block;\n",
       "white-space: pre-wrap;\n",
       "}\n",
       ".show-type {\n",
       "color: green;\n",
       "font-weight: bold;\n",
       "font-family: monospace;\n",
       "margin-left: 1em;\n",
       "}\n",
       ".mono {\n",
       "font-family: monospace;\n",
       "display: block;\n",
       "}\n",
       ".err-msg {\n",
       "color: red;\n",
       "font-style: italic;\n",
       "font-family: monospace;\n",
       "white-space: pre;\n",
       "display: block;\n",
       "}\n",
       "#unshowable {\n",
       "color: red;\n",
       "font-weight: bold;\n",
       "}\n",
       ".err-msg.in.collapse {\n",
       "padding-top: 0.7em;\n",
       "}\n",
       ".highlight-code {\n",
       "white-space: pre;\n",
       "font-family: monospace;\n",
       "}\n",
       ".suggestion-warning { \n",
       "font-weight: bold;\n",
       "color: rgb(200, 130, 0);\n",
       "}\n",
       ".suggestion-error { \n",
       "font-weight: bold;\n",
       "color: red;\n",
       "}\n",
       ".suggestion-name {\n",
       "font-weight: bold;\n",
       "}\n",
       "</style><span class='get-type'>father :: forall (f :: * -> *). Monad f => (Term, Term) -> f [[Eqn]]</span>"
      ],
      "text/plain": [
       "father :: forall (f :: * -> *). Monad f => (Term, Term) -> f [[Eqn]]"
      ]
     },
     "metadata": {},
     "output_type": "display_data"
    }
   ],
   "source": [
    ":type male\n",
    ":type female\n",
    ":type parent\n",
    ":type father"
   ]
  },
  {
   "cell_type": "code",
   "execution_count": 22,
   "metadata": {},
   "outputs": [],
   "source": [
    "import Control.Monad.Trans.State\n",
    "\n",
    "newVar :: State Int Term\n",
    "newVar = do modify (+1)\n",
    "            i <- get\n",
    "            return $ V('_':show (i::Int))"
   ]
  },
  {
   "cell_type": "code",
   "execution_count": 23,
   "metadata": {},
   "outputs": [],
   "source": [
    "grandpa(g,y) = do p <- newVar\n",
    "                  parent(p,y) .&. father(g,p)"
   ]
  },
  {
   "cell_type": "code",
   "execution_count": 24,
   "metadata": {},
   "outputs": [
    {
     "data": {
      "text/html": [
       "<style>/* Styles used for the Hoogle display in the pager */\n",
       ".hoogle-doc {\n",
       "display: block;\n",
       "padding-bottom: 1.3em;\n",
       "padding-left: 0.4em;\n",
       "}\n",
       ".hoogle-code {\n",
       "display: block;\n",
       "font-family: monospace;\n",
       "white-space: pre;\n",
       "}\n",
       ".hoogle-text {\n",
       "display: block;\n",
       "}\n",
       ".hoogle-name {\n",
       "color: green;\n",
       "font-weight: bold;\n",
       "}\n",
       ".hoogle-head {\n",
       "font-weight: bold;\n",
       "}\n",
       ".hoogle-sub {\n",
       "display: block;\n",
       "margin-left: 0.4em;\n",
       "}\n",
       ".hoogle-package {\n",
       "font-weight: bold;\n",
       "font-style: italic;\n",
       "}\n",
       ".hoogle-module {\n",
       "font-weight: bold;\n",
       "}\n",
       ".hoogle-class {\n",
       "font-weight: bold;\n",
       "}\n",
       ".get-type {\n",
       "color: green;\n",
       "font-weight: bold;\n",
       "font-family: monospace;\n",
       "display: block;\n",
       "white-space: pre-wrap;\n",
       "}\n",
       ".show-type {\n",
       "color: green;\n",
       "font-weight: bold;\n",
       "font-family: monospace;\n",
       "margin-left: 1em;\n",
       "}\n",
       ".mono {\n",
       "font-family: monospace;\n",
       "display: block;\n",
       "}\n",
       ".err-msg {\n",
       "color: red;\n",
       "font-style: italic;\n",
       "font-family: monospace;\n",
       "white-space: pre;\n",
       "display: block;\n",
       "}\n",
       "#unshowable {\n",
       "color: red;\n",
       "font-weight: bold;\n",
       "}\n",
       ".err-msg.in.collapse {\n",
       "padding-top: 0.7em;\n",
       "}\n",
       ".highlight-code {\n",
       "white-space: pre;\n",
       "font-family: monospace;\n",
       "}\n",
       ".suggestion-warning { \n",
       "font-weight: bold;\n",
       "color: rgb(200, 130, 0);\n",
       "}\n",
       ".suggestion-error { \n",
       "font-weight: bold;\n",
       "color: red;\n",
       "}\n",
       ".suggestion-name {\n",
       "font-weight: bold;\n",
       "}\n",
       "</style><span class='get-type'>grandpa :: (Term, Term) -> StateT Int Identity [[Eqn]]</span>"
      ],
      "text/plain": [
       "grandpa :: (Term, Term) -> StateT Int Identity [[Eqn]]"
      ]
     },
     "metadata": {},
     "output_type": "display_data"
    }
   ],
   "source": [
    ":type grandpa"
   ]
  },
  {
   "cell_type": "code",
   "execution_count": 25,
   "metadata": {},
   "outputs": [
    {
     "data": {
      "text/plain": [
       "0"
      ]
     },
     "metadata": {},
     "output_type": "display_data"
    },
    {
     "data": {
      "text/plain": [
       "[(\"x\",T \"tim\" [])]"
      ]
     },
     "metadata": {},
     "output_type": "display_data"
    }
   ],
   "source": [
    "(ess,i) = runState ( father(V\"x\",bob) ) 0\n",
    "-- ess\n",
    "-- mapM_ print ess\n",
    "i\n",
    "result = solve ess\n",
    "mapM_ print [sigma | ([],sigma) <- result]"
   ]
  },
  {
   "cell_type": "code",
   "execution_count": 26,
   "metadata": {},
   "outputs": [
    {
     "data": {
      "text/plain": [
       "1"
      ]
     },
     "metadata": {},
     "output_type": "display_data"
    },
    {
     "data": {
      "text/plain": [
       "[(\"x\",T \"john\" []),(\"y\",T \"bob\" []),(\"_1\",T \"tim\" [])]"
      ]
     },
     "metadata": {},
     "output_type": "display_data"
    }
   ],
   "source": [
    "(ess,i) = runState ( grandpa(V\"x\",V\"y\") ) 0\n",
    "-- ess\n",
    "-- mapM_ print ess\n",
    "i\n",
    "result = solve ess\n",
    "mapM_ print [sigma | ([],sigma) <- result]"
   ]
  },
  {
   "cell_type": "code",
   "execution_count": 27,
   "metadata": {},
   "outputs": [],
   "source": [
    "ancestor(a,x) = parent(a,x)\n",
    "                .|.\n",
    "                do p <- newVar\n",
    "                   parent(p,x) .&. ancestor(a,p)"
   ]
  },
  {
   "cell_type": "code",
   "execution_count": 28,
   "metadata": {},
   "outputs": [
    {
     "data": {
      "text/plain": [
       "[(\"x\",T \"tim\" [])]\n",
       "[(\"x\",T \"jane\" [])]\n",
       "[(\"x\",T \"john\" []),(\"_1\",T \"tim\" [])]\n",
       "[(\"x\",T \"mary\" []),(\"_1\",T \"tim\" [])]"
      ]
     },
     "metadata": {},
     "output_type": "display_data"
    }
   ],
   "source": [
    "(ess,i) = runState ( ancestor(V\"x\",bob) ) 0\n",
    "-- ess\n",
    "-- mapM_ print $ take 20 ess\n",
    "-- i\n",
    "result = solve $ take 1000 ess\n",
    "mapM_ print [sigma | ([],sigma) <- result]"
   ]
  },
  {
   "cell_type": "markdown",
   "metadata": {},
   "source": [
    "----\n",
    "## HW04 (총 12점)\n",
    "\n",
    "늑대(Wolf), 염소(Goat), 양배추(Cabbage)를 농부가 배를 몰아 강의 동편에서 서편으로 옮기는데\n",
    "농부는 배에 한번에 하나의 동물 또는 식물만 실어나를 수 있다.\n",
    "농부의 배가 함께 있는 쪽에서는 어떤 동식물이 강가에 있어도 문제가 없지만\n",
    "농부가 배를 반대쪽으로 몰아갔을 때는 눈치를 보지 않고 늑대는 염소를 잡아먹고 염소는 양배추를 씹어먹는 위험성이 있다.\n",
    "이런 위험한 상황이 생기지 않도록 모두가 안전하게 강의 동편에서 시작해 강의 서편으로 이동하려면 어떤 순서로 실어날라야 하는지를 찾는 문제이다.\n",
    "\n",
    "이 문제를 프롤로그 규칙으로 표현한 프로그램이 우리 과목 저장소 `part2/wgf.pl`에 있다. 이를 하스켈로 옮겨보고 프로그래밍해 보는 것이 이번 과제이다.\n",
    "\n",
    "위에서 likes나 parent같은 것을 옮길 때와 마찬거지로,\n",
    "일단 여러 개의 절(clause 즉 \"`규칙이름(...) :- 조건.`\" 형태)로 이루어진 규칙을 하나의 절로 합친 좀더 원시적인 형태의 프롤로그 정의로 바꿔본 다음에,\n",
    "그것을 위에서 정의한 `(.=.)`, `(.&.)`, `(.|.)` 연산자 및 새로운 변수가 필요할 경우 `newVar`도 활용해 Haskell로 옮기면 된다."
   ]
  },
  {
   "cell_type": "markdown",
   "metadata": {},
   "source": [
    "#### 우선 간단한 `start`, `final`, `opp` 부터 옮겨보고 각각을 `runState`와 `solve`를 이용해 실행하는 예를 하나씩 작성해 보라 (1점 = 0.25 + 0.25 + 0.5)"
   ]
  },
  {
   "cell_type": "code",
   "execution_count": 29,
   "metadata": {},
   "outputs": [],
   "source": [
    "w = T \"w\" []\n",
    "e = T \"e\" []\n",
    "s(a,b,c,d) = T \"s\" [a,b,c,d]\n",
    "\n",
    "start(x) = undefined\n",
    "\n",
    "final(x) = undefined\n",
    "\n",
    "opp(x,y) = undefined"
   ]
  },
  {
   "cell_type": "code",
   "execution_count": 30,
   "metadata": {},
   "outputs": [],
   "source": [
    "-- 각각의 실행 예를 하나씩 작성하라 (이것까지 해야 각각 0.25점, 0.25점, 0.5점. 정의를 올바르게 옮겼어도 실행 예를 작성하지 않으면 0점임.)\n"
   ]
  },
  {
   "cell_type": "markdown",
   "metadata": {},
   "source": [
    "#### `move`와 `safe`를 옮겨보라 (2점)"
   ]
  },
  {
   "cell_type": "code",
   "execution_count": 31,
   "metadata": {},
   "outputs": [],
   "source": [
    "move(s1,s2) = undefined\n",
    "\n",
    "safe(s) = undefined"
   ]
  },
  {
   "cell_type": "markdown",
   "metadata": {},
   "source": [
    "#### 프롤로그에서 다음 과정에 해당하는 실행 예를 각각 작성해 보라 (3점. 각 0.5점)\n",
    " * `start(S0), move(S0,S1), safe(S1).`\n",
    " * `start(S0), move(S0,S1), safe(S1), move(S1,S2), safe(S2).`\n",
    " * `start(S0), move(S0,S1), safe(S1), move(S1,S2), safe(S2), move(S2,S3), safe(S3), move(S3,S4), safe(S4), move(S4,S5), safe(S5), move(S5,S6), safe(S6).`\n",
    " * `start(S0), move(S0,S1), safe(S1), move(S1,S2), safe(S2), move(S2,S3), safe(S3), move(S3,S4), safe(S4), move(S4,S5), safe(S5), move(S5,S6), safe(S6), final(S6).`\n",
    " * `start(S0), move(S0,S1), safe(S1), move(S1,S2), safe(S2), move(S2,S3), safe(S3), move(S3,S4), safe(S4), move(S4,S5), safe(S5), move(S5,S6), safe(S6), move(S6,S7), safe(S7)`\n",
    " * `start(S0), move(S0,S1), safe(S1), move(S1,S2), safe(S2), move(S2,S3), safe(S3), move(S3,S4), safe(S4), move(S4,S5), safe(S5), move(S5,S6), safe(S6), move(S6,S7), safe(S7), final(S7).`"
   ]
  },
  {
   "cell_type": "markdown",
   "metadata": {},
   "source": [
    "#### 사실 이정도 프로그램은 Haskell 프로그래밍에 어느 정도 익숙하다면 굳이 Prolog로 풀고 나서 옮기지 않아도 Haskell로 직접 풀어볼 수도 있다. 한번 도전해보라. (5점)\n",
    "  * `saf` 작성 (1점) 위에서 `safe`에 해당\n",
    "  * `mov` 작성 (2점) 위에서 `move`에 해당\n",
    "  * `findPath` 작성 (3점). 예를 들어 `findPathsWithLimit 7 (W,W,W,W)`을 입력하면 길이 7이하의 가능한 모든 문제풀이방법을 탐색하도록 작성. (즉 트리에서 리트스들을 뽑아냄)"
   ]
  },
  {
   "cell_type": "code",
   "execution_count": 32,
   "metadata": {},
   "outputs": [],
   "source": [
    "import Control.Monad\n",
    "\n",
    "data Pos = W | E deriving (Eq,Ord,Show)\n",
    "type BWGC = (Pos,Pos,Pos,Pos) -- (B,W,G,C)\n",
    "\n",
    "data Tree a = Node a [Tree a] deriving (Eq,Ord,Show)\n",
    "\n",
    "op :: Pos -> Pos\n",
    "op W = E\n",
    "op E = W\n",
    "\n",
    "mov :: BWGC -> [BWGC]\n",
    "mov s = undefined\n",
    "\n",
    "saf :: BWGC -> Bool\n",
    "saf s = undefined\n",
    "\n",
    "treeFrom :: BWGC -> Tree BWGC\n",
    "treeFrom s@(E,E,E,E) = Node s []\n",
    "treeFrom s = Node s [treeFrom s' | s' <- mov s, saf s']\n",
    "\n",
    "takeTree n (Node s ts)\n",
    "       | n < 1     = Node s []\n",
    "       | otherwise = Node s $ map (takeTree (n-1)) ts\n",
    "\n",
    "-- s로부터 길이 n이하의 문제풀이방법들 탐색. 힌트 끝이 (E,E,E,E) 인 경로들을 모으면 됨\n",
    "findPathsWithLimit :: Int -> BWGC -> [ [BWGC] ]\n",
    "findPathsWithLimit n s = findPaths t\n",
    "  where\n",
    "  t = takeTree n $ treeFrom s\n",
    "\n",
    "findPaths :: Tree BWGC -> [ [BWGC] ]\n",
    "findPaths t = undefined"
   ]
  },
  {
   "cell_type": "code",
   "execution_count": 33,
   "metadata": {},
   "outputs": [
    {
     "ename": "",
     "evalue": "",
     "header": "MessageHeader {mhIdentifiers = [\"7d0d5fcd-f6d9-435a-84bf-4d466e80db84\"], mhParentHeader = Just (MessageHeader {mhIdentifiers = [\"7d0d5fcd-f6d9-435a-84bf-4d466e80db84\"], mhParentHeader = Nothing, mhMetadata = Metadata (fromList [(\"deletedCells\",Array []),(\"cellId\",String \"bfb56eb4-86cd-4089-ac5c-8c96d5215a98\")]), mhMessageId = UUID {uuidToString = \"baa7fbc0-3d14-4b89-9e40-41ef9d7a8021\"}, mhSessionId = UUID {uuidToString = \"7d0d5fcd-f6d9-435a-84bf-4d466e80db84\"}, mhUsername = \"\", mhMsgType = ExecuteRequestMessage}), mhMetadata = Metadata (fromList []), mhMessageId = UUID {uuidToString = \"0ccb0049-5b15-4ab8-8a6f-4738354f1c44\"}, mhSessionId = UUID {uuidToString = \"7d0d5fcd-f6d9-435a-84bf-4d466e80db84\"}, mhUsername = \"\", mhMsgType = ExecuteErrorMessage}",
     "output_type": "error",
     "traceback": [
      "Prelude.undefined\nCallStack (from HasCallStack):\n  error, called at libraries/base/GHC/Err.hs:78:14 in base:GHC.Err\n  undefined, called at <interactive>:22:15 in interactive:Ghci858"
     ]
    }
   ],
   "source": [
    "-- 이렇게 정답 확인 가능\n",
    "mapM_ print $ findPathsWithLimit 7 (W,W,W,W)"
   ]
  },
  {
   "cell_type": "code",
   "execution_count": null,
   "metadata": {},
   "outputs": [],
   "source": []
  }
 ],
 "metadata": {
  "kernelspec": {
   "display_name": "Haskell",
   "language": "haskell",
   "name": "haskell"
  },
  "language_info": {
   "codemirror_mode": "ihaskell",
   "file_extension": ".hs",
   "name": "haskell",
   "pygments_lexer": "Haskell",
   "version": "8.6.5"
  }
 },
 "nbformat": 4,
 "nbformat_minor": 4
}
