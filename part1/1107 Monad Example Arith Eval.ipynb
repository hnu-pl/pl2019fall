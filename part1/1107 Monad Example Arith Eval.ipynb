{
 "cells": [
  {
   "cell_type": "code",
   "execution_count": 20,
   "metadata": {},
   "outputs": [],
   "source": [
    "data Exp = Val Int     -- n\n",
    "         | Var String\n",
    "         | Add Exp Exp -- e1 + e2\n",
    "         | Sub Exp Exp -- e1 - e2\n",
    "         | Mul Exp Exp -- e1 * e2\n",
    "         | Div Exp Exp -- e1 / e2\n",
    "         deriving Show\n",
    "\n",
    "type Env = [ (String, Int) ]"
   ]
  },
  {
   "cell_type": "code",
   "execution_count": 43,
   "metadata": {},
   "outputs": [
    {
     "data": {
      "text/plain": [
       "Just 10"
      ]
     },
     "metadata": {},
     "output_type": "display_data"
    },
    {
     "data": {
      "text/plain": [
       "Nothing"
      ]
     },
     "metadata": {},
     "output_type": "display_data"
    }
   ],
   "source": [
    "lookup \"x\" [(\"a\",3),(\"b\",5),(\"x\",10),(\"y\",22)]\n",
    "lookup \"z\" [(\"a\",3),(\"b\",5),(\"x\",10),(\"y\",22)]"
   ]
  },
  {
   "cell_type": "code",
   "execution_count": 22,
   "metadata": {},
   "outputs": [],
   "source": [
    "eval :: Env -> Exp -> Int\n",
    "eval _   (Val n) = n\n",
    "eval env (Var x) = case lookup x env of\n",
    "                     Nothing -> error (x++\" not defined\")\n",
    "                     Just v  -> v\n",
    "eval env (Add e1 e2) = eval env e1 + eval env e2\n",
    "eval env (Sub e1 e2) = eval env e1 - eval env e2\n",
    "eval env (Mul e1 e2) = eval env e1 * eval env e2\n",
    "eval env (Div e1 e2) = eval env e1 `div` eval env e2"
   ]
  },
  {
   "cell_type": "code",
   "execution_count": 23,
   "metadata": {},
   "outputs": [
    {
     "data": {
      "text/plain": [
       "25"
      ]
     },
     "metadata": {},
     "output_type": "display_data"
    }
   ],
   "source": [
    "eval [] (Mul (Val 5) (Add (Val 2) (Val 3))) -- 5 * (2 + 3)"
   ]
  },
  {
   "cell_type": "code",
   "execution_count": 24,
   "metadata": {},
   "outputs": [
    {
     "data": {
      "text/plain": [
       "5"
      ]
     },
     "metadata": {},
     "output_type": "display_data"
    }
   ],
   "source": [
    "eval [] (Div (Val 5) (Sub (Val 3) (Val 2))) -- 5 * (3 - 2)"
   ]
  },
  {
   "cell_type": "code",
   "execution_count": 25,
   "metadata": {},
   "outputs": [
    {
     "ename": "",
     "evalue": "",
     "header": "MessageHeader {mhIdentifiers = [\"c2430f83-baa2-44f7-8da2-013dd6bfa786\"], mhParentHeader = Just (MessageHeader {mhIdentifiers = [\"c2430f83-baa2-44f7-8da2-013dd6bfa786\"], mhParentHeader = Nothing, mhMetadata = Metadata (fromList [(\"deletedCells\",Array []),(\"cellId\",String \"e7ab61a4-9e14-49e0-b727-a2414430600d\")]), mhMessageId = UUID {uuidToString = \"25b954d9-fe1f-4893-aa1c-ea88d9e6e595\"}, mhSessionId = UUID {uuidToString = \"c2430f83-baa2-44f7-8da2-013dd6bfa786\"}, mhUsername = \"\", mhMsgType = ExecuteRequestMessage}), mhMetadata = Metadata (fromList []), mhMessageId = UUID {uuidToString = \"a8804927-4b96-49fe-bd15-a6ab4eb151bb\"}, mhSessionId = UUID {uuidToString = \"c2430f83-baa2-44f7-8da2-013dd6bfa786\"}, mhUsername = \"\", mhMsgType = ExecuteErrorMessage}",
     "output_type": "error",
     "traceback": [
      "divide by zero"
     ]
    }
   ],
   "source": [
    "eval [] (Div (Val 5) (Sub (Val 3) (Val 3))) -- 5 * (3 - 3)"
   ]
  },
  {
   "cell_type": "code",
   "execution_count": 30,
   "metadata": {},
   "outputs": [
    {
     "ename": "",
     "evalue": "",
     "header": "MessageHeader {mhIdentifiers = [\"c2430f83-baa2-44f7-8da2-013dd6bfa786\"], mhParentHeader = Just (MessageHeader {mhIdentifiers = [\"c2430f83-baa2-44f7-8da2-013dd6bfa786\"], mhParentHeader = Nothing, mhMetadata = Metadata (fromList [(\"deletedCells\",Array []),(\"cellId\",String \"2e2805da-e61b-4a94-b7c6-b89d8273d812\")]), mhMessageId = UUID {uuidToString = \"c5de6982-7312-4847-bfa2-b194f28feeb0\"}, mhSessionId = UUID {uuidToString = \"c2430f83-baa2-44f7-8da2-013dd6bfa786\"}, mhUsername = \"\", mhMsgType = ExecuteRequestMessage}), mhMetadata = Metadata (fromList []), mhMessageId = UUID {uuidToString = \"e7209858-a59a-4a2d-a7d7-e506e3229b78\"}, mhSessionId = UUID {uuidToString = \"c2430f83-baa2-44f7-8da2-013dd6bfa786\"}, mhUsername = \"\", mhMsgType = ExecuteErrorMessage}",
     "output_type": "error",
     "traceback": [
      "x not defined\nCallStack (from HasCallStack):\n  error, called at <interactive>:4:33 in interactive:Ghci470"
     ]
    }
   ],
   "source": [
    "eval [] (Div (Val 5) (Var \"x\")) -- 5 * x"
   ]
  },
  {
   "cell_type": "code",
   "execution_count": 37,
   "metadata": {},
   "outputs": [],
   "source": [
    "-- Monad는 >>= 와 return 두 개의 오버로드된 메소드 제공\n",
    "evm :: Env -> Exp -> Maybe Int\n",
    "evm env (Val n) = return n -- Just n\n",
    "evm env (Var x) = lookup x env\n",
    "evm env (Add e1 e2) = (+) <$> evm env e1 <*> evm env e2\n",
    "evm env (Sub e1 e2) = (-) <$> evm env e1 <*> evm env e2\n",
    "evm env (Mul e1 e2) = (*) <$> evm env e1 <*> evm env e2\n",
    "evm env (Div e1 e2) = do v1 <- evm env e1\n",
    "                         v2 <- evm env e2\n",
    "                         if v2==0 then Nothing\n",
    "                                  else return (v1 `div` v2)\n",
    "{-\n",
    "  evm e1 >>= \\v1 ->\n",
    "  evm e2 >>= \\v2 ->\n",
    "  if v2==0 then Nothing\n",
    "           else Just (v1 `div` v2)\n",
    "-}\n",
    "{-\n",
    "  case m1 of\n",
    "    Nothing -> Nothing\n",
    "    Just v1 -> case m2 of\n",
    "                 Nothing -> Nothing\n",
    "                 Just v2 -> if v2==0\n",
    "                               then Nothing\n",
    "                               else Just (v1 `div` v2)\n",
    "  where m1 = evm e1\n",
    "        m2 = evm e2\n",
    "-}"
   ]
  },
  {
   "cell_type": "code",
   "execution_count": 38,
   "metadata": {},
   "outputs": [
    {
     "data": {
      "text/plain": [
       "Just 5"
      ]
     },
     "metadata": {},
     "output_type": "display_data"
    },
    {
     "data": {
      "text/plain": [
       "Nothing"
      ]
     },
     "metadata": {},
     "output_type": "display_data"
    },
    {
     "data": {
      "text/plain": [
       "Nothing"
      ]
     },
     "metadata": {},
     "output_type": "display_data"
    }
   ],
   "source": [
    "evm [] (Div (Val 5) (Sub (Val 3) (Val 2))) -- 5 * (3 - 2)\n",
    "evm [] (Div (Val 5) (Sub (Val 3) (Val 3))) -- 5 * (3 - 3)\n",
    "evm [] (Div (Val 5) (Var \"x\")) -- 5 * x"
   ]
  },
  {
   "cell_type": "markdown",
   "metadata": {},
   "source": [
    "```haskell\n",
    "data Either a b = Left a | Right b\n",
    "```"
   ]
  },
  {
   "cell_type": "code",
   "execution_count": 39,
   "metadata": {},
   "outputs": [],
   "source": [
    "eve :: Env -> Exp -> Either String Int\n",
    "eve env (Val n) = return n -- Right n\n",
    "eve env (Var x) = case lookup x env of\n",
    "                    Nothing -> Left (x++\" not defined\")\n",
    "                    Just v  -> return v\n",
    "eve env (Add e1 e2) = (+) <$> eve env e1 <*> eve env e2\n",
    "eve env (Sub e1 e2) = (-) <$> eve env e1 <*> eve env e2\n",
    "eve env (Mul e1 e2) = (*) <$> eve env e1 <*> eve env e2\n",
    "eve env (Div e1 e2) = do v1 <- eve env e1\n",
    "                         v2 <- eve env e2\n",
    "                         if v2==0 then Left \"Div by 0\"\n",
    "                                  else return (v1 `div` v2)"
   ]
  },
  {
   "cell_type": "code",
   "execution_count": 40,
   "metadata": {},
   "outputs": [
    {
     "data": {
      "text/plain": [
       "Right 5"
      ]
     },
     "metadata": {},
     "output_type": "display_data"
    },
    {
     "data": {
      "text/plain": [
       "Left \"Div by 0\""
      ]
     },
     "metadata": {},
     "output_type": "display_data"
    },
    {
     "data": {
      "text/plain": [
       "Left \"x not defined\""
      ]
     },
     "metadata": {},
     "output_type": "display_data"
    }
   ],
   "source": [
    "eve [] (Div (Val 5) (Sub (Val 3) (Val 2))) -- 5 * (3 - 2)\n",
    "eve [] (Div (Val 5) (Sub (Val 3) (Val 3))) -- 5 * (3 - 3)\n",
    "eve [] (Div (Val 5) (Var \"x\")) -- 5 * x"
   ]
  },
  {
   "cell_type": "code",
   "execution_count": null,
   "metadata": {},
   "outputs": [],
   "source": []
  }
 ],
 "metadata": {
  "kernelspec": {
   "display_name": "Haskell",
   "language": "haskell",
   "name": "haskell"
  },
  "language_info": {
   "codemirror_mode": "ihaskell",
   "file_extension": ".hs",
   "name": "haskell",
   "pygments_lexer": "Haskell",
   "version": "8.6.5"
  }
 },
 "nbformat": 4,
 "nbformat_minor": 4
}
