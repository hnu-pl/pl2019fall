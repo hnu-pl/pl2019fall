{
 "cells": [
  {
   "cell_type": "markdown",
   "metadata": {},
   "source": [
    "# 한남대학교 2019년 2학기 프로그래밍언어 중간고사\n",
    "* 이름: 모범답안\n",
    "* 학번: 00000000\n",
    "----\n",
    "\n",
    "주의사항: 미완성 코드 중에 부분점수가 있는 문제들도 있지만 그런 경우라도 문법 에러나 타입 에러 등이 포함된 코드일 경우는 에러가 나지 않는 부분이 설령 잘 작성되었더라도 0점이다.\n",
    "\n",
    "과제 연동 문제인 07번 문제는 지금까지 제출해 받은 과제의 점수를 확정짓는 중요한 문제이므로 특히 주의해서 작성하도록 하자."
   ]
  },
  {
   "cell_type": "markdown",
   "metadata": {},
   "source": [
    "----\n",
    "### 01. 함수를 3회 반복해 적용하는 함수를 만들어내는 고차함수 (1점)\n",
    "정의역과 치역이 같은 함수가 주어지면\n",
    "그 함수를 3회 반복해 적용하는 함수를 만들어내는\n",
    "고차함수 `f01`를 정의하라.\n",
    "\n",
    "예컨대,\n",
    "```haskell\n",
    "add3 = f01 (\\x -> x+1)\n",
    "dup3 = f01 (\\s -> s++s)\n",
    "\n",
    "add3 7 == 10\n",
    "dup3 \"Hi\" == \"HiHiHiHiHiHiHiHi\"\n",
    "```"
   ]
  },
  {
   "cell_type": "code",
   "execution_count": 6,
   "metadata": {},
   "outputs": [],
   "source": [
    "f01 :: (a -> a) -> (a -> a)\n",
    "f01 f = f . f . f -- 합성함수 연산자 사용"
   ]
  },
  {
   "cell_type": "code",
   "execution_count": 7,
   "metadata": {},
   "outputs": [],
   "source": [
    "f01 :: (a -> a) -> (a -> a)\n",
    "f01 f = \\x -> f(f(f x)) -- 람다식 활용"
   ]
  },
  {
   "cell_type": "code",
   "execution_count": 8,
   "metadata": {},
   "outputs": [],
   "source": [
    "f01 :: (a -> a) -> a -> a\n",
    "f01 f x = f(f(f x))"
   ]
  },
  {
   "cell_type": "code",
   "execution_count": 9,
   "metadata": {},
   "outputs": [
    {
     "data": {
      "text/plain": [
       "10"
      ]
     },
     "metadata": {},
     "output_type": "display_data"
    },
    {
     "data": {
      "text/plain": [
       "\"HiHiHiHiHiHiHiHi\""
      ]
     },
     "metadata": {},
     "output_type": "display_data"
    }
   ],
   "source": [
    "add3 = f01 (\\x -> x+1)\n",
    "dup3 = f01 (\\s -> s++s)\n",
    "\n",
    "add3 7\n",
    "dup3 \"Hi\""
   ]
  },
  {
   "cell_type": "markdown",
   "metadata": {},
   "source": [
    "----\n",
    "### 02. 함수를 필요한 회수만큼 반복해 적용하는 함수를 만들어내는 고차함수 (2점)\n",
    "정의역과 치역이 같은 함수와 양의 정수 n이 주어지면\n",
    "그 함수를 n회 반복해 적용하는 함수를 만들어내는\n",
    "고차함수 `f02`를 정의하라. (단, n이 0이하일 경우에는\n",
    "받은 인자 그대로를 돌려주는 항등함수를 만들어내도록 한다.)\n",
    "\n",
    "예컨대,\n",
    "```haskell\n",
    "add0  = f02 0    (\\x -> x+1)\n",
    "add0' = f02 (-2) (\\x -> x+1) \n",
    "add3  = f02 3    (\\x -> x+1)\n",
    "\n",
    "add0  7 == 7\n",
    "add0' 7 == 7\n",
    "add3  7 == 10\n",
    "\n",
    "dup0  = f02 0    (\\s -> s++s)\n",
    "dup0' = f02 (-2) (\\s -> s++s)\n",
    "dup3  = f02 3    (\\s -> s++s)\n",
    "\n",
    "dup0  \"Hi\" == \"Hi\"\n",
    "dup0' \"Hi\" == \"Hi\"\n",
    "dup3  \"Hi\" == \"HiHiHiHiHiHiHiHi\"\n",
    "```"
   ]
  },
  {
   "cell_type": "code",
   "execution_count": 10,
   "metadata": {},
   "outputs": [],
   "source": [
    "f02 :: Int -> (a -> a) -> (a -> a)\n",
    "f02 n f | n <= 0    = id\n",
    "        | otherwise = f02 (n-1) f . f"
   ]
  },
  {
   "cell_type": "code",
   "execution_count": 11,
   "metadata": {},
   "outputs": [],
   "source": [
    "f02 :: Int -> (a -> a) -> (a -> a)\n",
    "f02 n f = if n <= 0 then (\\x -> x)\n",
    "                    else f02 (n-1) f . f"
   ]
  },
  {
   "cell_type": "code",
   "execution_count": 12,
   "metadata": {},
   "outputs": [],
   "source": [
    "f02 :: Int -> (a -> a) -> a -> a\n",
    "f02 n f x = if n < 1 then x else f02 (n-1) f (f x)"
   ]
  },
  {
   "cell_type": "code",
   "execution_count": 9,
   "metadata": {},
   "outputs": [
    {
     "data": {
      "text/plain": [
       "7"
      ]
     },
     "metadata": {},
     "output_type": "display_data"
    },
    {
     "data": {
      "text/plain": [
       "7"
      ]
     },
     "metadata": {},
     "output_type": "display_data"
    },
    {
     "data": {
      "text/plain": [
       "10"
      ]
     },
     "metadata": {},
     "output_type": "display_data"
    }
   ],
   "source": [
    "add0  = f02 0    (\\x -> x+1)\n",
    "add0' = f02 (-2) (\\x -> x+1) \n",
    "add3  = f02 3    (\\x -> x+1)\n",
    "\n",
    "add0  7\n",
    "add0' 7\n",
    "add3  7"
   ]
  },
  {
   "cell_type": "code",
   "execution_count": 10,
   "metadata": {},
   "outputs": [
    {
     "data": {
      "text/plain": [
       "\"Hi\""
      ]
     },
     "metadata": {},
     "output_type": "display_data"
    },
    {
     "data": {
      "text/plain": [
       "\"Hi\""
      ]
     },
     "metadata": {},
     "output_type": "display_data"
    },
    {
     "data": {
      "text/plain": [
       "\"HiHiHiHiHiHiHiHi\""
      ]
     },
     "metadata": {},
     "output_type": "display_data"
    }
   ],
   "source": [
    "dup0  = f02 0    (\\s -> s++s)\n",
    "dup0' = f02 (-2) (\\s -> s++s)\n",
    "dup3  = f02 3    (\\s -> s++s)\n",
    "\n",
    "dup0  \"Hi\"\n",
    "dup0' \"Hi\"\n",
    "dup3  \"Hi\""
   ]
  },
  {
   "cell_type": "markdown",
   "metadata": {},
   "source": [
    "----\n",
    "### 03. 홀수번째 원소만으로 이루어진 리스트 (2점)\n",
    "주어진 리스트의 홀수번째 원소만으로 이루어진 리스트를 만들어내는 함수 `f03`을 작성하라.\n",
    "\n",
    "```haskell\n",
    "f03 [] == []\n",
    "f03 [\"Hi\"] == \"Hi\"\n",
    "f03 [True,False] == [True]\n",
    "f03 [4,3,5,2,1] == [4,5,1]\n",
    "```"
   ]
  },
  {
   "cell_type": "code",
   "execution_count": 13,
   "metadata": {},
   "outputs": [],
   "source": [
    "f03 :: [a] -> [a]\n",
    "f03 (x:(_:xs)) = x : f03 xs\n",
    "f03 [x]        = [x]\n",
    "f03 []         = []"
   ]
  },
  {
   "cell_type": "code",
   "execution_count": 14,
   "metadata": {},
   "outputs": [
    {
     "data": {
      "text/plain": [
       "[]"
      ]
     },
     "metadata": {},
     "output_type": "display_data"
    },
    {
     "data": {
      "text/plain": [
       "[\"Hi\"]"
      ]
     },
     "metadata": {},
     "output_type": "display_data"
    },
    {
     "data": {
      "text/plain": [
       "[True]"
      ]
     },
     "metadata": {},
     "output_type": "display_data"
    },
    {
     "data": {
      "text/plain": [
       "[4,5,1]"
      ]
     },
     "metadata": {},
     "output_type": "display_data"
    }
   ],
   "source": [
    "f03 []\n",
    "f03 [\"Hi\"]\n",
    "f03 [True,False]\n",
    "f03 [4,3,5,2,1]"
   ]
  },
  {
   "cell_type": "markdown",
   "metadata": {},
   "source": [
    "----\n",
    "### 04. 이웃하는 원소의 차로 이루어진 리스트 (2점)\n",
    "주어진 정수 리스트에서 이웃하는 원소의 차,\n",
    "즉 바로 뒤 원소에서 바로 앞 원소를 뺀 값으로 이루어진\n",
    "리스트를 만들어내는 함수 `f04`를 작성하라.\n",
    "\n",
    "예컨대,\n",
    "```haskell\n",
    "f04 [] == []\n",
    "f04 [2] == []\n",
    "f04 [2,5] == [3]\n",
    "f04 [2,5,3] == [3,-2]\n",
    "f04 [2,5,3,4,4,1] == [3,-2,1,0,-3]\n",
    "```"
   ]
  },
  {
   "cell_type": "code",
   "execution_count": 15,
   "metadata": {},
   "outputs": [],
   "source": [
    "f04 :: [Int] -> [Int]\n",
    "f04 (y:x:xs) = (x-y) : f04 (x:xs)\n",
    "f04 [_]      = []\n",
    "f04 []       = []"
   ]
  },
  {
   "cell_type": "code",
   "execution_count": 16,
   "metadata": {},
   "outputs": [
    {
     "data": {
      "text/plain": [
       "[]"
      ]
     },
     "metadata": {},
     "output_type": "display_data"
    },
    {
     "data": {
      "text/plain": [
       "[]"
      ]
     },
     "metadata": {},
     "output_type": "display_data"
    },
    {
     "data": {
      "text/plain": [
       "[3]"
      ]
     },
     "metadata": {},
     "output_type": "display_data"
    },
    {
     "data": {
      "text/plain": [
       "[3,-2]"
      ]
     },
     "metadata": {},
     "output_type": "display_data"
    },
    {
     "data": {
      "text/plain": [
       "[3,-2,1,0,-3]"
      ]
     },
     "metadata": {},
     "output_type": "display_data"
    }
   ],
   "source": [
    "f04 []\n",
    "f04 [2]\n",
    "f04 [2,5]\n",
    "f04 [2,5,3]\n",
    "f04 [2,5,3,4,4,1]"
   ]
  },
  {
   "cell_type": "markdown",
   "metadata": {},
   "source": [
    "----\n",
    "아래 데이타 타입 정의는 앞으로 여러 문제에서 사용할 코드이다.\n",
    "\n",
    "리습 계열의 언어는 인자 두 개가 양쪽에 오는 중위 연산자 대신\n",
    "전위 연산자에 개수가 정해져 있지 않은 인자를 넘기는 방식으로 주로 표현하는데\n",
    "이런 표현식을 S-expression 혹은 S-표현식 등으로 부른다.\n",
    "\n",
    "예컨대, 덧셈 연산자를 사용한 S-expression `(+ 1 2 3 4)`의 값은 10이고\n",
    "아예 인자가 없는 경우인 `(+)`의 값은 0이다.\n",
    "\n",
    "또한 여러 개의 조건식을 한번에 연달아 표현한 아래와 같은 식도 지원한다.\n",
    "```\n",
    "(cond [e1'  e1]\n",
    "      [e2'  e2]\n",
    "      ...\n",
    "      [en'  en]\n",
    "      [else e0])\n",
    "```\n",
    "위 식의 의미는 조건식 `e1'`를 만족하면 `e1`을 계산하고,\n",
    "아니면 그 다음 조건식 `e2'`를 만족하면 `e2`를 계산하고,\n",
    "...,\n",
    "아니면 마지막 조건식 `en'`를 만족하면 `en`을 계산하고,\n",
    "마지막 조건까지도 만족하지 않는 경우는 `e0`를 계산하라는 것이다.\n",
    "\n",
    "아래에는 우리가 수업시간에 배운 덧셈식과 조건식 및 변수를 포함한\n",
    "언어의 문법을 나타내는 데이타 타입 `Expr`이 정의되어 있다.\n",
    "또한 그와 비슷한 기능을 포함한 S-expression 형식의 언어를 나타내는 데이타 타입 `SExp`도 정의되어 있다."
   ]
  },
  {
   "cell_type": "code",
   "execution_count": 32,
   "metadata": {},
   "outputs": [],
   "source": [
    "data Expr = Val Int           -- n\n",
    "          | Add Expr Expr     -- e1 + e2\n",
    "          | If Expr Expr Expr -- if e then e1 else e0\n",
    "          | Var String        -- x\n",
    "        deriving (Eq,Ord,Show)\n",
    "\n",
    "data SExp = SVal Int          -- n\n",
    "          | SAdd [Expr]       -- (+ e1 e2 ... en)\n",
    "          | Cond [(Expr,Expr)] Expr {- (cond [e1'  e1]\n",
    "                                             [e2'  e2]\n",
    "                                             ...\n",
    "                                             [en'  en]\n",
    "                                             [else e0])    -}\n",
    "          | SVar String       -- x\n",
    "        deriving (Eq,Ord,Show)"
   ]
  },
  {
   "cell_type": "markdown",
   "metadata": {},
   "source": [
    "----\n",
    "### 05. S-expression 변환 (5점)\n",
    "`SExp` 타입의 식을 같은 의미의 `Expr` 타입의 식으로 변환하는 함수 `toExpr`을 작성하라.\n",
    "\n",
    "참고로 cond-식에 대한 경우를 제외하고 제대로 작성한 경우는 부분점수 2점에 해당한다."
   ]
  },
  {
   "cell_type": "code",
   "execution_count": 33,
   "metadata": {},
   "outputs": [],
   "source": [
    "toExpr :: SExp -> Expr\n",
    "toExpr (SVal n) = Val n\n",
    "toExpr (SVar x) = Var x\n",
    "toExpr (SAdd xs) = foldr Add (Val 0) xs\n",
    "toExpr (Cond ps e0) = foldr (uncurry If) e0 ps "
   ]
  },
  {
   "cell_type": "code",
   "execution_count": 19,
   "metadata": {},
   "outputs": [],
   "source": [
    "toExpr :: SExp -> Expr\n",
    "toExpr (SVal n) = Val n\n",
    "toExpr (SVar x) = Var x\n",
    "toExpr (SAdd []) = Val 0\n",
    "toExpr (SAdd (e:es)) = Add e (toExpr (SAdd es))\n",
    "toExpr (Cond [] e0) = e0\n",
    "toExpr (Cond ((e',e):ps) e0) = If e' e (toExpr (Cond ps e0))"
   ]
  },
  {
   "cell_type": "markdown",
   "metadata": {},
   "source": [
    "----\n",
    "### 06. S-expression 인터프리터 (5점)\n",
    "S-expression의 인터프리터, 즉 `evalS :: Env -> SExp -> Int` 함수를 정의하라.\n",
    "\n",
    "단, 앞선 문제의 답을 활용해 `SExp`를 `Expr`로 변환한 뒤 `Expr`의 인터프리터로 실행하는 방식이 아닌\n",
    "직접 `SExp`에 대한 인터프리터를 함수를 정의할 것.\n",
    "\n",
    "참고로 cond-식에 대한 경우를 제외하고 제대로 작성한 경우는 부분점수 2점에 해당한다."
   ]
  },
  {
   "cell_type": "code",
   "execution_count": 20,
   "metadata": {},
   "outputs": [],
   "source": [
    "-- 5번 문제를 쉽게 하려다 보니 꼬여서 6번 문제가 어려워졌습니다\n",
    "-- 그래서 이 문제를 풀려면 eval :: Env -> Expr -> Int 도 같이 정의해야 합니다\n",
    "\n",
    "type Env = [ (String, Int) ]\n",
    "\n",
    "evalS :: Env -> SExp -> Int\n",
    "evalS _  (SVal n) = n\n",
    "evalS env (SVar x) = lookup' x env\n",
    "evalS env (SAdd es) = sum (map (eval env) es)\n",
    "evalS env (Cond [] e0) = eval env e0\n",
    "evalS env (Cond ((e',e):ps) e0) =\n",
    "    if eval env e' == 0 then eval env e\n",
    "                        else evalS env (Cond ps e0)\n",
    "\n",
    "eval :: Env -> Expr -> Int\n",
    "eval _   (Val n) = n\n",
    "eval env (Var x) = lookup' x env\n",
    "eval env (Add e1 e2) = eval env e1 + eval env e2\n",
    "\n",
    "lookup' x env = case lookup x env of\n",
    "                  Nothing -> error(x++\" not defined\")\n",
    "                  Just v -> v"
   ]
  },
  {
   "cell_type": "code",
   "execution_count": 21,
   "metadata": {},
   "outputs": [],
   "source": [
    "-- 원래 06번 문제는 다음과 같은 데이타 구조를 의도로 작성된 문제였습니다\n",
    "data SExp' = SVal' Int                   -- n\n",
    "           | SAdd' [SExp']               -- (+ e1 e2 ... en)\n",
    "           | Cond' [(SExp',SExp')] SExp' {- (cond [e1'  e1]\n",
    "                                             [e2'  e2]\n",
    "                                             ...\n",
    "                                             [en'  en]\n",
    "                                             [else e0])    -}\n",
    "          | SVar' String       -- x\n",
    "        deriving (Eq,Ord,Show)\n",
    "\n",
    "evalS' :: Env -> SExp' -> Int\n",
    "evalS' _   (SVal' n) = n\n",
    "evalS' env (SVar' x) = lookup' x env\n",
    "evalS' env (SAdd' es) = sum (map (evalS' env) es)\n",
    "evalS' env (Cond' [] e0) = evalS' env e0\n",
    "evalS' env (Cond' ((e',e):ps) e0) =\n",
    "    if evalS' env e' == 0 then evalS' env e\n",
    "                          else evalS' env (Cond' ps e0)"
   ]
  },
  {
   "cell_type": "markdown",
   "metadata": {},
   "source": [
    "----\n",
    "### 07. `If` 개수 세기 (2점)\n",
    "`Expr` 타입의 식에 나타나는 `If`의 개수를 세는 `countIf` 함수를 작성하라.\n",
    "\n",
    "`Expr` 타입의 식에 나타나는 `Var`의 개수를 세는 `countVar` 함수를 작성하라.\n",
    "\n",
    "각 함수마다 점수 1점에 해당한다.\n",
    "\n",
    "또한 이 문제는 과제 연동 문제이다.\n",
    " * 두 함수를 제대로 다 작성하면 과제 점수의 100%가 인정된다.\n",
    " * 둘 중 한 함수만 제대로 작성하면 과제 점수의 50%가 인정된다.\n",
    " * 전혀 맞추지 못하면 과제에 필요한 기본 배경을 전혀 이해하지 못하는데\n",
    "   과제들의 정답만 맞게 제출한 비정상적 과제 제출로 간주하여 기존 과제 점수의 -50%로 취한다.\n",
    "   (예를 들어 지금까지 HW01과 HW02의 과제 점수가 3점이었다면 -3점이 되는 것)"
   ]
  },
  {
   "cell_type": "markdown",
   "metadata": {},
   "source": [
    "```haskell\n",
    "data Expr = Val Int           -- n\n",
    "          | Add Expr Expr     -- e1 + e2\n",
    "          | If Expr Expr Expr -- if e then e1 else e0\n",
    "          | Var String        -- x\n",
    "        deriving (Eq,Ord,Show)\n",
    "```"
   ]
  },
  {
   "cell_type": "code",
   "execution_count": 34,
   "metadata": {},
   "outputs": [],
   "source": [
    "countIf :: Expr -> Int\n",
    "countIf (Val _) = 0\n",
    "countIf (Var _) = 0\n",
    "countIf (Add e1 e2) = countIf e1 + countIf e2\n",
    "countIf (If e e1 e0) = 1 + countIf e + countIf e1 + countIf e0"
   ]
  },
  {
   "cell_type": "code",
   "execution_count": 35,
   "metadata": {},
   "outputs": [],
   "source": [
    "countVar :: Expr -> Int\n",
    "countVar (Val _) = 0\n",
    "countVar (Var _) = 1\n",
    "countVar (Add e1 e2) = countVar e1 + countVar e2\n",
    "countVar (If e e1 e0) = countVar e + countVar e1 + countVar e0"
   ]
  },
  {
   "cell_type": "markdown",
   "metadata": {},
   "source": [
    "----\n",
    "### 08. `Cond` 개수 세기 (4점)\n",
    "`SExp` 타입의 식에 나타나는 `Cond`의 개수를 세는 `countCond` 함수를 작성하라.\n",
    "\n",
    "혹시 07번에서 실수가 있었더라도 이 문제를 제대로 작성하면 과제 점수의 100%가 인정된다.\n",
    "\n",
    "참고로 부분점수는 없다."
   ]
  },
  {
   "cell_type": "code",
   "execution_count": 49,
   "metadata": {},
   "outputs": [],
   "source": [
    "countCond :: SExp -> Int\n",
    "countCond (SVal _) = 0\n",
    "countCond (SVar _) = 0\n",
    "countCond (SAdd _) = 0\n",
    "countCond (Cond _ _) = 1"
   ]
  },
  {
   "cell_type": "markdown",
   "metadata": {},
   "source": [
    "----\n",
    "### 09. 자유이름 (5점)\n",
    "주어진 람다식의 자유이름을 계산하는 `freeVars :: Tm -> [Nm]` 함수를 작성하라.\n",
    "\n",
    "람다식에서 자유이름이란 람다로 시작하는 함수정의식으로 정의되어 묶인이름이 아닌 나머지 이름들을 뜻한다.\n",
    "\n",
    "다음의 두 람다식을 살펴보자.\n",
    "\n",
    " 1. $(\\lambda x.(\\lambda y.x~(y~\\color{red}{z}))~\\color{red}{w})$\n",
    "    - 빨강색으로 표시된 $\\color{red}{z}$와 $\\color{red}{w}$가 자유이름에 해당한다.\n",
    " 1. $((\\lambda x.x~\\color{red}{y})~(\\lambda y.\\color{red}{x}~y))$\n",
    "    같은 문자열로 이루어진 이름이라도 그 위치에 따라 자유이름이 될 수도 있고 묶인이름이 될 수도 있다.\n",
    "    - 왼쪽 부분식에 나타나는 $x$는 묶인이름이지만\n",
    "      오른쪽 부분식에 나타나는 $\\color{red}{x}$는 자유이름이다. <br>\n",
    "      왜냐하면 왼쪽의 묶인이름 $x$의 범위는 바로 그 왼쪽 부분식,\n",
    "      즉 함수정의식 $(\\lambda x.x~\\color{red}{y})$에 한정되기 때문이다.\n",
    "    - 왼쪽 부분식에 나타나는 $\\color{red}{y}$는 자유이름이지만\n",
    "      오른쪽 부분식에 나타나는 $y$는 묶인이름이다. <br>\n",
    "      왜냐하면 오른쪽의 묶인이름 $y$의 범위는 바로 그 오른쪽 부분식,\n",
    "      즉 함수정의식 $(\\lambda y.\\color{red}{x}~y)$에 한정되기 때문이다.\n",
    "    \n",
    "위에서 살펴본 첫째 람다식에 `freeVars`를 적용한 결과는 `[\"w\",\"z\"]`가 된다. (순서는 관계없으므로 `[\"z\",\"w\"]`도 가능)\n",
    "\n",
    "위에서 살펴본 둘째 람다식에 `freeVars`를 적용한 결과는 `[\"y\",\"x\"]`가 된다. (순서는 관계없으므로 `[\"x\",\"y\"]`도 가능).\n",
    "\n",
    "단, `freeVars` 함수의 결과로 계산되는 리스트에는 중복된 원소가 없도록 하라."
   ]
  },
  {
   "cell_type": "code",
   "execution_count": 23,
   "metadata": {},
   "outputs": [],
   "source": [
    "import Data.List -- union, (\\\\) 등\n",
    "\n",
    "data Tm = Var Nm      -- x       이름\n",
    "        | Lam Nm Tm   -- (λx.e)  함수정의식\n",
    "        | App Tm Tm   -- (e1 e2) 함수적용식\n",
    "      deriving (Eq,Ord,Show)\n",
    "\n",
    "type Nm = String"
   ]
  },
  {
   "cell_type": "code",
   "execution_count": 24,
   "metadata": {},
   "outputs": [
    {
     "data": {
      "text/plain": [
       "[\"x\",\"y\",\"z\",\"w\"]"
      ]
     },
     "metadata": {},
     "output_type": "display_data"
    }
   ],
   "source": [
    "-- 합집합 연산에 해당\n",
    "[\"x\",\"y\",\"z\"] `union` [\"y\",\"w\"]"
   ]
  },
  {
   "cell_type": "code",
   "execution_count": 25,
   "metadata": {},
   "outputs": [
    {
     "data": {
      "text/plain": [
       "[\"y\",\"w\"]"
      ]
     },
     "metadata": {},
     "output_type": "display_data"
    }
   ],
   "source": [
    "-- 차집합 연산에 해당\n",
    "[\"x\",\"y\",\"z\",\"w\"] \\\\ [\"x\",\"z\"]"
   ]
  },
  {
   "cell_type": "code",
   "execution_count": 27,
   "metadata": {},
   "outputs": [],
   "source": [
    "freeVars :: Tm -> [Nm]\n",
    "freeVars (Var x) = [x]\n",
    "freeVars (Lam x e) = freeVars e \\\\ [x]\n",
    "freeVars (App e1 e2) = freeVars e1 `union` freeVars e2"
   ]
  },
  {
   "cell_type": "code",
   "execution_count": 30,
   "metadata": {},
   "outputs": [
    {
     "data": {
      "text/plain": [
       "[\"z\",\"w\"]"
      ]
     },
     "metadata": {},
     "output_type": "display_data"
    }
   ],
   "source": [
    "freeVars (Lam \"x\" (App (Lam \"y\" (App (Var \"x\")\n",
    "                                     (App (Var \"y\") (Var \"z\"))))\n",
    "                       (Var \"w\") )\n",
    "         )"
   ]
  },
  {
   "cell_type": "code",
   "execution_count": 29,
   "metadata": {},
   "outputs": [
    {
     "data": {
      "text/plain": [
       "[\"y\",\"x\"]"
      ]
     },
     "metadata": {},
     "output_type": "display_data"
    }
   ],
   "source": [
    "freeVars (App (Lam \"x\" (App (Var \"x\") (Var \"y\")))\n",
    "              (Lam \"y\" (App (Var \"x\") (Var \"y\"))) )"
   ]
  },
  {
   "cell_type": "markdown",
   "metadata": {},
   "source": [
    "----\n",
    "\n",
    "# 10. 표준형(normal form) (2점)\n",
    "$\\big((\\lambda x.\\lambda y.(\\lambda z.z~x~y)~x)~(\\lambda x.\\lambda y.x)\\big)$\n",
    "\n",
    "위 식의 표준형을 쓰라.\n",
    "\n",
    "```\n",
    "답은 여기에 (\\x.x) 이런 식으로\n",
    "\n",
    "    (\\x.\\y.(\\z.z x y) x) (\\x.\\y.x)\n",
    "--> (\\x.\\y.x x y) (\\x.\\y.x)\n",
    "--> \\y.(\\x.\\y.x) (\\x.\\y.x) y\n",
    "--> \\y.\\x.\\y.x\n",
    "```"
   ]
  },
  {
   "cell_type": "markdown",
   "metadata": {},
   "source": [
    "----\n",
    "# 11. call-by-value 값계산 (2점)\n",
    "다음 식을 call-by-value로 계산한 값에 해당하는 람다식을 쓰라.\n",
    "\n",
    "$\\big((\\lambda x.\\lambda y.(\\lambda z.z~x~y)~x)~(\\lambda x.\\lambda y.x)\\big)$\n",
    "\n",
    "```\n",
    "답은 여기에 (\\x.x) 이런 식으로\n",
    "\n",
    "    (\\x.\\y.(\\z.z x y) x) (\\x.\\y.x)\n",
    "--> \\y.(\\z.z (\\x.\\y.x) y) (\\x.\\y.x)\n",
    "```"
   ]
  },
  {
   "cell_type": "code",
   "execution_count": null,
   "metadata": {},
   "outputs": [],
   "source": []
  }
 ],
 "metadata": {
  "kernelspec": {
   "display_name": "Haskell",
   "language": "haskell",
   "name": "haskell"
  },
  "language_info": {
   "codemirror_mode": "ihaskell",
   "file_extension": ".hs",
   "name": "haskell",
   "pygments_lexer": "Haskell",
   "version": "8.6.5"
  }
 },
 "nbformat": 4,
 "nbformat_minor": 4
}
