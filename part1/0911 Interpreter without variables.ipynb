{
 "cells": [
  {
   "cell_type": "code",
   "execution_count": 1,
   "metadata": {},
   "outputs": [],
   "source": [
    ":opt no-lint"
   ]
  },
  {
   "cell_type": "markdown",
   "metadata": {},
   "source": [
    "# 인터프리터 맛보기\n",
    "\n",
    "* PiH2nd 8.7, 16.7, 17"
   ]
  },
  {
   "cell_type": "code",
   "execution_count": 2,
   "metadata": {},
   "outputs": [],
   "source": [
    "data Expr = Val Int\n",
    "          | Add Expr Expr\n",
    "          deriving Show"
   ]
  },
  {
   "cell_type": "code",
   "execution_count": 3,
   "metadata": {},
   "outputs": [],
   "source": [
    "eval :: Expr -> Int\n",
    "eval (Val n) = n\n",
    "eval (Add e1 e2) = eval e1 + eval e2"
   ]
  },
  {
   "cell_type": "code",
   "execution_count": 4,
   "metadata": {},
   "outputs": [
    {
     "data": {
      "text/plain": [
       "9"
      ]
     },
     "metadata": {},
     "output_type": "display_data"
    }
   ],
   "source": [
    "eval (Add (Add (Val 2) (Val 3)) (Val 4)) -- (2 + 3) + 4"
   ]
  },
  {
   "cell_type": "code",
   "execution_count": 5,
   "metadata": {},
   "outputs": [
    {
     "data": {
      "text/plain": [
       "9"
      ]
     },
     "metadata": {},
     "output_type": "display_data"
    }
   ],
   "source": [
    "eval $ (Val 2 `Add` Val 3) `Add` (Val 4) -- (2 + 3) + 4"
   ]
  },
  {
   "cell_type": "markdown",
   "metadata": {},
   "source": [
    "위에서 살펴본 가장 간단한 인터프리터는 분명 맞는 결과를 계산한다.\n",
    "하지만 내가 정의한 언어에서 계산 순서를 정하고 싶다면 어떨까?\n",
    "예를 들어 어떤 언어는 함수를 호출할 때 왼쪽에 있는 인자부터 먼저 계산한다던가\n",
    "또 다른 언어는 오른쪽에 있는 인자부터 계산한다던가 하는 순서를 정해 놓기도 하고,\n",
    "또 어떤 언어는 그런 순서는 정의되어 있지 않고 언어를 구현하는 사람이\n",
    "(즉 인터프리터나 컴파일러 등을 만드는 개발자가) 자유롭게 해도 무방하다고 약속하는 경우도 있다.\n",
    "\n",
    "만약 우리의 정수 덧셈 언어에서 덧셈의 왼쪽부터 먼저 항상 계산하도록 하려면 eval과는 조금 다른 방식으로 인터프리터를 정의해야 된다.\n",
    "이제부터는 스택이라는 데이타 구조를 활용해 연산자의 왼쪽부터 계산 순서를 강제하는 (... 것처럼 보이는 ...) 함수를 정의해 보자.\n",
    "\n",
    "\"강제하는 (... 것처럼 보이는 ...)\"이라고 이야기하는 이유는 하스켈이 기본적으로 게으른 계산법을 따르는 프로그래밍 언어이기 때문에\n",
    "아래와 같은 코드에서는 GHC가 제공하는 언어 확장 기능을 사용해야 실제로 계산 순서가 강제되지만 여기서는 그냥 개념적으로만 이해를\n",
    "돕기 위한 코드로 생각하자. (실제로 하스켈 프로그램 실행시에 우리가 의도한 대로 계산 순서를 강제하려면\n",
    "`BangPattenrs`라는 GHC 확장을 허용하고 `push !n s = n : s`라고 정의를 수정하면 되긴 하는데 수업 진행상 여기까지 ㅁ로라도 된다)"
   ]
  },
  {
   "cell_type": "code",
   "execution_count": 6,
   "metadata": {},
   "outputs": [],
   "source": [
    "type Stack = [ Int ]\n",
    "\n",
    "-- 스택 기본 연산\n",
    "push :: Int -> Stack -> Stack\n",
    "push n s = n : s\n",
    "pop :: Stack -> Stack\n",
    "pop (n:s) = s\n",
    "top :: Stack -> Int\n",
    "top (n:_) = n\n",
    "\n",
    "-- 스택 기본 연산으로 스택을 활용한 덧셈 연산 정의\n",
    "addL :: Stack -> Stack\n",
    "addL s2 = push (n1+n2) s0\n",
    "  where  -- addL [3,4,5,6] 즉 s2 = [3,4,5,6] 이면\n",
    "    n2 = top s2  -- n2 = 3\n",
    "    s1 = pop s2  -- s1 = [4,5,6]\n",
    "    n1 = top s1  -- n1 = 4\n",
    "    s0 = pop s1  -- s0 = [5,6]\n",
    "\n",
    "evalL :: Expr -> Stack -> Stack\n",
    "evalL (Val n)     s = push n s\n",
    "evalL (Add e1 e2) s = addL s2\n",
    "  where \n",
    "  s1 = evalL e1 s\n",
    "  s2 = evalL e2 s1"
   ]
  },
  {
   "cell_type": "code",
   "execution_count": 7,
   "metadata": {},
   "outputs": [
    {
     "data": {
      "text/plain": [
       "[9]"
      ]
     },
     "metadata": {},
     "output_type": "display_data"
    }
   ],
   "source": [
    "evalL (Add (Add (Val 2) (Val 3)) (Val 4)) [] -- (2 + 3) + 4"
   ]
  },
  {
   "cell_type": "markdown",
   "metadata": {},
   "source": [
    "```haskell\n",
    "evalL (Add (Add (Val 2) (Val 3)) (Val 4)) s0\n",
    "\n",
    "        evalL (Add (Val 2) (Val 3)) s0 \n",
    "                evalL (Val 2) s0     ~~>   2:s0\n",
    "                evalL (Val 3) (2:s0) ~~> 3:2:s0\n",
    "        ~~>   5:s0\n",
    "        \n",
    "        evalL (Val 4)\n",
    "        ~~> 4:5:s0\n",
    "\n",
    "~~>\n",
    "9:s0\n",
    "```"
   ]
  },
  {
   "cell_type": "markdown",
   "metadata": {},
   "source": [
    "----\n",
    "###### 연습문제\n",
    "연산자의 오른쪽부터 먼저 계산하는 `evalR` 을 정의하라."
   ]
  },
  {
   "cell_type": "code",
   "execution_count": 8,
   "metadata": {},
   "outputs": [],
   "source": [
    "-- evalR :: Expr -> Stack -> Stack"
   ]
  },
  {
   "cell_type": "markdown",
   "metadata": {},
   "source": [
    "----"
   ]
  },
  {
   "cell_type": "code",
   "execution_count": 9,
   "metadata": {},
   "outputs": [],
   "source": [
    "-- Kont는 스택 변환 함수의 타입을 줄여서 쓴 것\n",
    "type Kont = Stack -> Stack\n",
    "\n",
    "pushK :: Int -> Kont\n",
    "pushK n = push n\n",
    "\n",
    "addLK :: Kont\n",
    "addLK = addL\n",
    "\n",
    "evalL' :: Expr -> Kont\n",
    "evalL' (Val n)     = pushK n\n",
    "evalL' (Add e1 e2) = addLK . evalL' e2 . evalL' e1"
   ]
  },
  {
   "cell_type": "markdown",
   "metadata": {},
   "source": [
    "결국 evalL과 같은 일을 하는 함수인데 이렇게 포장을 좀 바꾸니\n",
    "evalL'는 이전 단계 스택을 받아 다음 단계의 스택을 내놓는 함수로 이해할 수 있다.\n",
    "즉 스택을 활용한 인터프리터는 스택 변환 함수를 만들어내는 함수인 것이다.\n",
    "   \n",
    "계산 결과는 `evalL`과 당연히 같다."
   ]
  },
  {
   "cell_type": "code",
   "execution_count": 10,
   "metadata": {},
   "outputs": [
    {
     "data": {
      "text/plain": [
       "[9]"
      ]
     },
     "metadata": {},
     "output_type": "display_data"
    }
   ],
   "source": [
    "evalL' (Add (Add (Val 2) (Val 3)) (Val 4)) [] -- (2 + 3) + 4"
   ]
  },
  {
   "cell_type": "markdown",
   "metadata": {},
   "source": [
    "하지만 이렇게 정의를 스택 변환 함수를 만들어내는 함수로써 인터프리터를 이해할 수 있으므로\n",
    "합성함수의 성질을 이용한 아래와 같은 식 전개가 가능하다.\n",
    "\n",
    "```haskell\n",
    "  evalL' (Add (Add (Val 2) (Val 3)) (Val 4)) s0\n",
    "= addLK . evalL' (Add (Val 2) (Val 3)) . eval (Val 4)  $ s0\n",
    "= addLK . (addLK . pushK 2 . pushK 3) . pushK 4  $ s0\n",
    "= addLK .  addLK . pushK 2 . pushK 3  . pushK 4  $ s0\n",
    "= addLK (addLK (pushK 2 (pushK 3 (pushK 4 s0))))\n",
    "= addLK (addLK (pushK 2 (pushK 3 (4 : s0))))\n",
    "= addLK (addLK (pushK 2 (3 : 4 : s0)))\n",
    "= addLK (addLK (2 : 3 : 4 : s0))\n",
    "= addLK (5 : 4 : s0)\n",
    "= addLK (9 : s0)\n",
    "```"
   ]
  },
  {
   "cell_type": "markdown",
   "metadata": {},
   "source": [
    "----\n",
    "###### 연습문제\n",
    "컨티뉴에이션 즉 \"다음에 할 일\" 개념을 바탕으로\n",
    "연산자의 오른쪽부터 먼저 계산하는 `evalR'` 을 정의하라.\n",
    "오른쪽부터 먼저 계산된 경우의 스택에 대해 \"다음에 할 일\"로\n",
    "덧셈을 하는 `addRK :: Kont`를 정의하고 나면 그 다음부터는 쉽다."
   ]
  },
  {
   "cell_type": "code",
   "execution_count": 11,
   "metadata": {},
   "outputs": [],
   "source": [
    "-- addRK :: Kont\n",
    "\n",
    "-- evalR' :: Expr -> Kont"
   ]
  },
  {
   "cell_type": "markdown",
   "metadata": {},
   "source": [
    "----"
   ]
  }
 ],
 "metadata": {
  "kernelspec": {
   "display_name": "Haskell",
   "language": "haskell",
   "name": "haskell"
  },
  "language_info": {
   "codemirror_mode": "ihaskell",
   "file_extension": ".hs",
   "name": "haskell",
   "pygments_lexer": "Haskell",
   "version": "8.6.5"
  }
 },
 "nbformat": 4,
 "nbformat_minor": 4
}
