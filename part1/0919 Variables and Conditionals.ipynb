{
 "cells": [
  {
   "cell_type": "markdown",
   "metadata": {},
   "source": [
    "# 인터프리터에서 변수, 조건문 다루기\n",
    "\n",
    "덧셈만 하던 언어에 이름(변수)와 조건문을 추가해 보자. 더많이 추가해 보고 싶으면 나머지 사칙연산을 나름대로 추가해 보아도 된다."
   ]
  },
  {
   "cell_type": "code",
   "execution_count": 1,
   "metadata": {},
   "outputs": [],
   "source": [
    "data Expr = Var String         -- x\n",
    "          | Val Int            -- n\n",
    "          | Add Expr Expr      -- e1 + e2\n",
    "          | If Expr Expr Expr  -- if e then e1 else e0\n",
    "          deriving Show\n",
    "\n",
    "-- 실행시 이름에 대응되는 값을 찾아볼 수 있는 (실행)환경(environment)\n",
    "type Env = [ (String, Int) ]  \n",
    "\n",
    "eval :: Env -> Expr -> Int\n",
    "eval env (Var x) = case lookup x env of\n",
    "                     Nothing -> error (x ++ \" not found\") \n",
    "                     Just n  -> n\n",
    "eval env (Val n) = n\n",
    "eval env (Add e1 e2) = eval env e1 + eval env e2\n",
    "eval env (If e e1 e0) = if eval env e == 0\n",
    "                           then eval env e0\n",
    "                           else eval env e1\n",
    "                    {-- case eval env e of\n",
    "                          0 -> eval env e0\n",
    "                          _ -> eval env e1 -}"
   ]
  },
  {
   "cell_type": "markdown",
   "metadata": {},
   "source": [
    "`lookup`이라는 함수는 찾으면 데이터 생성자 `Just`로 포장된 값을, 없으면 데이터 상수 `Nothing`을 돌려준다.\n",
    "참고로 `Just`와 `Nothing`은 아래와 같이 표준라이브러리에 정의되어 있는 `Maybe` 타입의 데이타 생성자 및 상수이다.\n",
    "```haskell\n",
    "data Maybe a = Nothing | Just a\n",
    "```"
   ]
  },
  {
   "cell_type": "code",
   "execution_count": 2,
   "metadata": {},
   "outputs": [
    {
     "data": {
      "text/html": [
       "<style>/* Styles used for the Hoogle display in the pager */\n",
       ".hoogle-doc {\n",
       "display: block;\n",
       "padding-bottom: 1.3em;\n",
       "padding-left: 0.4em;\n",
       "}\n",
       ".hoogle-code {\n",
       "display: block;\n",
       "font-family: monospace;\n",
       "white-space: pre;\n",
       "}\n",
       ".hoogle-text {\n",
       "display: block;\n",
       "}\n",
       ".hoogle-name {\n",
       "color: green;\n",
       "font-weight: bold;\n",
       "}\n",
       ".hoogle-head {\n",
       "font-weight: bold;\n",
       "}\n",
       ".hoogle-sub {\n",
       "display: block;\n",
       "margin-left: 0.4em;\n",
       "}\n",
       ".hoogle-package {\n",
       "font-weight: bold;\n",
       "font-style: italic;\n",
       "}\n",
       ".hoogle-module {\n",
       "font-weight: bold;\n",
       "}\n",
       ".hoogle-class {\n",
       "font-weight: bold;\n",
       "}\n",
       ".get-type {\n",
       "color: green;\n",
       "font-weight: bold;\n",
       "font-family: monospace;\n",
       "display: block;\n",
       "white-space: pre-wrap;\n",
       "}\n",
       ".show-type {\n",
       "color: green;\n",
       "font-weight: bold;\n",
       "font-family: monospace;\n",
       "margin-left: 1em;\n",
       "}\n",
       ".mono {\n",
       "font-family: monospace;\n",
       "display: block;\n",
       "}\n",
       ".err-msg {\n",
       "color: red;\n",
       "font-style: italic;\n",
       "font-family: monospace;\n",
       "white-space: pre;\n",
       "display: block;\n",
       "}\n",
       "#unshowable {\n",
       "color: red;\n",
       "font-weight: bold;\n",
       "}\n",
       ".err-msg.in.collapse {\n",
       "padding-top: 0.7em;\n",
       "}\n",
       ".highlight-code {\n",
       "white-space: pre;\n",
       "font-family: monospace;\n",
       "}\n",
       ".suggestion-warning { \n",
       "font-weight: bold;\n",
       "color: rgb(200, 130, 0);\n",
       "}\n",
       ".suggestion-error { \n",
       "font-weight: bold;\n",
       "color: red;\n",
       "}\n",
       ".suggestion-name {\n",
       "font-weight: bold;\n",
       "}\n",
       "</style><span class='get-type'>lookup :: forall a b. Eq a => a -> [(a, b)] -> Maybe b</span>"
      ],
      "text/plain": [
       "lookup :: forall a b. Eq a => a -> [(a, b)] -> Maybe b"
      ]
     },
     "metadata": {},
     "output_type": "display_data"
    },
    {
     "data": {
      "text/plain": [
       "Just 3"
      ]
     },
     "metadata": {},
     "output_type": "display_data"
    },
    {
     "data": {
      "text/plain": [
       "Just 4"
      ]
     },
     "metadata": {},
     "output_type": "display_data"
    },
    {
     "data": {
      "text/plain": [
       "Nothing"
      ]
     },
     "metadata": {},
     "output_type": "display_data"
    }
   ],
   "source": [
    ":type lookup\n",
    "lookup \"x\" [(\"x\",3),(\"y\",4)]\n",
    "lookup \"y\" [(\"x\",3),(\"y\",4)]\n",
    "lookup \"z\" [(\"x\",3),(\"y\",4)]"
   ]
  },
  {
   "cell_type": "markdown",
   "metadata": {},
   "source": [
    "우리 장난감 언어의 추상 문법 구조와 인터프리터를 정의한\n",
    "위 하스켈 코드를 프로그래밍언어 관련 교과서나 논문 및 기술문서 등에서\n",
    "많이 볼 수 있는 수식 기호 표기로 옮겨놓자면 다음과 같다.\n",
    "\n",
    "###### 문법 syntax\n",
    "$ x,y,z,\\ldots \\in \\textit{String} $\n",
    "\n",
    "$ n,m \\in \\textit{Int} $\n",
    "\n",
    "$ e \\in \\textit{Expr} ::= x ~\\mid~ n ~\\mid~ e_1+e_2 \\\\ \\qquad\\qquad~\\mid~ \\texttt{if}\\,~e~\\,\\texttt{then}\\,~e_1~\\,\\texttt{else}\\,~e_0 $\n",
    "\n",
    "###### 환경 environment\n",
    "$ \\textit{Env} = \\textit{String} \\xrightarrow{\\textrm{fin}} \\textit{Int} \\\\\n",
    "  \\sigma \\in \\textit{Env} ::= \\{ x_1 \\mapsto n_1,~\\ldots,~x_k\\mapsto n_k \\}$\n",
    "\n",
    "###### 실행규칙 evaluation rules\n",
    "\n",
    "$\\displaystyle\n",
    "\\frac{~~}{\n",
    "      x \\Downarrow_\\sigma \\sigma(x)}\n",
    "\\qquad\n",
    "\\frac{~~}{\n",
    "      n \\Downarrow_\\sigma n}\n",
    "\\qquad\n",
    "\\frac{e_1 \\Downarrow_\\sigma n_1 \\quad e_2 \\Downarrow_\\sigma n_2 \\quad n = n_1+n_2}{\n",
    "      e_1 + e_2 \\Downarrow_\\sigma n}\n",
    "$\n",
    "\n",
    "$~$\n",
    "\n",
    "$\\displaystyle\n",
    "\\frac{e\\Downarrow_\\sigma 0 \\quad e_1 \\Downarrow_\\sigma n}{\n",
    "      \\texttt{if}\\,~e~\\,\\texttt{then}\\,~e_1~\\,\\texttt{else}\\,~e_0 \\Downarrow_\\sigma n}\n",
    "\\qquad\n",
    "\\frac{e\\Downarrow_\\sigma m \\quad e_1 \\Downarrow_\\sigma n \\quad m\\neq0}{\n",
    "      \\texttt{if}\\,~e~\\,\\texttt{then}\\,~e_1~\\,\\texttt{else}\\,~e_0 \\Downarrow_\\sigma n}\n",
    "$\n",
    "\n",
    "----"
   ]
  },
  {
   "cell_type": "markdown",
   "metadata": {},
   "source": [
    "`if b then (x + 3) else y`와 같은 코드를 `Expr` 타입의 하스켈 데이터로 다음과 같이 나타낼 수 있다."
   ]
  },
  {
   "cell_type": "code",
   "execution_count": 4,
   "metadata": {},
   "outputs": [],
   "source": [
    "e = If (Var \"b\") (Add (Var \"x\") (Val 3)) (Var \"y\")"
   ]
  },
  {
   "cell_type": "markdown",
   "metadata": {},
   "source": [
    "이 코드를 실행하려면 $\\sigma = \\{ x \\mapsto 2, y \\mapsto 4, b \\mapsto 0 \\}$과 같은 환경이 필요하다.\n",
    "인터프리터 함수에 환경과 식을 같이 넘겨 ($\\texttt{eval}~\\,\\sigma\\,~\\texttt{e}$) 실행하면 된다. "
   ]
  },
  {
   "cell_type": "code",
   "execution_count": 7,
   "metadata": {},
   "outputs": [
    {
     "data": {
      "text/plain": [
       "4"
      ]
     },
     "metadata": {},
     "output_type": "display_data"
    }
   ],
   "source": [
    "eval [(\"x\",2), (\"y\",4), (\"b\",0)] e"
   ]
  },
  {
   "cell_type": "markdown",
   "metadata": {},
   "source": [
    "이번에는 $\\{ x \\mapsto 2, y \\mapsto 4, b \\mapsto 1 \\}$ 환경으로 실행해 보자."
   ]
  },
  {
   "cell_type": "code",
   "execution_count": 8,
   "metadata": {},
   "outputs": [
    {
     "data": {
      "text/plain": [
       "5"
      ]
     },
     "metadata": {},
     "output_type": "display_data"
    }
   ],
   "source": [
    "eval [(\"x\",2), (\"y\",4), (\"b\",1)] e  "
   ]
  },
  {
   "cell_type": "markdown",
   "metadata": {},
   "source": [
    "실행 환경은 코드에 나타나는 이름에 대한 값을 모두 포함하고 있어야 한다.\n",
    "그렇지 않을 경우 예컨대 $\\{ x \\mapsto 2, y \\mapsto 4 \\}$ 같은 환경으로 실행한다면 ..."
   ]
  },
  {
   "cell_type": "code",
   "execution_count": 9,
   "metadata": {},
   "outputs": [
    {
     "ename": "",
     "evalue": "",
     "header": "MessageHeader {mhIdentifiers = [\"459e2be2-f72c-4fee-b574-4d134a695a32\"], mhParentHeader = Just (MessageHeader {mhIdentifiers = [\"459e2be2-f72c-4fee-b574-4d134a695a32\"], mhParentHeader = Nothing, mhMetadata = Metadata (fromList [(\"deletedCells\",Array []),(\"cellId\",String \"6f583553-be37-49a4-be5b-a5a5e3a4021f\")]), mhMessageId = UUID {uuidToString = \"6bcffcc0-64be-4cb3-ae6a-7539567193f3\"}, mhSessionId = UUID {uuidToString = \"459e2be2-f72c-4fee-b574-4d134a695a32\"}, mhUsername = \"\", mhMsgType = ExecuteRequestMessage}), mhMetadata = Metadata (fromList []), mhMessageId = UUID {uuidToString = \"4b60b660-cb94-46bf-a612-12ef1a2772f6\"}, mhSessionId = UUID {uuidToString = \"459e2be2-f72c-4fee-b574-4d134a695a32\"}, mhUsername = \"\", mhMsgType = ExecuteErrorMessage}",
     "output_type": "error",
     "traceback": [
      "b not found\nCallStack (from HasCallStack):\n  error, called at <interactive>:9:33 in interactive:Ghci3"
     ]
    }
   ],
   "source": [
    "eval [(\"x\",2), (\"y\",4)]          e -- 에러 발생"
   ]
  },
  {
   "cell_type": "code",
   "execution_count": null,
   "metadata": {},
   "outputs": [],
   "source": []
  }
 ],
 "metadata": {
  "kernelspec": {
   "display_name": "Haskell",
   "language": "haskell",
   "name": "haskell"
  },
  "language_info": {
   "codemirror_mode": "ihaskell",
   "file_extension": ".hs",
   "name": "haskell",
   "pygments_lexer": "Haskell",
   "version": "8.6.5"
  }
 },
 "nbformat": 4,
 "nbformat_minor": 4
}
